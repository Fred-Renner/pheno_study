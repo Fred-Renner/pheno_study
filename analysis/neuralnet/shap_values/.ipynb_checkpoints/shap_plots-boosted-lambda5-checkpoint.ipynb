{
 "cells": [
  {
   "cell_type": "code",
   "execution_count": 1,
   "metadata": {},
   "outputs": [
    {
     "name": "stdout",
     "output_type": "stream",
     "text": [
      "hello world\n"
     ]
    }
   ],
   "source": [
    "print (\"hello world\")"
   ]
  },
  {
   "cell_type": "code",
   "execution_count": 2,
   "metadata": {},
   "outputs": [
    {
     "name": "stdout",
     "output_type": "stream",
     "text": [
      "Welcome to JupyROOT 6.14/04\n"
     ]
    },
    {
     "name": "stderr",
     "output_type": "stream",
     "text": [
      "Using TensorFlow backend.\n"
     ]
    },
    {
     "ename": "ModuleNotFoundError",
     "evalue": "No module named 'numpy.core._multiarray_umath'",
     "output_type": "error",
     "traceback": [
      "\u001b[0;31m---------------------------------------------------------------------------\u001b[0m",
      "\u001b[0;31mModuleNotFoundError\u001b[0m                       Traceback (most recent call last)",
      "\u001b[0;32m/cvmfs/sft.cern.ch/lcg/views/LCG_94python3/x86_64-slc6-gcc8-opt/lib/ROOT.py\u001b[0m in \u001b[0;36m_importhook\u001b[0;34m(name, *args, **kwds)\u001b[0m\n\u001b[1;32m    459\u001b[0m       \u001b[0;32mexcept\u001b[0m \u001b[0mException\u001b[0m\u001b[0;34m:\u001b[0m\u001b[0;34m\u001b[0m\u001b[0m\n\u001b[1;32m    460\u001b[0m          \u001b[0;32mpass\u001b[0m\u001b[0;34m\u001b[0m\u001b[0m\n\u001b[0;32m--> 461\u001b[0;31m    \u001b[0;32mreturn\u001b[0m \u001b[0m_orig_ihook\u001b[0m\u001b[0;34m(\u001b[0m \u001b[0mname\u001b[0m\u001b[0;34m,\u001b[0m \u001b[0;34m*\u001b[0m\u001b[0margs\u001b[0m\u001b[0;34m,\u001b[0m \u001b[0;34m**\u001b[0m\u001b[0mkwds\u001b[0m \u001b[0;34m)\u001b[0m\u001b[0;34m\u001b[0m\u001b[0m\n\u001b[0m\u001b[1;32m    462\u001b[0m \u001b[0;34m\u001b[0m\u001b[0m\n\u001b[1;32m    463\u001b[0m \u001b[0m__builtin__\u001b[0m\u001b[0;34m.\u001b[0m\u001b[0m__import__\u001b[0m \u001b[0;34m=\u001b[0m \u001b[0m_importhook\u001b[0m\u001b[0;34m\u001b[0m\u001b[0m\n",
      "\u001b[0;31mModuleNotFoundError\u001b[0m: No module named 'numpy.core._multiarray_umath'"
     ]
    }
   ],
   "source": [
    "# %load ../train_and_append_boosted.py\n",
    "import statistics\n",
    "import collections\n",
    "import getopt, sys\n",
    "import matplotlib.pyplot as plt\n",
    "import numpy as np\n",
    "from numpy import linspace\n",
    "import pandas\n",
    "import math\n",
    "from sklearn.preprocessing import StandardScaler\n",
    "import root_numpy\n",
    "from ROOT import gSystem\n",
    "from root_numpy import root2array, array2tree\n",
    "import time\n",
    "import keras\n",
    "from keras.models import Sequential\n",
    "from keras.layers import Dense, Activation, Dropout\n",
    "from keras.utils import plot_model\n",
    "from math import sqrt\n",
    "from sklearn.metrics import accuracy_score\n",
    "from sklearn.externals import joblib\n",
    "from sklearn.utils import shuffle\n",
    "from sklearn.model_selection import train_test_split\n",
    "import ROOT\n",
    "from sklearn.metrics import roc_curve, auc\n",
    "from scipy import interp\n",
    "from itertools import cycle\n",
    "import shap"
   ]
  },
  {
   "cell_type": "code",
   "execution_count": 4,
   "metadata": {},
   "outputs": [
    {
     "name": "stdout",
     "output_type": "stream",
     "text": [
      "Help on package shap:\n",
      "\n",
      "NAME\n",
      "    shap - # flake8: noqa\n",
      "\n",
      "PACKAGE CONTENTS\n",
      "    _cext\n",
      "    benchmark (package)\n",
      "    common\n",
      "    datasets\n",
      "    explainers (package)\n",
      "    plots (package)\n",
      "\n",
      "SUBMODULES\n",
      "    other\n",
      "\n",
      "FUNCTIONS\n",
      "    unsupported(*args, **kwargs)\n",
      "        # plotting (only loaded if matplotlib is present)\n",
      "\n",
      "DATA\n",
      "    have_matplotlib = True\n",
      "\n",
      "VERSION\n",
      "    0.32.1\n",
      "\n",
      "FILE\n",
      "    /home/paredes/.local/lib/python3.6/site-packages/shap/__init__.py\n",
      "\n",
      "\n"
     ]
    }
   ],
   "source": [
    "help(shap)"
   ]
  },
  {
   "cell_type": "code",
   "execution_count": 5,
   "metadata": {},
   "outputs": [],
   "source": [
    "class MyDict(collections.OrderedDict):\n",
    "    def __missing__(self, key):\n",
    "        val = self[key] = MyDict()\n",
    "        return val\n"
   ]
  },
  {
   "cell_type": "code",
   "execution_count": 46,
   "metadata": {},
   "outputs": [],
   "source": [
    "# This converts a flat ntuple into a numpy array file, which is the input\n",
    "# format used by keras in our setup. Creates one .npz file per analysis in the\n",
    "# directory where you run it.\n",
    "\n",
    "# Location of the lists of ntuples you want to convert to numpy format.\n",
    "# I've assumed that the file lists are named following my convention.\n",
    "# e.g. \"signalFiles_resolved.txt\"\n",
    "appendListLocation = \"../datasets_to_train/\"\n",
    "appendListLocation = \"../datasets_to_append/new_split_ntuples\"\n",
    "\n",
    "# Name of the tree we want to use\n",
    "inTreeName = \"preselection\"\n",
    "\n",
    "# Prefix for the name of the output .npz files\n",
    "outputPrefix = \"trainingData_all_jets_\"\n",
    "#outputPrefix = \"validationData_\"\n",
    "\n",
    "#for analysis in [\"resolved\", \"intermediate\", \"boosted\"]:\n",
    "for analysis in [\"boosted\"]:\n",
    "    inFile_sig   = appendListLocation + \"/signalFiles_\" + analysis + \"_SlfCoup_m1.0.txt\"\n",
    "    inFile_4b    = appendListLocation + \"/4bFiles_\" + analysis + \".txt\"\n",
    "    inFile_2b2j  = appendListLocation + \"/2b2jFiles_\" + analysis + \".txt\"\n",
    "    inFile_ttbar = appendListLocation + \"/ttbarFiles_\" + analysis + \".txt\"\n",
    "\n",
    "    branchList = [\"pT_hh\",\"m_hh\",\n",
    "                  \"nMuon\", \"nElec\",\n",
    "                  \"h1_M\", \"h1_Pt\", \"h1_Eta\", \"h1_Phi\", \"h1_j1_j2_dR\",\n",
    "                  \"h2_M\", \"h2_Pt\", \"h2_Eta\", \"h2_Phi\", \"h2_j1_j2_dR\",\n",
    "                  \"met_Et\", \"met_Phi\",\n",
    "                  \"h1_j1_BTag\",\"h1_j2_BTag\",\"h2_j1_BTag\",\"h2_j2_BTag\"\n",
    "                 ]\n",
    "\n",
    "    nFeatures = len(branchList)-1\n",
    "\n",
    "    filepaths_sig   = []\n",
    "    \n",
    "    filepaths_4b    = []\n",
    "    filepaths_2b2j  = []\n",
    "    filepaths_ttbar = []\n",
    "\n",
    "    f = open(inFile_sig,\"r\")\n",
    "    for line in f:\n",
    "        filepaths_sig.append(line.rstrip())\n",
    "    f.close()\n",
    "\n",
    "    f = open(inFile_4b,\"r\")\n",
    "    for line in f:\n",
    "        filepaths_4b.append(line.rstrip())\n",
    "    f.close()\n",
    "\n",
    "    f = open(inFile_2b2j,\"r\")\n",
    "    for line in f:\n",
    "        filepaths_2b2j.append(line.rstrip())\n",
    "    f.close()\n",
    "\n",
    "    f = open(inFile_ttbar,\"r\")\n",
    "    for line in f:\n",
    "        filepaths_ttbar.append(line.rstrip())\n",
    "    f.close()\n",
    "\n",
    "    dat_sig   = root2array(filepaths_sig,   branches=branchList, treename=inTreeName)\n",
    "\n",
    "    dat_4b    = root2array(filepaths_4b,    branches=branchList, treename=inTreeName)\n",
    "    dat_2b2j  = root2array(filepaths_2b2j,  branches=branchList, treename=inTreeName)\n",
    "    dat_ttbar = root2array(filepaths_ttbar, branches=branchList, treename=inTreeName)\n",
    "\n",
    "    #np.savez(outputPrefix + analysis + \".npz\", sig=dat_sig, bkg_4b=dat_4b, bkg_2b2j=dat_2b2j, bkg_ttbar=dat_ttbar)\n"
   ]
  },
  {
   "cell_type": "code",
   "execution_count": 47,
   "metadata": {},
   "outputs": [],
   "source": [
    "    nFeatures = len(branchList)-1\n"
   ]
  },
  {
   "cell_type": "code",
   "execution_count": 48,
   "metadata": {},
   "outputs": [],
   "source": [
    "# This program trains a neural network based on input numpy array files.\n",
    "# Output is one trained NN file (nn_*.h5) and one scaler file (scaler_*.sav)\n",
    "# per analysis. Optionally also makes plots of the output distributions for the\n",
    "# training sample.\n",
    "\n",
    "### NOTE this program uses 0.2 of the data as a validation set"
   ]
  },
  {
   "cell_type": "code",
   "execution_count": 49,
   "metadata": {},
   "outputs": [],
   "source": [
    "# Path of the directory whit lits of ntuples to append score to\n",
    "fileListLocation = \"test_append.txt\"\n",
    "# Path of the directory containing .npz files to train on.\n",
    "# Standard naming convention is assumed (e.g. \"trainingData_resolved.npz\")\n",
    "trainingDataPath = \"../train_all_jets/\""
   ]
  },
  {
   "cell_type": "code",
   "execution_count": 50,
   "metadata": {},
   "outputs": [
    {
     "name": "stdout",
     "output_type": "stream",
     "text": [
      "paramters string testSave_all_jets_LR0p005\n"
     ]
    }
   ],
   "source": [
    "# Training parameters\n",
    "numEpochs = 10\n",
    "batchSize = 100\n",
    "dropoutFraction = 0.1\n",
    "nNodes = 150\n",
    "# initial learning rate for adamax\n",
    "init_lr = MyDict()\n",
    "init_lr[\"boosted\"] = 5e-5\n",
    "init_lr[\"intermediate\"] = 5e-3\n",
    "init_lr[\"resolved\"] = 1e-1\n",
    "\n",
    "# store parameters of the network in a string\n",
    "#param_string = \"_w_OPadamaxEP\"+str(numEpochs)+\"BS\"+str(batchSize)+\"DO\"+str(dropoutFraction).replace(\".\",\"\")\n",
    "# Plot score distributions for the training sample?\n",
    "makePlots = False\n",
    "\n",
    "target_nevents = 100000\n",
    "\n",
    " \n",
    "ttbar_weight = MyDict()\n",
    "signal_weight = MyDict()\n",
    "qcd_weight = MyDict()\n",
    "analysis = \"intermediate\"\n",
    "param_string = \"testSave_all_jets_LR\"+str(init_lr[analysis]).replace(\"0.\",\"0p\")\n",
    "print (\"paramters string \"+param_string)"
   ]
  },
  {
   "cell_type": "code",
   "execution_count": 51,
   "metadata": {},
   "outputs": [
    {
     "name": "stdout",
     "output_type": "stream",
     "text": [
      "18954  signal events\n"
     ]
    }
   ],
   "source": [
    "# Load the input file and grab the data from it.\n",
    "# Label each type of background\n",
    "# Calculate weight for each 'target' sample\n",
    "#inFile = np.load(trainingDataPath + \"/trainingData_all_jets_\" + analysis + \".npz\")\n",
    "\n",
    "signalData = pandas.DataFrame(dat_sig)\n",
    "signalData[\"target\"] = 0\n",
    "print(len(signalData),\" signal events\")"
   ]
  },
  {
   "cell_type": "code",
   "execution_count": null,
   "metadata": {},
   "outputs": [],
   "source": []
  },
  {
   "cell_type": "code",
   "execution_count": 53,
   "metadata": {},
   "outputs": [
    {
     "name": "stdout",
     "output_type": "stream",
     "text": [
      "2061515  4b background\n"
     ]
    }
   ],
   "source": [
    "backgroundData = pandas.DataFrame(dat_4b)\n",
    "backgroundData[\"target\"] = 1\n",
    "print(len(backgroundData),\" 4b background\")"
   ]
  },
  {
   "cell_type": "code",
   "execution_count": 54,
   "metadata": {},
   "outputs": [
    {
     "name": "stdout",
     "output_type": "stream",
     "text": [
      "1590094 2b2j events\n"
     ]
    }
   ],
   "source": [
    "background_2b2j = pandas.DataFrame(dat_2b2j)\n",
    "background_2b2j[\"target\"] = 1\n",
    "print(len(background_2b2j),\"2b2j events\")"
   ]
  },
  {
   "cell_type": "code",
   "execution_count": 55,
   "metadata": {},
   "outputs": [],
   "source": [
    "# take 4b to be  15% of the background\n",
    "backgroundData = shuffle(backgroundData)\n",
    "backgroundData = backgroundData[0:2843]"
   ]
  },
  {
   "cell_type": "code",
   "execution_count": 56,
   "metadata": {},
   "outputs": [
    {
     "name": "stdout",
     "output_type": "stream",
     "text": [
      "18006  2b2j background\n",
      "18006 ( 5.553704320781962 ) qcd (weight) background events found\n"
     ]
    }
   ],
   "source": [
    "# and 2b2j 80%\n",
    "background_2b2j = shuffle(background_2b2j)\n",
    "background_2b2j = background_2b2j[0:15163]\n",
    "backgroundData = backgroundData.append(background_2b2j)\n",
    "print(len(backgroundData),\" 2b2j background\")\n",
    "\n",
    "\n",
    "n_qcd_bkg = len(backgroundData)\n",
    "qcd_weight[analysis] = target_nevents/n_qcd_bkg\n",
    "print(n_qcd_bkg,\"(\",qcd_weight[analysis], \") qcd (weight) background events found\")"
   ]
  },
  {
   "cell_type": "code",
   "execution_count": 57,
   "metadata": {},
   "outputs": [
    {
     "name": "stdout",
     "output_type": "stream",
     "text": [
      "25837 ttbar events\n"
     ]
    }
   ],
   "source": [
    "background_ttbar = pandas.DataFrame(dat_ttbar)\n",
    "#background_ttbar = pandas.DataFrame(inFile[\"bkg_ttbar\"])\n",
    "background_ttbar[\"target\"] = 2\n",
    "print(len(background_ttbar),\"ttbar events\")"
   ]
  },
  {
   "cell_type": "code",
   "execution_count": 59,
   "metadata": {},
   "outputs": [
    {
     "name": "stdout",
     "output_type": "stream",
     "text": [
      "948 ( 105.48523206751055 ) ttbar (weight) background events found\n"
     ]
    }
   ],
   "source": [
    "# and ttbar to 5%\n",
    "background_ttbar = shuffle(background_ttbar)\n",
    "background_ttbar = background_ttbar[0:948]\n",
    "ttbar_weight[analysis] = target_nevents/len(background_ttbar)\n",
    "print(len(background_ttbar),\"(\",ttbar_weight[analysis], \") ttbar (weight) background events found\")\n",
    "backgroundData = backgroundData.append(background_ttbar)\n",
    "n_ttbar = len(background_ttbar)"
   ]
  },
  {
   "cell_type": "code",
   "execution_count": 60,
   "metadata": {},
   "outputs": [
    {
     "name": "stdout",
     "output_type": "stream",
     "text": [
      "18954 ( 5.275931201857127 ) signal (weight) events found\n"
     ]
    }
   ],
   "source": [
    "signal_weight[analysis] = target_nevents/len(signalData)\n",
    "signalData = shuffle(signalData)\n",
    "\n",
    "print(len(signalData),\"(\",signal_weight[analysis],\") signal (weight) events found\")"
   ]
  },
  {
   "cell_type": "code",
   "execution_count": null,
   "metadata": {},
   "outputs": [],
   "source": []
  },
  {
   "cell_type": "code",
   "execution_count": 61,
   "metadata": {},
   "outputs": [],
   "source": [
    "allData = signalData.append(backgroundData, ignore_index = True)\n",
    "\n",
    "# Set all event weights to 1 by default\n",
    "allData.loc[:, 'mc_sf'] = 1.\n",
    "# Apply manual event weighting: numbers that give \"reasonable behavior\"\n",
    "allData.loc[allData.target == 0,  'mc_sf'] = signal_weight[analysis]\n",
    "allData.loc[allData.target == 1, 'mc_sf'] = qcd_weight[analysis]    # QCD\n",
    "allData.loc[allData.target == 2, 'mc_sf'] = ttbar_weight[analysis]  # ttbar\n",
    "\n",
    "allData = shuffle(allData)"
   ]
  },
  {
   "cell_type": "code",
   "execution_count": 62,
   "metadata": {},
   "outputs": [],
   "source": [
    "balancedDataset = signalData.copy()"
   ]
  },
  {
   "cell_type": "code",
   "execution_count": 63,
   "metadata": {},
   "outputs": [
    {
     "data": {
      "text/plain": [
       "18954"
      ]
     },
     "execution_count": 63,
     "metadata": {},
     "output_type": "execute_result"
    }
   ],
   "source": [
    "len(balancedDataset)"
   ]
  },
  {
   "cell_type": "code",
   "execution_count": 64,
   "metadata": {},
   "outputs": [
    {
     "data": {
      "text/plain": [
       "28431"
      ]
     },
     "execution_count": 64,
     "metadata": {},
     "output_type": "execute_result"
    }
   ],
   "source": [
    "len(backgroundData)"
   ]
  },
  {
   "cell_type": "code",
   "execution_count": 65,
   "metadata": {},
   "outputs": [
    {
     "data": {
      "text/plain": [
       "948"
      ]
     },
     "execution_count": 65,
     "metadata": {},
     "output_type": "execute_result"
    }
   ],
   "source": [
    "len(background_ttbar)"
   ]
  },
  {
   "cell_type": "code",
   "execution_count": 66,
   "metadata": {},
   "outputs": [],
   "source": [
    "xTrainData = allData\n",
    "procType = xTrainData.pop(\"target\")\n",
    "\n",
    "#Here I'm only giving 'append' data, so none of these events were used in training\n",
    "X_train, X_run, yTypeTrain, yTypeRun = train_test_split(xTrainData, procType, test_size=0.4, random_state=1)\n",
    "X_train, X_test, yTypeTrain, yTypeTest = train_test_split(X_train, yTypeTrain, test_size=0.2, random_state=1)\n",
    "\n",
    "# These aren't input features, separate them out.\n",
    "evtWeightsTrain = X_train.pop(\"mc_sf\")\n",
    "evtWeightsVal = X_test.pop(\"mc_sf\")\n",
    "evtWeightsRun = X_run.pop(\"mc_sf\")"
   ]
  },
  {
   "cell_type": "code",
   "execution_count": 67,
   "metadata": {},
   "outputs": [
    {
     "data": {
      "text/html": [
       "<div>\n",
       "<style scoped>\n",
       "    .dataframe tbody tr th:only-of-type {\n",
       "        vertical-align: middle;\n",
       "    }\n",
       "\n",
       "    .dataframe tbody tr th {\n",
       "        vertical-align: top;\n",
       "    }\n",
       "\n",
       "    .dataframe thead th {\n",
       "        text-align: right;\n",
       "    }\n",
       "</style>\n",
       "<table border=\"1\" class=\"dataframe\">\n",
       "  <thead>\n",
       "    <tr style=\"text-align: right;\">\n",
       "      <th></th>\n",
       "      <th>pT_hh</th>\n",
       "      <th>m_hh</th>\n",
       "      <th>nMuon</th>\n",
       "      <th>nElec</th>\n",
       "      <th>h1_M</th>\n",
       "      <th>h1_Pt</th>\n",
       "      <th>h1_Eta</th>\n",
       "      <th>h1_Phi</th>\n",
       "      <th>h1_j1_j2_dR</th>\n",
       "      <th>h2_M</th>\n",
       "      <th>h2_Pt</th>\n",
       "      <th>h2_Eta</th>\n",
       "      <th>h2_Phi</th>\n",
       "      <th>h2_j1_j2_dR</th>\n",
       "      <th>met_Et</th>\n",
       "      <th>met_Phi</th>\n",
       "      <th>h1_j1_BTag</th>\n",
       "      <th>h1_j2_BTag</th>\n",
       "      <th>h2_j1_BTag</th>\n",
       "      <th>h2_j2_BTag</th>\n",
       "    </tr>\n",
       "  </thead>\n",
       "  <tbody>\n",
       "    <tr>\n",
       "      <th>18459</th>\n",
       "      <td>94.777443</td>\n",
       "      <td>953.647827</td>\n",
       "      <td>0</td>\n",
       "      <td>0</td>\n",
       "      <td>135.395523</td>\n",
       "      <td>479.854065</td>\n",
       "      <td>1.259194</td>\n",
       "      <td>2.310018</td>\n",
       "      <td>0.486487</td>\n",
       "      <td>98.740295</td>\n",
       "      <td>411.778870</td>\n",
       "      <td>0.681967</td>\n",
       "      <td>-0.683089</td>\n",
       "      <td>0.611806</td>\n",
       "      <td>12.735623</td>\n",
       "      <td>0.817065</td>\n",
       "      <td>0</td>\n",
       "      <td>1</td>\n",
       "      <td>0</td>\n",
       "      <td>0</td>\n",
       "    </tr>\n",
       "    <tr>\n",
       "      <th>10120</th>\n",
       "      <td>179.326768</td>\n",
       "      <td>3104.522884</td>\n",
       "      <td>0</td>\n",
       "      <td>0</td>\n",
       "      <td>207.261169</td>\n",
       "      <td>1212.423950</td>\n",
       "      <td>-0.776898</td>\n",
       "      <td>-1.334424</td>\n",
       "      <td>0.608395</td>\n",
       "      <td>399.429687</td>\n",
       "      <td>1047.823120</td>\n",
       "      <td>0.845646</td>\n",
       "      <td>1.870319</td>\n",
       "      <td>1.012046</td>\n",
       "      <td>105.453110</td>\n",
       "      <td>1.933884</td>\n",
       "      <td>0</td>\n",
       "      <td>0</td>\n",
       "      <td>0</td>\n",
       "      <td>0</td>\n",
       "    </tr>\n",
       "    <tr>\n",
       "      <th>31850</th>\n",
       "      <td>91.928758</td>\n",
       "      <td>637.791517</td>\n",
       "      <td>0</td>\n",
       "      <td>0</td>\n",
       "      <td>35.770020</td>\n",
       "      <td>357.063019</td>\n",
       "      <td>1.098278</td>\n",
       "      <td>1.827639</td>\n",
       "      <td>0.724961</td>\n",
       "      <td>62.381382</td>\n",
       "      <td>273.238159</td>\n",
       "      <td>1.375034</td>\n",
       "      <td>-1.193055</td>\n",
       "      <td>0.475356</td>\n",
       "      <td>3.892213</td>\n",
       "      <td>0.167450</td>\n",
       "      <td>0</td>\n",
       "      <td>0</td>\n",
       "      <td>1</td>\n",
       "      <td>0</td>\n",
       "    </tr>\n",
       "    <tr>\n",
       "      <th>41484</th>\n",
       "      <td>44.234856</td>\n",
       "      <td>782.585707</td>\n",
       "      <td>0</td>\n",
       "      <td>0</td>\n",
       "      <td>113.836159</td>\n",
       "      <td>297.667664</td>\n",
       "      <td>0.867058</td>\n",
       "      <td>1.083862</td>\n",
       "      <td>2.684718</td>\n",
       "      <td>36.164360</td>\n",
       "      <td>259.663086</td>\n",
       "      <td>-0.819482</td>\n",
       "      <td>-1.976290</td>\n",
       "      <td>1.552840</td>\n",
       "      <td>5.755080</td>\n",
       "      <td>-0.897673</td>\n",
       "      <td>1</td>\n",
       "      <td>0</td>\n",
       "      <td>0</td>\n",
       "      <td>0</td>\n",
       "    </tr>\n",
       "    <tr>\n",
       "      <th>29024</th>\n",
       "      <td>229.282222</td>\n",
       "      <td>1088.000567</td>\n",
       "      <td>0</td>\n",
       "      <td>0</td>\n",
       "      <td>36.069454</td>\n",
       "      <td>614.884644</td>\n",
       "      <td>1.129977</td>\n",
       "      <td>0.464882</td>\n",
       "      <td>0.243238</td>\n",
       "      <td>121.739510</td>\n",
       "      <td>439.265137</td>\n",
       "      <td>0.596427</td>\n",
       "      <td>-2.392122</td>\n",
       "      <td>0.382053</td>\n",
       "      <td>39.466587</td>\n",
       "      <td>-3.119246</td>\n",
       "      <td>0</td>\n",
       "      <td>0</td>\n",
       "      <td>0</td>\n",
       "      <td>1</td>\n",
       "    </tr>\n",
       "  </tbody>\n",
       "</table>\n",
       "</div>"
      ],
      "text/plain": [
       "            pT_hh         m_hh  nMuon  nElec        h1_M        h1_Pt  \\\n",
       "18459   94.777443   953.647827      0      0  135.395523   479.854065   \n",
       "10120  179.326768  3104.522884      0      0  207.261169  1212.423950   \n",
       "31850   91.928758   637.791517      0      0   35.770020   357.063019   \n",
       "41484   44.234856   782.585707      0      0  113.836159   297.667664   \n",
       "29024  229.282222  1088.000567      0      0   36.069454   614.884644   \n",
       "\n",
       "         h1_Eta    h1_Phi  h1_j1_j2_dR        h2_M        h2_Pt    h2_Eta  \\\n",
       "18459  1.259194  2.310018     0.486487   98.740295   411.778870  0.681967   \n",
       "10120 -0.776898 -1.334424     0.608395  399.429687  1047.823120  0.845646   \n",
       "31850  1.098278  1.827639     0.724961   62.381382   273.238159  1.375034   \n",
       "41484  0.867058  1.083862     2.684718   36.164360   259.663086 -0.819482   \n",
       "29024  1.129977  0.464882     0.243238  121.739510   439.265137  0.596427   \n",
       "\n",
       "         h2_Phi  h2_j1_j2_dR      met_Et   met_Phi  h1_j1_BTag  h1_j2_BTag  \\\n",
       "18459 -0.683089     0.611806   12.735623  0.817065           0           1   \n",
       "10120  1.870319     1.012046  105.453110  1.933884           0           0   \n",
       "31850 -1.193055     0.475356    3.892213  0.167450           0           0   \n",
       "41484 -1.976290     1.552840    5.755080 -0.897673           1           0   \n",
       "29024 -2.392122     0.382053   39.466587 -3.119246           0           0   \n",
       "\n",
       "       h2_j1_BTag  h2_j2_BTag  \n",
       "18459           0           0  \n",
       "10120           0           0  \n",
       "31850           1           0  \n",
       "41484           0           0  \n",
       "29024           0           1  "
      ]
     },
     "execution_count": 67,
     "metadata": {},
     "output_type": "execute_result"
    }
   ],
   "source": [
    "X_train.head()"
   ]
  },
  {
   "cell_type": "code",
   "execution_count": 68,
   "metadata": {},
   "outputs": [
    {
     "data": {
      "text/plain": [
       "(22744, 20)"
      ]
     },
     "execution_count": 68,
     "metadata": {},
     "output_type": "execute_result"
    }
   ],
   "source": [
    "np.shape(X_train)"
   ]
  },
  {
   "cell_type": "code",
   "execution_count": 69,
   "metadata": {},
   "outputs": [],
   "source": [
    "names = list(X_train.columns)"
   ]
  },
  {
   "cell_type": "code",
   "execution_count": 70,
   "metadata": {},
   "outputs": [
    {
     "data": {
      "text/html": [
       "['pT_hh', 'm_hh', 'nMuon', 'nElec', 'h1_M', 'h1_Pt', 'h1_Eta', 'h1_Phi', 'h1_j1_j2_dR', 'h2_M', 'h2_Pt', 'h2_Eta', 'h2_Phi', 'h2_j1_j2_dR', 'met_Et', 'met_Phi', 'h1_j1_BTag', 'h1_j2_BTag', 'h2_j1_BTag', 'h2_j2_BTag']"
      ],
      "text/plain": [
       "['pT_hh',\n",
       " 'm_hh',\n",
       " 'nMuon',\n",
       " 'nElec',\n",
       " 'h1_M',\n",
       " 'h1_Pt',\n",
       " 'h1_Eta',\n",
       " 'h1_Phi',\n",
       " 'h1_j1_j2_dR',\n",
       " 'h2_M',\n",
       " 'h2_Pt',\n",
       " 'h2_Eta',\n",
       " 'h2_Phi',\n",
       " 'h2_j1_j2_dR',\n",
       " 'met_Et',\n",
       " 'met_Phi',\n",
       " 'h1_j1_BTag',\n",
       " 'h1_j2_BTag',\n",
       " 'h2_j1_BTag',\n",
       " 'h2_j2_BTag']"
      ]
     },
     "execution_count": 70,
     "metadata": {},
     "output_type": "execute_result"
    }
   ],
   "source": [
    "names"
   ]
  },
  {
   "cell_type": "code",
   "execution_count": 71,
   "metadata": {},
   "outputs": [],
   "source": [
    "# Convert pandas dataframes into numpy arrays\n",
    "X_test = X_test.values\n",
    "X_train = X_train.values\n",
    "X_run = X_run.values\n",
    "evtWeightsTrain = evtWeightsTrain.values\n",
    "evtWeightsVal = evtWeightsVal.values\n",
    "evtWeightsRun = evtWeightsRun.values\n",
    "y_test = keras.utils.to_categorical(yTypeTest, num_classes=3)\n",
    "y_train = keras.utils.to_categorical(yTypeTrain, num_classes=3)\n",
    "yTypeTest = yTypeTest.values\n",
    "yTypeTrain = yTypeTrain.values\n",
    "yTypeRun = yTypeRun.values"
   ]
  },
  {
   "cell_type": "code",
   "execution_count": 72,
   "metadata": {},
   "outputs": [
    {
     "name": "stdout",
     "output_type": "stream",
     "text": [
      "(array([0, 1, 2]), array([9032, 8670, 5042]))\n",
      "(array([0, 1, 2]), array([2293, 2174, 1220]))\n",
      "(array([0, 1, 2]), array([7629, 7162, 4163]))\n"
     ]
    }
   ],
   "source": [
    "print(np.unique(yTypeTrain,return_counts=True))\n",
    "print(np.unique(yTypeTest,return_counts=True))\n",
    "print(np.unique(yTypeRun,return_counts=True))"
   ]
  },
  {
   "cell_type": "code",
   "execution_count": 73,
   "metadata": {},
   "outputs": [],
   "source": [
    "nnPath = \"/home/paredes/pheno/testnn/pheno_study/analysis/neuralnet/train_alllambda_vs_bkg/nn_all_jets_\"+analysis+\"_allLambdas.h5\"\n",
    "scalerPath = \"/home/paredes/pheno/testnn/pheno_study/analysis/neuralnet/train_alllambda_vs_bkg/scaler_\"+analysis+\"_allLambdas.sav\"\n"
   ]
  },
  {
   "cell_type": "code",
   "execution_count": 74,
   "metadata": {},
   "outputs": [],
   "source": [
    "# Convert this into the right format for keras\n",
    "scaler = joblib.load(scalerPath)\n",
    "X_train = scaler.transform(X_train)\n",
    "X_test = scaler.transform(X_test)\n"
   ]
  },
  {
   "cell_type": "code",
   "execution_count": 75,
   "metadata": {},
   "outputs": [],
   "source": [
    "# load the trained NN\n",
    "model = keras.models.load_model(nnPath)\n"
   ]
  },
  {
   "cell_type": "code",
   "execution_count": 79,
   "metadata": {},
   "outputs": [],
   "source": [
    "# select a set of background examples to take an expectation over\n",
    "background = X_train[np.random.choice(X_train.shape[0], 22500, replace=False)]"
   ]
  },
  {
   "cell_type": "code",
   "execution_count": 80,
   "metadata": {},
   "outputs": [],
   "source": [
    "e = shap.GradientExplainer(model, background)"
   ]
  },
  {
   "cell_type": "code",
   "execution_count": 81,
   "metadata": {},
   "outputs": [],
   "source": [
    "import matplotlib as mpl\n",
    "mymap = mpl.colors.ListedColormap(['green','red','blue'],name='mycolors')\n"
   ]
  },
  {
   "cell_type": "code",
   "execution_count": null,
   "metadata": {},
   "outputs": [],
   "source": [
    "shuffled_set = shuffle(X_train)\n",
    "shap_set = shuffled_set[0:22500]\n",
    "\n",
    "shap_values = e.shap_values(shap_set,ranked_outputs=None)"
   ]
  },
  {
   "cell_type": "code",
   "execution_count": null,
   "metadata": {},
   "outputs": [],
   "source": [
    "sig_shap = shap_values[0]"
   ]
  },
  {
   "cell_type": "code",
   "execution_count": null,
   "metadata": {},
   "outputs": [],
   "source": [
    "np.shape(sig_shap)"
   ]
  },
  {
   "cell_type": "code",
   "execution_count": null,
   "metadata": {},
   "outputs": [],
   "source": [
    "shap.summary_plot(sig_shap,shap_set,max_display=36,feature_names=names)"
   ]
  },
  {
   "cell_type": "code",
   "execution_count": null,
   "metadata": {},
   "outputs": [],
   "source": [
    "shap.dependence_plot('h1_Pt',sig_shap,shap_set,feature_names=names,interaction_index='m_hh')\n"
   ]
  },
  {
   "cell_type": "code",
   "execution_count": null,
   "metadata": {},
   "outputs": [],
   "source": [
    "shap.summary_plot(shap_values, shap_set,max_display=36,feature_names=names,color=mymap,class_names=[\"signal\",\"multijet\",\"ttbar\"])"
   ]
  },
  {
   "cell_type": "code",
   "execution_count": null,
   "metadata": {},
   "outputs": [],
   "source": [
    "help(shap.summary_plot)"
   ]
  },
  {
   "cell_type": "code",
   "execution_count": 73,
   "metadata": {},
   "outputs": [
    {
     "ename": "AttributeError",
     "evalue": "'GradientExplainer' object has no attribute 'expected_value'",
     "output_type": "error",
     "traceback": [
      "\u001b[0;31m---------------------------------------------------------------------------\u001b[0m",
      "\u001b[0;31mAttributeError\u001b[0m                            Traceback (most recent call last)",
      "\u001b[0;32m<ipython-input-73-111a0ce5f696>\u001b[0m in \u001b[0;36m<module>\u001b[0;34m()\u001b[0m\n\u001b[0;32m----> 1\u001b[0;31m \u001b[0mshap\u001b[0m\u001b[0;34m.\u001b[0m\u001b[0mforce_plot\u001b[0m\u001b[0;34m(\u001b[0m\u001b[0me\u001b[0m\u001b[0;34m.\u001b[0m\u001b[0mexpected_value\u001b[0m\u001b[0;34m[\u001b[0m\u001b[0;36m0\u001b[0m\u001b[0;34m]\u001b[0m\u001b[0;34m,\u001b[0m \u001b[0mshap_values\u001b[0m\u001b[0;34m[\u001b[0m\u001b[0;36m0\u001b[0m\u001b[0;34m]\u001b[0m\u001b[0;34m[\u001b[0m\u001b[0;36m0\u001b[0m\u001b[0;34m,\u001b[0m\u001b[0;34m:\u001b[0m\u001b[0;34m]\u001b[0m\u001b[0;34m,\u001b[0m \u001b[0mX_test\u001b[0m\u001b[0;34m.\u001b[0m\u001b[0miloc\u001b[0m\u001b[0;34m[\u001b[0m\u001b[0;36m0\u001b[0m\u001b[0;34m,\u001b[0m\u001b[0;34m:\u001b[0m\u001b[0;34m]\u001b[0m\u001b[0;34m,\u001b[0m \u001b[0mlink\u001b[0m\u001b[0;34m=\u001b[0m\u001b[0;34m\"logit\"\u001b[0m\u001b[0;34m)\u001b[0m\u001b[0;34m\u001b[0m\u001b[0m\n\u001b[0m",
      "\u001b[0;31mAttributeError\u001b[0m: 'GradientExplainer' object has no attribute 'expected_value'"
     ]
    }
   ],
   "source": [
    "shap.force_plot(e.expected_value[0], shap_values[0][0,:], X_test.iloc[0,:], link=\"logit\")"
   ]
  },
  {
   "cell_type": "code",
   "execution_count": null,
   "metadata": {},
   "outputs": [],
   "source": [
    "# Run training sample back through the NN\n",
    "probTrain = model.predict(X_train)\n",
    "probTest = model.predict(X_test)"
   ]
  },
  {
   "cell_type": "code",
   "execution_count": 24,
   "metadata": {},
   "outputs": [
    {
     "data": {
      "text/plain": [
       "'1.8.0'"
      ]
     },
     "execution_count": 24,
     "metadata": {},
     "output_type": "execute_result"
    }
   ],
   "source": [
    "import tensorflow as tf\n",
    "tf.__version__\n"
   ]
  },
  {
   "cell_type": "code",
   "execution_count": 23,
   "metadata": {},
   "outputs": [
    {
     "data": {
      "text/plain": [
       "0.6328624290027222"
      ]
     },
     "execution_count": 23,
     "metadata": {},
     "output_type": "execute_result"
    }
   ],
   "source": [
    "history.history['val_acc'][-1]"
   ]
  },
  {
   "cell_type": "code",
   "execution_count": 24,
   "metadata": {},
   "outputs": [
    {
     "data": {
      "text/plain": [
       "array([[1., 0., 0.],\n",
       "       [0., 1., 0.],\n",
       "       [1., 0., 0.],\n",
       "       ...,\n",
       "       [0., 0., 1.],\n",
       "       [0., 1., 0.],\n",
       "       [1., 0., 0.]], dtype=float32)"
      ]
     },
     "execution_count": 24,
     "metadata": {},
     "output_type": "execute_result"
    }
   ],
   "source": [
    "y_test"
   ]
  },
  {
   "cell_type": "code",
   "execution_count": 25,
   "metadata": {},
   "outputs": [
    {
     "data": {
      "text/plain": [
       "array([[1.2996419e-01, 6.4022881e-01, 2.2980699e-01],\n",
       "       [2.2808880e-01, 7.1998227e-01, 5.1928949e-02],\n",
       "       [7.0084310e-01, 2.2946937e-01, 6.9687553e-02],\n",
       "       ...,\n",
       "       [8.5771375e-04, 1.5968634e-03, 9.9754542e-01],\n",
       "       [4.7998443e-01, 4.2606348e-01, 9.3952172e-02],\n",
       "       [6.9288898e-01, 9.5101617e-02, 2.1200940e-01]], dtype=float32)"
      ]
     },
     "execution_count": 25,
     "metadata": {},
     "output_type": "execute_result"
    }
   ],
   "source": [
    "probTest"
   ]
  },
  {
   "cell_type": "code",
   "execution_count": 26,
   "metadata": {},
   "outputs": [],
   "source": [
    "# Compute ROC curve and ROC area for each class\n",
    "fpr = dict()\n",
    "tpr = dict()\n",
    "roc_auc = dict()\n",
    "thresholds = dict()\n",
    "for i in range(0,3):\n",
    "    fpr[i], tpr[i], thresholds[i] = roc_curve(y_test[:, i], probTest[:, i])\n",
    "    roc_auc[i] = auc(fpr[i], tpr[i])"
   ]
  },
  {
   "cell_type": "code",
   "execution_count": 27,
   "metadata": {},
   "outputs": [
    {
     "data": {
      "image/png": "[encoded data removed]",
      "text/plain": [
       "<Figure size 576x576 with 1 Axes>"
      ]
     },
     "metadata": {},
     "output_type": "display_data"
    }
   ],
   "source": [
    "plt.figure(figsize=(8,8))\n",
    "lw = 2\n",
    "colors = cycle(['firebrick', 'orange', 'deeppink','purple'])\n",
    "styles = cycle(['--', ':','-.'])\n",
    "signals = [\"-20\",\"-10\",\"-2\",\"-5\",\"-0.5\",\"0.5\",\"10\",\"20\",\"2\",\"5\"]\n",
    "plt.plot(fpr[1], tpr[1], color='blue',\n",
    "         lw=lw, label='qcd score ROC curve (area = %0.2f)' % roc_auc[1])\n",
    "plt.plot(fpr[2], tpr[2], color='green',\n",
    "         lw=lw, label='ttbar score ROC curve (area = %0.2f)' % roc_auc[2])\n",
    "plt.plot(fpr[0], tpr[0], color='red',\n",
    "         lw=lw, label='sig.(SM) score ROC curve (area = %0.2f)' % roc_auc[0])\n",
    "\n",
    "plt.plot([0, 1], [0, 1], color='navy', lw=lw, linestyle=':')\n",
    "plt.xlim([0.0, 1.0])\n",
    "plt.ylim([0.0, 1.05])\n",
    "plt.xlabel('False Positive Rate')\n",
    "plt.ylabel('True Positive Rate')\n",
    "plt.title('ROC curves, individual scores')\n",
    "plt.legend(loc=\"lower right\")\n",
    "plt.show()"
   ]
  },
  {
   "cell_type": "code",
   "execution_count": 28,
   "metadata": {},
   "outputs": [
    {
     "ename": "IndexError",
     "evalue": "list index out of range",
     "output_type": "error",
     "traceback": [
      "\u001b[0;31m---------------------------------------------------------------------------\u001b[0m",
      "\u001b[0;31mIndexError\u001b[0m                                Traceback (most recent call last)",
      "\u001b[0;32m<ipython-input-28-41ffcf67e0b6>\u001b[0m in \u001b[0;36m<module>\u001b[0;34m()\u001b[0m\n\u001b[0;32m----> 1\u001b[0;31m \u001b[0msignals\u001b[0m\u001b[0;34m[\u001b[0m\u001b[0;36m10\u001b[0m\u001b[0;34m]\u001b[0m\u001b[0;34m\u001b[0m\u001b[0m\n\u001b[0m",
      "\u001b[0;31mIndexError\u001b[0m: list index out of range"
     ]
    }
   ],
   "source": [
    "signals[10]"
   ]
  },
  {
   "cell_type": "code",
   "execution_count": 29,
   "metadata": {},
   "outputs": [
    {
     "data": {
      "image/png": "[encoded data removed]",
      "text/plain": [
       "<Figure size 432x288 with 1 Axes>"
      ]
     },
     "metadata": {},
     "output_type": "display_data"
    }
   ],
   "source": [
    "plt.figure()\n",
    "lw = 2\n",
    "plt.plot(fpr[0], tpr[0], color='red',\n",
    "         lw=lw, label='sig score ROC curve (area = %0.2f)' % roc_auc[0])\n",
    "plt.plot(fpr[1], tpr[1], color='blue',\n",
    "         lw=lw, label='qcd score ROC curve (area = %0.2f)' % roc_auc[1])\n",
    "plt.plot(fpr[2], tpr[2], color='green',\n",
    "         lw=lw, label='ttbar score ROC curve (area = %0.2f)' % roc_auc[2])\n",
    "plt.plot([0, 1], [0, 1], color='navy', lw=lw, linestyle='--')\n",
    "plt.xlim([0.0, 1.0])\n",
    "plt.ylim([0.0, 1.05])\n",
    "plt.xlabel('False Positive Rate')\n",
    "plt.ylabel('True Positive Rate')\n",
    "plt.title('ROC curves, individual scores')\n",
    "plt.legend(loc=\"lower right\")\n",
    "plt.show()"
   ]
  },
  {
   "cell_type": "code",
   "execution_count": 30,
   "metadata": {},
   "outputs": [
    {
     "data": {
      "text/plain": [
       "0.8393121"
      ]
     },
     "execution_count": 30,
     "metadata": {},
     "output_type": "execute_result"
    }
   ],
   "source": [
    "thresholds[0][2000]"
   ]
  },
  {
   "cell_type": "code",
   "execution_count": 31,
   "metadata": {},
   "outputs": [
    {
     "data": {
      "text/plain": [
       "0.18492304470736048"
      ]
     },
     "execution_count": 31,
     "metadata": {},
     "output_type": "execute_result"
    }
   ],
   "source": [
    "tpr[0][2000]"
   ]
  },
  {
   "cell_type": "code",
   "execution_count": 32,
   "metadata": {},
   "outputs": [
    {
     "data": {
      "text/plain": [
       "0.013821833198887511"
      ]
     },
     "execution_count": 32,
     "metadata": {},
     "output_type": "execute_result"
    }
   ],
   "source": [
    "fpr[0][2000]"
   ]
  },
  {
   "cell_type": "code",
   "execution_count": 33,
   "metadata": {},
   "outputs": [
    {
     "data": {
      "text/plain": [
       "(44363,)"
      ]
     },
     "execution_count": 33,
     "metadata": {},
     "output_type": "execute_result"
    }
   ],
   "source": [
    "np.shape(tpr[0])"
   ]
  },
  {
   "cell_type": "code",
   "execution_count": 34,
   "metadata": {},
   "outputs": [
    {
     "data": {
      "text/plain": [
       "(44363,)"
      ]
     },
     "execution_count": 34,
     "metadata": {},
     "output_type": "execute_result"
    }
   ],
   "source": [
    "np.shape(fpr[0])"
   ]
  },
  {
   "cell_type": "code",
   "execution_count": 35,
   "metadata": {},
   "outputs": [
    {
     "data": {
      "text/plain": [
       "(44363,)"
      ]
     },
     "execution_count": 35,
     "metadata": {},
     "output_type": "execute_result"
    }
   ],
   "source": [
    "np.shape(thresholds[0])"
   ]
  },
  {
   "cell_type": "code",
   "execution_count": 36,
   "metadata": {},
   "outputs": [
    {
     "data": {
      "text/plain": [
       "(130812, 3)"
      ]
     },
     "execution_count": 36,
     "metadata": {},
     "output_type": "execute_result"
    }
   ],
   "source": [
    "np.shape(probTest)"
   ]
  },
  {
   "cell_type": "code",
   "execution_count": 37,
   "metadata": {},
   "outputs": [],
   "source": [
    "# Compute micro-average ROC curve and ROC area\n",
    "fpr[\"micro\"], tpr[\"micro\"], _ = roc_curve(y_test.ravel(), probTest.ravel())\n",
    "roc_auc[\"micro\"] = auc(fpr[\"micro\"], tpr[\"micro\"])"
   ]
  },
  {
   "cell_type": "code",
   "execution_count": 38,
   "metadata": {},
   "outputs": [
    {
     "data": {
      "image/png": "[encoded data removed]",
      "text/plain": [
       "<Figure size 432x288 with 1 Axes>"
      ]
     },
     "metadata": {},
     "output_type": "display_data"
    }
   ],
   "source": [
    "plt.figure()\n",
    "lw = 2\n",
    "plt.plot(fpr[0], tpr[0], color='red',\n",
    "         lw=lw, label='sig score ROC curve (area = %0.2f)' % roc_auc[0])\n",
    "plt.plot(fpr[1], tpr[1], color='blue',\n",
    "         lw=lw, label='qcd score ROC curve (area = %0.2f)' % roc_auc[1])\n",
    "plt.plot(fpr[2], tpr[2], color='green',\n",
    "         lw=lw, label='ttbar score ROC curve (area = %0.2f)' % roc_auc[2])\n",
    "plt.plot(fpr[\"micro\"], tpr[\"micro\"], label='micro-average ROC curve (area = {0:0.2f})'\n",
    "               ''.format(roc_auc[\"micro\"]), color='deeppink', linestyle=':', linewidth=4)\n",
    "plt.plot([0, 1], [0, 1], color='navy', lw=lw, linestyle='--')\n",
    "plt.xlim([0.0, 1.0])\n",
    "plt.ylim([0.0, 1.05])\n",
    "plt.xlabel('False Positive Rate')\n",
    "plt.ylabel('True Positive Rate')\n",
    "plt.title('ROC curves, individual scores')\n",
    "plt.legend(loc=\"lower right\")\n",
    "plt.show()"
   ]
  },
  {
   "cell_type": "code",
   "execution_count": 39,
   "metadata": {},
   "outputs": [
    {
     "data": {
      "image/png": "[encoded data removed]",
      "text/plain": [
       "<Figure size 432x288 with 1 Axes>"
      ]
     },
     "metadata": {},
     "output_type": "display_data"
    }
   ],
   "source": [
    "# Compute macro-average ROC curve and ROC area\n",
    "\n",
    "# First aggregate all false positive rates\n",
    "all_fpr = np.unique(np.concatenate([fpr[i] for i in range(0,3)]))\n",
    "\n",
    "# Then interpolate all ROC curves at this points\n",
    "mean_tpr = np.zeros_like(all_fpr)\n",
    "for i in range(0,3):\n",
    "    mean_tpr += interp(all_fpr, fpr[i], tpr[i])\n",
    "\n",
    "# Finally average it and compute AUC\n",
    "mean_tpr /= 3\n",
    "\n",
    "fpr[\"macro\"] = all_fpr\n",
    "tpr[\"macro\"] = mean_tpr\n",
    "roc_auc[\"macro\"] = auc(fpr[\"macro\"], tpr[\"macro\"])\n",
    "\n",
    "# Plot all ROC curves\n",
    "plt.figure()\n",
    "#plt.plot(fpr[\"micro\"], tpr[\"micro\"],\n",
    "#         label='micro-average ROC curve (area = {0:0.2f})'\n",
    "#               ''.format(roc_auc[\"micro\"]),\n",
    "#         color='deeppink', linestyle=':', linewidth=4)\n",
    "\n",
    "plt.plot(fpr[\"macro\"], tpr[\"macro\"],\n",
    "         label='macro-average ROC curve (area = {0:0.2f})'.format(roc_auc[\"macro\"]),\n",
    "         color='gray', linestyle=':', linewidth=4)\n",
    "\n",
    "colors = cycle(['red', 'blue', 'green'])\n",
    "types = cycle(['sig', 'qcd', 'ttbar'])\n",
    "for i, color, typ in zip(range(0,3), colors, types):\n",
    "    plt.plot(fpr[i], tpr[i], color=color, lw=lw,\n",
    "             label='{0} score ROC curve (area = {1:0.2f})'.format(typ, roc_auc[i]))\n",
    "\n",
    "plt.plot([0, 1], [0, 1], 'k--', lw=lw)\n",
    "plt.xlim([0.0, 1.0])\n",
    "plt.ylim([0.0, 1.05])\n",
    "plt.xlabel('False Positive Rate')\n",
    "plt.ylabel('True Positive Rate')\n",
    "plt.title('All ROC curves')\n",
    "plt.legend(loc=\"lower right\")\n",
    "plt.show()\n"
   ]
  },
  {
   "cell_type": "code",
   "execution_count": 40,
   "metadata": {},
   "outputs": [
    {
     "data": {
      "text/plain": [
       "(130812, 3)"
      ]
     },
     "execution_count": 40,
     "metadata": {},
     "output_type": "execute_result"
    }
   ],
   "source": [
    "np.shape(probTest)\n"
   ]
  },
  {
   "cell_type": "code",
   "execution_count": 83,
   "metadata": {},
   "outputs": [],
   "source": [
    "# Construct discriminant\n",
    "scores_train = MyDict()\n",
    "scores_test = MyDict()\n",
    "\n",
    "# Format data for convenience\n",
    "trainData = pandas.DataFrame(X_train)\n",
    "testData = pandas.DataFrame(X_test)\n",
    "scores_train = np.log(probTrain[:,0]/(1*probTrain[:,1]+1*probTrain[:,2]))\n",
    "scores_test = np.log(probTest[:,0]/(1*probTest[:,1]+1*probTest[:,2]))\n",
    "trainData['disc'] = pandas.Series(scores_train, index=trainData.index)\n",
    "trainData['sig_score'] = pandas.Series(probTrain[:,0], index=trainData.index)\n",
    "testData['disc'] = pandas.Series(scores_test, index=testData.index)\n",
    "testData['sig_score'] = pandas.Series(probTest[:,0], index=testData.index)\n",
    "trainData['qcd_score'] = pandas.Series(probTrain[:,1], index=trainData.index)\n",
    "trainData['top_score'] = pandas.Series(probTrain[:,2], index=trainData.index)\n",
    "trainData['weight'] = pandas.Series(evtWeightsTrain, index=trainData.index)\n",
    "trainData['process'] = pandas.Series(yTypeTrain, index=trainData.index)\n"
   ]
  },
  {
   "cell_type": "code",
   "execution_count": 84,
   "metadata": {},
   "outputs": [],
   "source": [
    "testData['qcd_score'] = pandas.Series(probTest[:,1], index=testData.index)\n",
    "testData['top_score'] = pandas.Series(probTest[:,2], index=testData.index)\n",
    "testData['weight'] = pandas.Series(evtWeightsVal, index=testData.index)\n",
    "testData['process'] = pandas.Series(yTypeTest, index=testData.index)"
   ]
  },
  {
   "cell_type": "code",
   "execution_count": 85,
   "metadata": {},
   "outputs": [
    {
     "data": {
      "text/plain": [
       "Text(0.5,1,'intermediate (training and validation samples)')"
      ]
     },
     "execution_count": 85,
     "metadata": {},
     "output_type": "execute_result"
    },
    {
     "data": {
      "image/png": "[encoded data removed]",
      "text/plain": [
       "<Figure size 864x432 with 1 Axes>"
      ]
     },
     "metadata": {},
     "output_type": "display_data"
    }
   ],
   "source": [
    "# Plot distributions of signal score on validation data\n",
    "hist_params = {'density': True, 'bins': 50, 'linewidth': 2}\n",
    "min_value = 0\n",
    "max_value = 1\n",
    "plt.figure(figsize=(12,6))\n",
    "colors = cycle(['firebrick', 'orange', 'deeppink','gold'])\n",
    "styles = cycle(['--', '-','-.'])\n",
    "\n",
    "plt.hist(trainData[trainData.process == 0]['sig_score'], color=[\"r\"], weights=trainData[trainData.process == 0]['weight'], range=(min_value, max_value), histtype='step', label='signal', **hist_params)\n",
    "plt.hist(trainData[trainData.process == 1]['sig_score'], color=[\"b\"], weights=trainData[trainData.process == 1]['weight'], range=(min_value, max_value), histtype='step', label='QCD', **hist_params)\n",
    "plt.hist(trainData[trainData.process == 2]['sig_score'], color=[\"g\"], weights=trainData[trainData.process == 2]['weight'], range=(min_value, max_value), histtype='step', label='ttbar', **hist_params)\n",
    "plt.hist(testData[testData.process == 0]['sig_score'], color=[\"r\"], linestyle = \"dotted\", weights=testData[testData.process == 0]['weight'], range=(min_value, max_value), histtype='step', label='signal', **hist_params)\n",
    "plt.hist(testData[testData.process == 1]['sig_score'], color=[\"b\"], linestyle = \"dotted\", weights=testData[testData.process == 1]['weight'], range=(min_value, max_value), histtype='step', label='QCD', **hist_params)\n",
    "plt.hist(testData[testData.process == 2]['sig_score'], color=[\"g\"], linestyle = \"dotted\", weights=testData[testData.process == 2]['weight'], range=(min_value, max_value), histtype='step', label='ttbar', **hist_params)\n",
    "plt.legend(loc='best')\n",
    "plt.xlabel(\"signal score\",fontsize=20)\n",
    "plt.ylabel(\"1/N dN/d(NN Score)\",fontsize=20)\n",
    "#plt.yscale('log')\n",
    "plt.title(analysis + \" (training and validation samples)\")\n",
    "#plt.figure(figsize=(12,6))\n",
    "#plt.hist(trainData[trainData.process == 0]['qcd_score'], color=[\"r\"], weights=trainData[trainData.process == 0]['weight'], range=(min_value, max_value), histtype='step', label='Signal', **hist_params)\n",
    "#plt.hist(trainData[trainData.process == 1]['qcd_score'], color=[\"b\"], weights=trainData[trainData.process == 1]['weight'], range=(min_value, max_value), histtype='step', label='QCD', **hist_params)\n",
    "#plt.hist(trainData[trainData.process == 2]['qcd_score'], color=[\"g\"], weights=trainData[trainData.process == 2]['weight'], range=(min_value, max_value), histtype='step', label='ttbar', **hist_params)\n",
    "#plt.hist(testData[testData.process == 0]['qcd_score'], color=[\"r\"], linestyle = \"dotted\", weights=testData[testData.process == 0]['weight'], range=(min_value, max_value), histtype='step', label='Signal(Val)', **hist_params)\n",
    "#plt.hist(testData[testData.process == 1]['qcd_score'], color=[\"b\"], linestyle = \"dotted\", weights=testData[testData.process == 1]['weight'], range=(min_value, max_value), histtype='step', label='QCD(Val)', **hist_params)\n",
    "#plt.hist(testData[testData.process == 2]['qcd_score'], color=[\"g\"], linestyle = \"dotted\", weights=testData[testData.process == 2]['weight'], range=(min_value, max_value), histtype='step', label='ttbar(Val)', **hist_params)\n",
    "#plt.legend(loc='best')\n",
    "#plt.xlabel(\"qcd score\",fontsize=20)\n",
    "#plt.ylabel(\"1/N dN/d(NN Score)\",fontsize=20)\n",
    "#plt.title(analysis + \" (training and validation samples)\")\n",
    "#plt.figure(figsize=(12,6))\n",
    "#plt.hist(trainData[trainData.process == 0]['top_score'], color=[\"r\"], weights=trainData[trainData.process == 0]['weight'], range=(min_value, max_value), histtype='step', label='Signal', **hist_params)\n",
    "#plt.hist(trainData[trainData.process == 1]['top_score'], color=[\"b\"], weights=trainData[trainData.process == 1]['weight'], range=(min_value, max_value), histtype='step', label='QCD', **hist_params)\n",
    "#plt.hist(trainData[trainData.process == 2]['top_score'], color=[\"g\"], weights=trainData[trainData.process == 2]['weight'], range=(min_value, max_value), histtype='step', label='ttbar', **hist_params)\n",
    "#plt.hist(testData[testData.process == 0]['top_score'], color=[\"r\"], linestyle = \"dotted\", weights=testData[testData.process == 0]['weight'], range=(min_value, max_value), histtype='step', label='Signal(Val)', **hist_params)\n",
    "#plt.hist(testData[testData.process == 1]['top_score'], color=[\"b\"], linestyle = \"dotted\", weights=testData[testData.process == 1]['weight'], range=(min_value, max_value), histtype='step', label='QCD(Val)', **hist_params)\n",
    "#plt.hist(testData[testData.process == 2]['top_score'], color=[\"g\"], linestyle = \"dotted\", weights=testData[testData.process == 2]['weight'], range=(min_value, max_value), histtype='step', label='ttbar(Val)', **hist_params)\n",
    "#plt.legend(loc='best')\n",
    "#plt.xlabel(\"ttbar score\",fontsize=20)\n",
    "#plt.ylabel(\"1/N dN/d(NN Score)\",fontsize=20)"
   ]
  },
  {
   "cell_type": "code",
   "execution_count": 86,
   "metadata": {
    "scrolled": false
   },
   "outputs": [
    {
     "data": {
      "text/plain": [
       "Text(0,0.5,'1/N dN/d(NN Score)')"
      ]
     },
     "execution_count": 86,
     "metadata": {},
     "output_type": "execute_result"
    },
    {
     "data": {
      "image/png": "[encoded data removed]",
      "text/plain": [
       "<Figure size 864x432 with 1 Axes>"
      ]
     },
     "metadata": {},
     "output_type": "display_data"
    }
   ],
   "source": [
    "styles = cycle([':', '-.'])\n",
    "\n",
    "plt.figure(figsize=(12,6))\n",
    "plt.hist(trainData[trainData.process == 0]['disc'], linestyle = \"-\", color=\"red\", weights=trainData[trainData.process == 0]['weight'], histtype='step', label=\"sig.(SM)\", **hist_params,range=(-10, 6))\n",
    "plt.hist(trainData[trainData.process == 1]['disc'], linestyle = \"-\", color=\"blue\", weights=trainData[trainData.process == 1]['weight'], histtype='step', label=\"qcd, SM disc.\", **hist_params,range=(-10,6))\n",
    "plt.hist(trainData[trainData.process == 2]['disc'], linestyle = \"-\", color=\"green\", weights=trainData[trainData.process == 2]['weight'], histtype='step', label=\"ttbar, SM disc.\", **hist_params,range=(-10, 6))\n",
    "plt.hist(testData[testData.process == 0]['disc'], linestyle = \":\", color=\"red\", weights=testData[testData.process == 0]['weight'], histtype='step', label=\"sig.(SM)\", **hist_params,range=(-10, 6))\n",
    "plt.hist(testData[testData.process == 1]['disc'], linestyle = \":\", color=\"blue\", weights=testData[testData.process == 1]['weight'], histtype='step', label=\"qcd, SM disc.\", **hist_params,range=(-10,6))\n",
    "plt.hist(testData[testData.process == 2]['disc'], linestyle = \":\", color=\"green\", weights=testData[testData.process == 2]['weight'], histtype='step', label=\"ttbar, SM disc.\", **hist_params,range=(-10, 6))\n",
    "plt.legend(loc='best')\n",
    "plt.xlabel(\"discriminant\",fontsize=20)\n",
    "plt.ylabel(\"1/N dN/d(NN Score)\",fontsize=20)"
   ]
  },
  {
   "cell_type": "code",
   "execution_count": 70,
   "metadata": {
    "scrolled": true
   },
   "outputs": [
    {
     "ename": "KeyError",
     "evalue": "'disc_0'",
     "output_type": "error",
     "traceback": [
      "\u001b[0;31m---------------------------------------------------------------------------\u001b[0m",
      "\u001b[0;31mKeyError\u001b[0m                                  Traceback (most recent call last)",
      "\u001b[0;32m/cvmfs/sft.cern.ch/lcg/views/LCG_94python3/x86_64-slc6-gcc8-opt/lib/python3.6/site-packages/pandas/core/indexes/base.py\u001b[0m in \u001b[0;36mget_loc\u001b[0;34m(self, key, method, tolerance)\u001b[0m\n\u001b[1;32m   3077\u001b[0m             \u001b[0;32mtry\u001b[0m\u001b[0;34m:\u001b[0m\u001b[0;34m\u001b[0m\u001b[0m\n\u001b[0;32m-> 3078\u001b[0;31m                 \u001b[0;32mreturn\u001b[0m \u001b[0mself\u001b[0m\u001b[0;34m.\u001b[0m\u001b[0m_engine\u001b[0m\u001b[0;34m.\u001b[0m\u001b[0mget_loc\u001b[0m\u001b[0;34m(\u001b[0m\u001b[0mkey\u001b[0m\u001b[0;34m)\u001b[0m\u001b[0;34m\u001b[0m\u001b[0m\n\u001b[0m\u001b[1;32m   3079\u001b[0m             \u001b[0;32mexcept\u001b[0m \u001b[0mKeyError\u001b[0m\u001b[0;34m:\u001b[0m\u001b[0;34m\u001b[0m\u001b[0m\n",
      "\u001b[0;32mpandas/_libs/index.pyx\u001b[0m in \u001b[0;36mpandas._libs.index.IndexEngine.get_loc\u001b[0;34m()\u001b[0m\n",
      "\u001b[0;32mpandas/_libs/index.pyx\u001b[0m in \u001b[0;36mpandas._libs.index.IndexEngine.get_loc\u001b[0;34m()\u001b[0m\n",
      "\u001b[0;32mpandas/_libs/hashtable_class_helper.pxi\u001b[0m in \u001b[0;36mpandas._libs.hashtable.PyObjectHashTable.get_item\u001b[0;34m()\u001b[0m\n",
      "\u001b[0;32mpandas/_libs/hashtable_class_helper.pxi\u001b[0m in \u001b[0;36mpandas._libs.hashtable.PyObjectHashTable.get_item\u001b[0;34m()\u001b[0m\n",
      "\u001b[0;31mKeyError\u001b[0m: 'disc_0'",
      "\nDuring handling of the above exception, another exception occurred:\n",
      "\u001b[0;31mKeyError\u001b[0m                                  Traceback (most recent call last)",
      "\u001b[0;32m<ipython-input-70-f0760dee0669>\u001b[0m in \u001b[0;36m<module>\u001b[0;34m()\u001b[0m\n\u001b[1;32m      1\u001b[0m \u001b[0mplt\u001b[0m\u001b[0;34m.\u001b[0m\u001b[0mfigure\u001b[0m\u001b[0;34m(\u001b[0m\u001b[0mfigsize\u001b[0m\u001b[0;34m=\u001b[0m\u001b[0;34m(\u001b[0m\u001b[0;36m12\u001b[0m\u001b[0;34m,\u001b[0m\u001b[0;36m6\u001b[0m\u001b[0;34m)\u001b[0m\u001b[0;34m)\u001b[0m\u001b[0;34m\u001b[0m\u001b[0m\n\u001b[0;32m----> 2\u001b[0;31m \u001b[0mplt\u001b[0m\u001b[0;34m.\u001b[0m\u001b[0mhist\u001b[0m\u001b[0;34m(\u001b[0m\u001b[0mtrainData\u001b[0m\u001b[0;34m[\u001b[0m\u001b[0mtrainData\u001b[0m\u001b[0;34m.\u001b[0m\u001b[0mprocess\u001b[0m \u001b[0;34m==\u001b[0m \u001b[0;36m0\u001b[0m\u001b[0;34m]\u001b[0m\u001b[0;34m[\u001b[0m\u001b[0;34m'disc_'\u001b[0m\u001b[0;34m+\u001b[0m\u001b[0mstr\u001b[0m\u001b[0;34m(\u001b[0m\u001b[0;36m0\u001b[0m\u001b[0;34m)\u001b[0m\u001b[0;34m]\u001b[0m\u001b[0;34m,\u001b[0m \u001b[0mlinestyle\u001b[0m \u001b[0;34m=\u001b[0m \u001b[0;34m\"-\"\u001b[0m\u001b[0;34m,\u001b[0m \u001b[0mcolor\u001b[0m\u001b[0;34m=\u001b[0m\u001b[0;34m\"red\"\u001b[0m\u001b[0;34m,\u001b[0m \u001b[0mweights\u001b[0m\u001b[0;34m=\u001b[0m\u001b[0mtrainData\u001b[0m\u001b[0;34m[\u001b[0m\u001b[0mtrainData\u001b[0m\u001b[0;34m.\u001b[0m\u001b[0mprocess\u001b[0m \u001b[0;34m==\u001b[0m \u001b[0;36m0\u001b[0m\u001b[0;34m]\u001b[0m\u001b[0;34m[\u001b[0m\u001b[0;34m'weight'\u001b[0m\u001b[0;34m]\u001b[0m\u001b[0;34m,\u001b[0m \u001b[0mhisttype\u001b[0m\u001b[0;34m=\u001b[0m\u001b[0;34m'step'\u001b[0m\u001b[0;34m,\u001b[0m \u001b[0mlabel\u001b[0m\u001b[0;34m=\u001b[0m\u001b[0;34m\"sig.(SM)\"\u001b[0m\u001b[0;34m,\u001b[0m \u001b[0;34m**\u001b[0m\u001b[0mhist_params\u001b[0m\u001b[0;34m,\u001b[0m\u001b[0mrange\u001b[0m\u001b[0;34m=\u001b[0m\u001b[0;34m(\u001b[0m\u001b[0;34m-\u001b[0m\u001b[0;36m3\u001b[0m\u001b[0;34m,\u001b[0m \u001b[0;34m-\u001b[0m\u001b[0;36m1.5\u001b[0m\u001b[0;34m)\u001b[0m\u001b[0;34m)\u001b[0m\u001b[0;34m\u001b[0m\u001b[0m\n\u001b[0m\u001b[1;32m      3\u001b[0m \u001b[0mplt\u001b[0m\u001b[0;34m.\u001b[0m\u001b[0mhist\u001b[0m\u001b[0;34m(\u001b[0m\u001b[0mtrainData\u001b[0m\u001b[0;34m[\u001b[0m\u001b[0mtrainData\u001b[0m\u001b[0;34m.\u001b[0m\u001b[0mprocess\u001b[0m \u001b[0;34m==\u001b[0m \u001b[0;36m1\u001b[0m\u001b[0;34m]\u001b[0m\u001b[0;34m[\u001b[0m\u001b[0;34m'disc_'\u001b[0m\u001b[0;34m+\u001b[0m\u001b[0mstr\u001b[0m\u001b[0;34m(\u001b[0m\u001b[0;36m0\u001b[0m\u001b[0;34m)\u001b[0m\u001b[0;34m]\u001b[0m\u001b[0;34m,\u001b[0m \u001b[0mlinestyle\u001b[0m \u001b[0;34m=\u001b[0m \u001b[0;34m\"-\"\u001b[0m\u001b[0;34m,\u001b[0m \u001b[0mcolor\u001b[0m\u001b[0;34m=\u001b[0m\u001b[0;34m\"blue\"\u001b[0m\u001b[0;34m,\u001b[0m \u001b[0mweights\u001b[0m\u001b[0;34m=\u001b[0m\u001b[0mtrainData\u001b[0m\u001b[0;34m[\u001b[0m\u001b[0mtrainData\u001b[0m\u001b[0;34m.\u001b[0m\u001b[0mprocess\u001b[0m \u001b[0;34m==\u001b[0m \u001b[0;36m1\u001b[0m\u001b[0;34m]\u001b[0m\u001b[0;34m[\u001b[0m\u001b[0;34m'weight'\u001b[0m\u001b[0;34m]\u001b[0m\u001b[0;34m,\u001b[0m \u001b[0mhisttype\u001b[0m\u001b[0;34m=\u001b[0m\u001b[0;34m'step'\u001b[0m\u001b[0;34m,\u001b[0m \u001b[0mlabel\u001b[0m\u001b[0;34m=\u001b[0m\u001b[0;34m\"qcd, SM disc.\"\u001b[0m\u001b[0;34m,\u001b[0m \u001b[0;34m**\u001b[0m\u001b[0mhist_params\u001b[0m\u001b[0;34m,\u001b[0m\u001b[0mrange\u001b[0m\u001b[0;34m=\u001b[0m\u001b[0;34m(\u001b[0m\u001b[0;34m-\u001b[0m\u001b[0;36m3.5\u001b[0m\u001b[0;34m,\u001b[0m \u001b[0;34m-\u001b[0m\u001b[0;36m1\u001b[0m\u001b[0;34m)\u001b[0m\u001b[0;34m)\u001b[0m\u001b[0;34m\u001b[0m\u001b[0m\n\u001b[1;32m      4\u001b[0m \u001b[0mplt\u001b[0m\u001b[0;34m.\u001b[0m\u001b[0mhist\u001b[0m\u001b[0;34m(\u001b[0m\u001b[0mtrainData\u001b[0m\u001b[0;34m[\u001b[0m\u001b[0mtrainData\u001b[0m\u001b[0;34m.\u001b[0m\u001b[0mprocess\u001b[0m \u001b[0;34m==\u001b[0m \u001b[0;36m2\u001b[0m\u001b[0;34m]\u001b[0m\u001b[0;34m[\u001b[0m\u001b[0;34m'disc_'\u001b[0m\u001b[0;34m+\u001b[0m\u001b[0mstr\u001b[0m\u001b[0;34m(\u001b[0m\u001b[0;36m0\u001b[0m\u001b[0;34m)\u001b[0m\u001b[0;34m]\u001b[0m\u001b[0;34m,\u001b[0m \u001b[0mlinestyle\u001b[0m \u001b[0;34m=\u001b[0m \u001b[0;34m\"-\"\u001b[0m\u001b[0;34m,\u001b[0m \u001b[0mcolor\u001b[0m\u001b[0;34m=\u001b[0m\u001b[0;34m\"green\"\u001b[0m\u001b[0;34m,\u001b[0m \u001b[0mweights\u001b[0m\u001b[0;34m=\u001b[0m\u001b[0mtrainData\u001b[0m\u001b[0;34m[\u001b[0m\u001b[0mtrainData\u001b[0m\u001b[0;34m.\u001b[0m\u001b[0mprocess\u001b[0m \u001b[0;34m==\u001b[0m \u001b[0;36m2\u001b[0m\u001b[0;34m]\u001b[0m\u001b[0;34m[\u001b[0m\u001b[0;34m'weight'\u001b[0m\u001b[0;34m]\u001b[0m\u001b[0;34m,\u001b[0m \u001b[0mhisttype\u001b[0m\u001b[0;34m=\u001b[0m\u001b[0;34m'step'\u001b[0m\u001b[0;34m,\u001b[0m \u001b[0mlabel\u001b[0m\u001b[0;34m=\u001b[0m\u001b[0;34m\"ttbar, SM disc.\"\u001b[0m\u001b[0;34m,\u001b[0m \u001b[0;34m**\u001b[0m\u001b[0mhist_params\u001b[0m\u001b[0;34m,\u001b[0m\u001b[0mrange\u001b[0m\u001b[0;34m=\u001b[0m\u001b[0;34m(\u001b[0m\u001b[0;34m-\u001b[0m\u001b[0;36m3.5\u001b[0m\u001b[0;34m,\u001b[0m \u001b[0;34m-\u001b[0m\u001b[0;36m1\u001b[0m\u001b[0;34m)\u001b[0m\u001b[0;34m)\u001b[0m\u001b[0;34m\u001b[0m\u001b[0m\n\u001b[1;32m      5\u001b[0m \u001b[0mplt\u001b[0m\u001b[0;34m.\u001b[0m\u001b[0mlegend\u001b[0m\u001b[0;34m(\u001b[0m\u001b[0mloc\u001b[0m\u001b[0;34m=\u001b[0m\u001b[0;34m'best'\u001b[0m\u001b[0;34m)\u001b[0m\u001b[0;34m\u001b[0m\u001b[0m\n",
      "\u001b[0;32m/cvmfs/sft.cern.ch/lcg/views/LCG_94python3/x86_64-slc6-gcc8-opt/lib/python3.6/site-packages/pandas/core/frame.py\u001b[0m in \u001b[0;36m__getitem__\u001b[0;34m(self, key)\u001b[0m\n\u001b[1;32m   2686\u001b[0m             \u001b[0;32mreturn\u001b[0m \u001b[0mself\u001b[0m\u001b[0;34m.\u001b[0m\u001b[0m_getitem_multilevel\u001b[0m\u001b[0;34m(\u001b[0m\u001b[0mkey\u001b[0m\u001b[0;34m)\u001b[0m\u001b[0;34m\u001b[0m\u001b[0m\n\u001b[1;32m   2687\u001b[0m         \u001b[0;32melse\u001b[0m\u001b[0;34m:\u001b[0m\u001b[0;34m\u001b[0m\u001b[0m\n\u001b[0;32m-> 2688\u001b[0;31m             \u001b[0;32mreturn\u001b[0m \u001b[0mself\u001b[0m\u001b[0;34m.\u001b[0m\u001b[0m_getitem_column\u001b[0m\u001b[0;34m(\u001b[0m\u001b[0mkey\u001b[0m\u001b[0;34m)\u001b[0m\u001b[0;34m\u001b[0m\u001b[0m\n\u001b[0m\u001b[1;32m   2689\u001b[0m \u001b[0;34m\u001b[0m\u001b[0m\n\u001b[1;32m   2690\u001b[0m     \u001b[0;32mdef\u001b[0m \u001b[0m_getitem_column\u001b[0m\u001b[0;34m(\u001b[0m\u001b[0mself\u001b[0m\u001b[0;34m,\u001b[0m \u001b[0mkey\u001b[0m\u001b[0;34m)\u001b[0m\u001b[0;34m:\u001b[0m\u001b[0;34m\u001b[0m\u001b[0m\n",
      "\u001b[0;32m/cvmfs/sft.cern.ch/lcg/views/LCG_94python3/x86_64-slc6-gcc8-opt/lib/python3.6/site-packages/pandas/core/frame.py\u001b[0m in \u001b[0;36m_getitem_column\u001b[0;34m(self, key)\u001b[0m\n\u001b[1;32m   2693\u001b[0m         \u001b[0;31m# get column\u001b[0m\u001b[0;34m\u001b[0m\u001b[0;34m\u001b[0m\u001b[0m\n\u001b[1;32m   2694\u001b[0m         \u001b[0;32mif\u001b[0m \u001b[0mself\u001b[0m\u001b[0;34m.\u001b[0m\u001b[0mcolumns\u001b[0m\u001b[0;34m.\u001b[0m\u001b[0mis_unique\u001b[0m\u001b[0;34m:\u001b[0m\u001b[0;34m\u001b[0m\u001b[0m\n\u001b[0;32m-> 2695\u001b[0;31m             \u001b[0;32mreturn\u001b[0m \u001b[0mself\u001b[0m\u001b[0;34m.\u001b[0m\u001b[0m_get_item_cache\u001b[0m\u001b[0;34m(\u001b[0m\u001b[0mkey\u001b[0m\u001b[0;34m)\u001b[0m\u001b[0;34m\u001b[0m\u001b[0m\n\u001b[0m\u001b[1;32m   2696\u001b[0m \u001b[0;34m\u001b[0m\u001b[0m\n\u001b[1;32m   2697\u001b[0m         \u001b[0;31m# duplicate columns & possible reduce dimensionality\u001b[0m\u001b[0;34m\u001b[0m\u001b[0;34m\u001b[0m\u001b[0m\n",
      "\u001b[0;32m/cvmfs/sft.cern.ch/lcg/views/LCG_94python3/x86_64-slc6-gcc8-opt/lib/python3.6/site-packages/pandas/core/generic.py\u001b[0m in \u001b[0;36m_get_item_cache\u001b[0;34m(self, item)\u001b[0m\n\u001b[1;32m   2487\u001b[0m         \u001b[0mres\u001b[0m \u001b[0;34m=\u001b[0m \u001b[0mcache\u001b[0m\u001b[0;34m.\u001b[0m\u001b[0mget\u001b[0m\u001b[0;34m(\u001b[0m\u001b[0mitem\u001b[0m\u001b[0;34m)\u001b[0m\u001b[0;34m\u001b[0m\u001b[0m\n\u001b[1;32m   2488\u001b[0m         \u001b[0;32mif\u001b[0m \u001b[0mres\u001b[0m \u001b[0;32mis\u001b[0m \u001b[0;32mNone\u001b[0m\u001b[0;34m:\u001b[0m\u001b[0;34m\u001b[0m\u001b[0m\n\u001b[0;32m-> 2489\u001b[0;31m             \u001b[0mvalues\u001b[0m \u001b[0;34m=\u001b[0m \u001b[0mself\u001b[0m\u001b[0;34m.\u001b[0m\u001b[0m_data\u001b[0m\u001b[0;34m.\u001b[0m\u001b[0mget\u001b[0m\u001b[0;34m(\u001b[0m\u001b[0mitem\u001b[0m\u001b[0;34m)\u001b[0m\u001b[0;34m\u001b[0m\u001b[0m\n\u001b[0m\u001b[1;32m   2490\u001b[0m             \u001b[0mres\u001b[0m \u001b[0;34m=\u001b[0m \u001b[0mself\u001b[0m\u001b[0;34m.\u001b[0m\u001b[0m_box_item_values\u001b[0m\u001b[0;34m(\u001b[0m\u001b[0mitem\u001b[0m\u001b[0;34m,\u001b[0m \u001b[0mvalues\u001b[0m\u001b[0;34m)\u001b[0m\u001b[0;34m\u001b[0m\u001b[0m\n\u001b[1;32m   2491\u001b[0m             \u001b[0mcache\u001b[0m\u001b[0;34m[\u001b[0m\u001b[0mitem\u001b[0m\u001b[0;34m]\u001b[0m \u001b[0;34m=\u001b[0m \u001b[0mres\u001b[0m\u001b[0;34m\u001b[0m\u001b[0m\n",
      "\u001b[0;32m/cvmfs/sft.cern.ch/lcg/views/LCG_94python3/x86_64-slc6-gcc8-opt/lib/python3.6/site-packages/pandas/core/internals.py\u001b[0m in \u001b[0;36mget\u001b[0;34m(self, item, fastpath)\u001b[0m\n\u001b[1;32m   4113\u001b[0m \u001b[0;34m\u001b[0m\u001b[0m\n\u001b[1;32m   4114\u001b[0m             \u001b[0;32mif\u001b[0m \u001b[0;32mnot\u001b[0m \u001b[0misna\u001b[0m\u001b[0;34m(\u001b[0m\u001b[0mitem\u001b[0m\u001b[0;34m)\u001b[0m\u001b[0;34m:\u001b[0m\u001b[0;34m\u001b[0m\u001b[0m\n\u001b[0;32m-> 4115\u001b[0;31m                 \u001b[0mloc\u001b[0m \u001b[0;34m=\u001b[0m \u001b[0mself\u001b[0m\u001b[0;34m.\u001b[0m\u001b[0mitems\u001b[0m\u001b[0;34m.\u001b[0m\u001b[0mget_loc\u001b[0m\u001b[0;34m(\u001b[0m\u001b[0mitem\u001b[0m\u001b[0;34m)\u001b[0m\u001b[0;34m\u001b[0m\u001b[0m\n\u001b[0m\u001b[1;32m   4116\u001b[0m             \u001b[0;32melse\u001b[0m\u001b[0;34m:\u001b[0m\u001b[0;34m\u001b[0m\u001b[0m\n\u001b[1;32m   4117\u001b[0m                 \u001b[0mindexer\u001b[0m \u001b[0;34m=\u001b[0m \u001b[0mnp\u001b[0m\u001b[0;34m.\u001b[0m\u001b[0marange\u001b[0m\u001b[0;34m(\u001b[0m\u001b[0mlen\u001b[0m\u001b[0;34m(\u001b[0m\u001b[0mself\u001b[0m\u001b[0;34m.\u001b[0m\u001b[0mitems\u001b[0m\u001b[0;34m)\u001b[0m\u001b[0;34m)\u001b[0m\u001b[0;34m[\u001b[0m\u001b[0misna\u001b[0m\u001b[0;34m(\u001b[0m\u001b[0mself\u001b[0m\u001b[0;34m.\u001b[0m\u001b[0mitems\u001b[0m\u001b[0;34m)\u001b[0m\u001b[0;34m]\u001b[0m\u001b[0;34m\u001b[0m\u001b[0m\n",
      "\u001b[0;32m/cvmfs/sft.cern.ch/lcg/views/LCG_94python3/x86_64-slc6-gcc8-opt/lib/python3.6/site-packages/pandas/core/indexes/base.py\u001b[0m in \u001b[0;36mget_loc\u001b[0;34m(self, key, method, tolerance)\u001b[0m\n\u001b[1;32m   3078\u001b[0m                 \u001b[0;32mreturn\u001b[0m \u001b[0mself\u001b[0m\u001b[0;34m.\u001b[0m\u001b[0m_engine\u001b[0m\u001b[0;34m.\u001b[0m\u001b[0mget_loc\u001b[0m\u001b[0;34m(\u001b[0m\u001b[0mkey\u001b[0m\u001b[0;34m)\u001b[0m\u001b[0;34m\u001b[0m\u001b[0m\n\u001b[1;32m   3079\u001b[0m             \u001b[0;32mexcept\u001b[0m \u001b[0mKeyError\u001b[0m\u001b[0;34m:\u001b[0m\u001b[0;34m\u001b[0m\u001b[0m\n\u001b[0;32m-> 3080\u001b[0;31m                 \u001b[0;32mreturn\u001b[0m \u001b[0mself\u001b[0m\u001b[0;34m.\u001b[0m\u001b[0m_engine\u001b[0m\u001b[0;34m.\u001b[0m\u001b[0mget_loc\u001b[0m\u001b[0;34m(\u001b[0m\u001b[0mself\u001b[0m\u001b[0;34m.\u001b[0m\u001b[0m_maybe_cast_indexer\u001b[0m\u001b[0;34m(\u001b[0m\u001b[0mkey\u001b[0m\u001b[0;34m)\u001b[0m\u001b[0;34m)\u001b[0m\u001b[0;34m\u001b[0m\u001b[0m\n\u001b[0m\u001b[1;32m   3081\u001b[0m \u001b[0;34m\u001b[0m\u001b[0m\n\u001b[1;32m   3082\u001b[0m         \u001b[0mindexer\u001b[0m \u001b[0;34m=\u001b[0m \u001b[0mself\u001b[0m\u001b[0;34m.\u001b[0m\u001b[0mget_indexer\u001b[0m\u001b[0;34m(\u001b[0m\u001b[0;34m[\u001b[0m\u001b[0mkey\u001b[0m\u001b[0;34m]\u001b[0m\u001b[0;34m,\u001b[0m \u001b[0mmethod\u001b[0m\u001b[0;34m=\u001b[0m\u001b[0mmethod\u001b[0m\u001b[0;34m,\u001b[0m \u001b[0mtolerance\u001b[0m\u001b[0;34m=\u001b[0m\u001b[0mtolerance\u001b[0m\u001b[0;34m)\u001b[0m\u001b[0;34m\u001b[0m\u001b[0m\n",
      "\u001b[0;32mpandas/_libs/index.pyx\u001b[0m in \u001b[0;36mpandas._libs.index.IndexEngine.get_loc\u001b[0;34m()\u001b[0m\n",
      "\u001b[0;32mpandas/_libs/index.pyx\u001b[0m in \u001b[0;36mpandas._libs.index.IndexEngine.get_loc\u001b[0;34m()\u001b[0m\n",
      "\u001b[0;32mpandas/_libs/hashtable_class_helper.pxi\u001b[0m in \u001b[0;36mpandas._libs.hashtable.PyObjectHashTable.get_item\u001b[0;34m()\u001b[0m\n",
      "\u001b[0;32mpandas/_libs/hashtable_class_helper.pxi\u001b[0m in \u001b[0;36mpandas._libs.hashtable.PyObjectHashTable.get_item\u001b[0;34m()\u001b[0m\n",
      "\u001b[0;31mKeyError\u001b[0m: 'disc_0'"
     ]
    },
    {
     "data": {
      "text/plain": [
       "<Figure size 864x432 with 0 Axes>"
      ]
     },
     "metadata": {},
     "output_type": "display_data"
    }
   ],
   "source": [
    "plt.figure(figsize=(12,6))\n",
    "plt.hist(trainData[trainData.process == 0]['disc_'+str(0)], linestyle = \"-\", color=\"red\", weights=trainData[trainData.process == 0]['weight'], histtype='step', label=\"sig.(SM)\", **hist_params,range=(-3, -1.5))\n",
    "plt.hist(trainData[trainData.process == 1]['disc_'+str(0)], linestyle = \"-\", color=\"blue\", weights=trainData[trainData.process == 1]['weight'], histtype='step', label=\"qcd, SM disc.\", **hist_params,range=(-3.5, -1))\n",
    "plt.hist(trainData[trainData.process == 2]['disc_'+str(0)], linestyle = \"-\", color=\"green\", weights=trainData[trainData.process == 2]['weight'], histtype='step', label=\"ttbar, SM disc.\", **hist_params,range=(-3.5, -1))\n",
    "plt.legend(loc='best')\n",
    "plt.xlabel(\"discriminant\",fontsize=20)\n",
    "plt.ylabel(\"1/N dN/d(NN Score)\",fontsize=20)"
   ]
  },
  {
   "cell_type": "code",
   "execution_count": 243,
   "metadata": {},
   "outputs": [
    {
     "name": "stdout",
     "output_type": "stream",
     "text": [
      "(array([ 0,  1,  2,  3,  4,  5,  6,  7,  8,  9, 10, 11, 12]), array([ 30372, 153682, 124071,  11301,  14502,  14750,  14556,  15096,\n",
      "        15566,  13396,   1416,  14559,  12773]))\n"
     ]
    }
   ],
   "source": [
    "print(np.unique(yTypeRun,return_counts=True))"
   ]
  },
  {
   "cell_type": "code",
   "execution_count": 244,
   "metadata": {},
   "outputs": [
    {
     "name": "stdout",
     "output_type": "stream",
     "text": [
      "The history saving thread hit an unexpected error (OperationalError('unable to open database file',)).History will not be written to the database."
     ]
    }
   ],
   "source": [
    "##append_mc_sf = signalAppendData.pop(\"mc_sf\")\n",
    "#append_mc_sf = X_run.pop(\"mc_sf\")\n",
    "#append_mc_sf = append_mc_sf.values\n",
    "## Convert pandas dataframes into numpy arrays\n",
    "## signalAppendData = signalAppendData.values\n",
    "#X_run = X_run.values"
   ]
  },
  {
   "cell_type": "code",
   "execution_count": 69,
   "metadata": {},
   "outputs": [],
   "source": [
    "X_run_clone = X_run\n",
    "X_run_forload = X_run\n",
    "appendData_clone = pandas.DataFrame(X_run_clone)\n",
    "\n",
    "X_run = classStd1.transform(X_run)\n"
   ]
  },
  {
   "cell_type": "code",
   "execution_count": 70,
   "metadata": {},
   "outputs": [],
   "source": [
    "# Run training sample back through the NN\n",
    "probAppend = model.predict(X_run)"
   ]
  },
  {
   "cell_type": "code",
   "execution_count": 71,
   "metadata": {},
   "outputs": [
    {
     "name": "stdout",
     "output_type": "stream",
     "text": [
      "signal score mean =  0.048669679339775916\n",
      "   QCD score mean =  0.058831766147861043\n",
      " ttbar score mean =  0.04495639049864028\n"
     ]
    }
   ],
   "source": [
    "# Format data for convenience\n",
    "appendData = pandas.DataFrame(X_run)\n",
    "appendData['sig_score'] = pandas.Series(probAppend[:,0], index=appendData.index)\n",
    "appendData['qcd_score'] = pandas.Series(probAppend[:,1], index=appendData.index)\n",
    "appendData['top_score'] = pandas.Series(probAppend[:,2], index=appendData.index)\n",
    "appendData['weight'] = pandas.Series(evtWeightsRun, index=appendData.index)\n",
    "appendData['process'] = pandas.Series(yTypeRun, index=appendData.index)\n",
    "\n",
    "\n",
    "print(\"signal score mean = \", statistics.mean(appendData['sig_score']))\n",
    "print(\"   QCD score mean = \", statistics.mean(appendData['qcd_score']))\n",
    "print(\" ttbar score mean = \", statistics.mean(appendData['top_score']))"
   ]
  },
  {
   "cell_type": "code",
   "execution_count": 72,
   "metadata": {},
   "outputs": [
    {
     "name": "stdout",
     "output_type": "stream",
     "text": [
      "(array([ 0,  1,  2,  3,  4,  5,  6,  7,  8,  9, 10, 11, 12]), array([ 17027, 412063,  24234,   8231,  11008,  13238,  11868,  14838,\n",
      "        17830,   8726,    978,  23462,   8532]))\n"
     ]
    }
   ],
   "source": [
    "probAppend[:,2]\n",
    "len(appendData[appendData.process == 2])\n",
    "print(np.unique(yTypeRun,return_counts=True))"
   ]
  },
  {
   "cell_type": "code",
   "execution_count": 49,
   "metadata": {},
   "outputs": [
    {
     "ename": "NameError",
     "evalue": "name 'appendData' is not defined",
     "output_type": "error",
     "traceback": [
      "\u001b[0;31m---------------------------------------------------------------------------\u001b[0m",
      "\u001b[0;31mNameError\u001b[0m                                 Traceback (most recent call last)",
      "\u001b[0;32m<ipython-input-49-6fd8a1c5bbde>\u001b[0m in \u001b[0;36m<module>\u001b[0;34m()\u001b[0m\n\u001b[1;32m      4\u001b[0m \u001b[0mmax_value\u001b[0m \u001b[0;34m=\u001b[0m \u001b[0;36m1\u001b[0m\u001b[0;34m\u001b[0m\u001b[0m\n\u001b[1;32m      5\u001b[0m \u001b[0mplt\u001b[0m\u001b[0;34m.\u001b[0m\u001b[0mfigure\u001b[0m\u001b[0;34m(\u001b[0m\u001b[0mfigsize\u001b[0m\u001b[0;34m=\u001b[0m\u001b[0;34m(\u001b[0m\u001b[0;36m12\u001b[0m\u001b[0;34m,\u001b[0m\u001b[0;36m6\u001b[0m\u001b[0;34m)\u001b[0m\u001b[0;34m)\u001b[0m\u001b[0;34m\u001b[0m\u001b[0m\n\u001b[0;32m----> 6\u001b[0;31m \u001b[0mplt\u001b[0m\u001b[0;34m.\u001b[0m\u001b[0mhist\u001b[0m\u001b[0;34m(\u001b[0m\u001b[0mappendData\u001b[0m\u001b[0;34m[\u001b[0m\u001b[0mappendData\u001b[0m\u001b[0;34m.\u001b[0m\u001b[0mprocess\u001b[0m \u001b[0;34m==\u001b[0m \u001b[0;36m0\u001b[0m\u001b[0;34m]\u001b[0m\u001b[0;34m[\u001b[0m\u001b[0;34m'sig_score'\u001b[0m\u001b[0;34m]\u001b[0m\u001b[0;34m,\u001b[0m \u001b[0mcolor\u001b[0m\u001b[0;34m=\u001b[0m\u001b[0;34m[\u001b[0m\u001b[0;34m\"r\"\u001b[0m\u001b[0;34m]\u001b[0m\u001b[0;34m,\u001b[0m \u001b[0mweights\u001b[0m\u001b[0;34m=\u001b[0m\u001b[0mappendData\u001b[0m\u001b[0;34m[\u001b[0m\u001b[0mappendData\u001b[0m\u001b[0;34m.\u001b[0m\u001b[0mprocess\u001b[0m \u001b[0;34m==\u001b[0m \u001b[0;36m0\u001b[0m\u001b[0;34m]\u001b[0m\u001b[0;34m[\u001b[0m\u001b[0;34m'weight'\u001b[0m\u001b[0;34m]\u001b[0m\u001b[0;34m,\u001b[0m \u001b[0mrange\u001b[0m\u001b[0;34m=\u001b[0m\u001b[0;34m(\u001b[0m\u001b[0mmin_value\u001b[0m\u001b[0;34m,\u001b[0m \u001b[0mmax_value\u001b[0m\u001b[0;34m)\u001b[0m\u001b[0;34m,\u001b[0m \u001b[0mhisttype\u001b[0m\u001b[0;34m=\u001b[0m\u001b[0;34m'step'\u001b[0m\u001b[0;34m,\u001b[0m \u001b[0mlabel\u001b[0m\u001b[0;34m=\u001b[0m\u001b[0;34m'Signal'\u001b[0m\u001b[0;34m,\u001b[0m \u001b[0;34m**\u001b[0m\u001b[0mhist_params\u001b[0m\u001b[0;34m)\u001b[0m\u001b[0;34m\u001b[0m\u001b[0m\n\u001b[0m\u001b[1;32m      7\u001b[0m \u001b[0mplt\u001b[0m\u001b[0;34m.\u001b[0m\u001b[0mhist\u001b[0m\u001b[0;34m(\u001b[0m\u001b[0mappendData\u001b[0m\u001b[0;34m[\u001b[0m\u001b[0mappendData\u001b[0m\u001b[0;34m.\u001b[0m\u001b[0mprocess\u001b[0m \u001b[0;34m==\u001b[0m \u001b[0;36m1\u001b[0m\u001b[0;34m]\u001b[0m\u001b[0;34m[\u001b[0m\u001b[0;34m'sig_score'\u001b[0m\u001b[0;34m]\u001b[0m\u001b[0;34m,\u001b[0m \u001b[0mcolor\u001b[0m\u001b[0;34m=\u001b[0m\u001b[0;34m[\u001b[0m\u001b[0;34m\"b\"\u001b[0m\u001b[0;34m]\u001b[0m\u001b[0;34m,\u001b[0m \u001b[0mweights\u001b[0m\u001b[0;34m=\u001b[0m\u001b[0mappendData\u001b[0m\u001b[0;34m[\u001b[0m\u001b[0mappendData\u001b[0m\u001b[0;34m.\u001b[0m\u001b[0mprocess\u001b[0m \u001b[0;34m==\u001b[0m \u001b[0;36m1\u001b[0m\u001b[0;34m]\u001b[0m\u001b[0;34m[\u001b[0m\u001b[0;34m'weight'\u001b[0m\u001b[0;34m]\u001b[0m\u001b[0;34m,\u001b[0m \u001b[0mrange\u001b[0m\u001b[0;34m=\u001b[0m\u001b[0;34m(\u001b[0m\u001b[0mmin_value\u001b[0m\u001b[0;34m,\u001b[0m \u001b[0mmax_value\u001b[0m\u001b[0;34m)\u001b[0m\u001b[0;34m,\u001b[0m \u001b[0mhisttype\u001b[0m\u001b[0;34m=\u001b[0m\u001b[0;34m'step'\u001b[0m\u001b[0;34m,\u001b[0m \u001b[0mlabel\u001b[0m\u001b[0;34m=\u001b[0m\u001b[0;34m'QCD'\u001b[0m\u001b[0;34m,\u001b[0m \u001b[0;34m**\u001b[0m\u001b[0mhist_params\u001b[0m\u001b[0;34m)\u001b[0m\u001b[0;34m\u001b[0m\u001b[0m\n\u001b[1;32m      8\u001b[0m \u001b[0mplt\u001b[0m\u001b[0;34m.\u001b[0m\u001b[0mhist\u001b[0m\u001b[0;34m(\u001b[0m\u001b[0mappendData\u001b[0m\u001b[0;34m[\u001b[0m\u001b[0mappendData\u001b[0m\u001b[0;34m.\u001b[0m\u001b[0mprocess\u001b[0m \u001b[0;34m==\u001b[0m \u001b[0;36m2\u001b[0m\u001b[0;34m]\u001b[0m\u001b[0;34m[\u001b[0m\u001b[0;34m'sig_score'\u001b[0m\u001b[0;34m]\u001b[0m\u001b[0;34m,\u001b[0m \u001b[0mcolor\u001b[0m\u001b[0;34m=\u001b[0m\u001b[0;34m[\u001b[0m\u001b[0;34m\"g\"\u001b[0m\u001b[0;34m]\u001b[0m\u001b[0;34m,\u001b[0m \u001b[0mweights\u001b[0m\u001b[0;34m=\u001b[0m\u001b[0mappendData\u001b[0m\u001b[0;34m[\u001b[0m\u001b[0mappendData\u001b[0m\u001b[0;34m.\u001b[0m\u001b[0mprocess\u001b[0m \u001b[0;34m==\u001b[0m \u001b[0;36m2\u001b[0m\u001b[0;34m]\u001b[0m\u001b[0;34m[\u001b[0m\u001b[0;34m'weight'\u001b[0m\u001b[0;34m]\u001b[0m\u001b[0;34m,\u001b[0m \u001b[0mrange\u001b[0m\u001b[0;34m=\u001b[0m\u001b[0;34m(\u001b[0m\u001b[0mmin_value\u001b[0m\u001b[0;34m,\u001b[0m \u001b[0mmax_value\u001b[0m\u001b[0;34m)\u001b[0m\u001b[0;34m,\u001b[0m \u001b[0mhisttype\u001b[0m\u001b[0;34m=\u001b[0m\u001b[0;34m'step'\u001b[0m\u001b[0;34m,\u001b[0m \u001b[0mlabel\u001b[0m\u001b[0;34m=\u001b[0m\u001b[0;34m'ttbar'\u001b[0m\u001b[0;34m,\u001b[0m \u001b[0;34m**\u001b[0m\u001b[0mhist_params\u001b[0m\u001b[0;34m)\u001b[0m\u001b[0;34m\u001b[0m\u001b[0m\n",
      "\u001b[0;31mNameError\u001b[0m: name 'appendData' is not defined"
     ]
    },
    {
     "data": {
      "text/plain": [
       "<Figure size 864x432 with 0 Axes>"
      ]
     },
     "metadata": {},
     "output_type": "display_data"
    }
   ],
   "source": [
    "# Plot distributions of signal score on validation data\n",
    "hist_params = {'density': True, 'bins': 50, 'linewidth': 2}\n",
    "min_value = 0\n",
    "max_value = 1\n",
    "plt.figure(figsize=(12,6))\n",
    "plt.hist(appendData[appendData.process == 0]['sig_score'], color=[\"r\"], weights=appendData[appendData.process == 0]['weight'], range=(min_value, max_value), histtype='step', label='Signal', **hist_params)\n",
    "plt.hist(appendData[appendData.process == 1]['sig_score'], color=[\"b\"], weights=appendData[appendData.process == 1]['weight'], range=(min_value, max_value), histtype='step', label='QCD', **hist_params)\n",
    "plt.hist(appendData[appendData.process == 2]['sig_score'], color=[\"g\"], weights=appendData[appendData.process == 2]['weight'], range=(min_value, max_value), histtype='step', label='ttbar', **hist_params)\n",
    "plt.legend(loc='best')\n",
    "plt.xlabel(\"signal score\",fontsize=20)\n",
    "plt.ylabel(\"1/N dN/d(NN Score)\",fontsize=20)\n",
    "#plt.yscale('log')\n",
    "plt.title(analysis + \" (training and validation samples)\")\n",
    "plt.figure(figsize=(12,6))\n",
    "plt.hist(appendData[appendData.process == 0]['qcd_score'], color=[\"r\"], weights=appendData[appendData.process == 0]['weight'], range=(min_value, max_value), histtype='step', label='Signal', **hist_params)\n",
    "plt.hist(appendData[appendData.process == 1]['qcd_score'], color=[\"b\"], weights=appendData[appendData.process == 1]['weight'], range=(min_value, max_value), histtype='step', label='QCD', **hist_params)\n",
    "plt.hist(appendData[appendData.process == 2]['qcd_score'], color=[\"g\"], weights=appendData[appendData.process == 2]['weight'], range=(min_value, max_value), histtype='step', label='ttbar', **hist_params)\n",
    "plt.legend(loc='best')\n",
    "plt.xlabel(\"qcd score\",fontsize=20)\n",
    "plt.ylabel(\"1/N dN/d(NN Score)\",fontsize=20)"
   ]
  },
  {
   "cell_type": "code",
   "execution_count": 35,
   "metadata": {},
   "outputs": [
    {
     "data": {
      "text/plain": [
       "Text(0,0.5,'leading higgs candidate mass')"
      ]
     },
     "execution_count": 35,
     "metadata": {},
     "output_type": "execute_result"
    },
    {
     "data": {
      "image/png": "[encoded data removed]",
      "text/plain": [
       "<Figure size 432x432 with 1 Axes>"
      ]
     },
     "metadata": {},
     "output_type": "display_data"
    }
   ],
   "source": [
    "appendData_clone['process'] = pandas.Series(yTypeRun, index=appendData.index)\n",
    "plt.figure(figsize=(6,6))\n",
    "plt.hist2d(appendData[appendData.process == 0]['sig_score'],appendData_clone[appendData_clone.process == 0][3],bins=(50,50),cmap=plt.cm.jet)\n",
    "plt.xlabel(\"signal score\",fontsize=20)\n",
    "plt.ylabel(\"leading higgs candidate mass\",fontsize=20)"
   ]
  },
  {
   "cell_type": "code",
   "execution_count": 36,
   "metadata": {},
   "outputs": [
    {
     "data": {
      "text/plain": [
       "<Figure size 432x288 with 0 Axes>"
      ]
     },
     "metadata": {},
     "output_type": "display_data"
    }
   ],
   "source": [
    "plt.savefig(\"nn_vs_h1M_signal.png\")"
   ]
  },
  {
   "cell_type": "code",
   "execution_count": 37,
   "metadata": {},
   "outputs": [
    {
     "data": {
      "text/html": [
       "<div>\n",
       "<style scoped>\n",
       "    .dataframe tbody tr th:only-of-type {\n",
       "        vertical-align: middle;\n",
       "    }\n",
       "\n",
       "    .dataframe tbody tr th {\n",
       "        vertical-align: top;\n",
       "    }\n",
       "\n",
       "    .dataframe thead th {\n",
       "        text-align: right;\n",
       "    }\n",
       "</style>\n",
       "<table border=\"1\" class=\"dataframe\">\n",
       "  <thead>\n",
       "    <tr style=\"text-align: right;\">\n",
       "      <th></th>\n",
       "      <th>0</th>\n",
       "      <th>1</th>\n",
       "      <th>2</th>\n",
       "      <th>3</th>\n",
       "      <th>4</th>\n",
       "      <th>5</th>\n",
       "      <th>6</th>\n",
       "      <th>7</th>\n",
       "      <th>8</th>\n",
       "      <th>9</th>\n",
       "      <th>10</th>\n",
       "      <th>11</th>\n",
       "      <th>12</th>\n",
       "      <th>13</th>\n",
       "      <th>14</th>\n",
       "      <th>15</th>\n",
       "      <th>16</th>\n",
       "      <th>17</th>\n",
       "      <th>18</th>\n",
       "      <th>process</th>\n",
       "    </tr>\n",
       "  </thead>\n",
       "  <tbody>\n",
       "    <tr>\n",
       "      <th>0</th>\n",
       "      <td>186.631434</td>\n",
       "      <td>0.0</td>\n",
       "      <td>0.0</td>\n",
       "      <td>68.361534</td>\n",
       "      <td>253.323441</td>\n",
       "      <td>-0.524437</td>\n",
       "      <td>-2.601593</td>\n",
       "      <td>0.228536</td>\n",
       "      <td>73.704294</td>\n",
       "      <td>121.510046</td>\n",
       "      <td>1.568009</td>\n",
       "      <td>-0.232106</td>\n",
       "      <td>1.085954</td>\n",
       "      <td>40.007195</td>\n",
       "      <td>-1.604813</td>\n",
       "      <td>0.0</td>\n",
       "      <td>0.0</td>\n",
       "      <td>0.0</td>\n",
       "      <td>0.0</td>\n",
       "      <td>1</td>\n",
       "    </tr>\n",
       "    <tr>\n",
       "      <th>1</th>\n",
       "      <td>19.246565</td>\n",
       "      <td>0.0</td>\n",
       "      <td>0.0</td>\n",
       "      <td>32.864246</td>\n",
       "      <td>301.971924</td>\n",
       "      <td>0.637259</td>\n",
       "      <td>0.767390</td>\n",
       "      <td>0.789446</td>\n",
       "      <td>155.638248</td>\n",
       "      <td>285.364342</td>\n",
       "      <td>2.445060</td>\n",
       "      <td>-2.341065</td>\n",
       "      <td>1.406430</td>\n",
       "      <td>22.644180</td>\n",
       "      <td>-2.209389</td>\n",
       "      <td>1.0</td>\n",
       "      <td>0.0</td>\n",
       "      <td>1.0</td>\n",
       "      <td>1.0</td>\n",
       "      <td>1</td>\n",
       "    </tr>\n",
       "    <tr>\n",
       "      <th>2</th>\n",
       "      <td>309.985355</td>\n",
       "      <td>0.0</td>\n",
       "      <td>0.0</td>\n",
       "      <td>77.471573</td>\n",
       "      <td>569.283447</td>\n",
       "      <td>1.573768</td>\n",
       "      <td>2.441730</td>\n",
       "      <td>0.269151</td>\n",
       "      <td>171.550151</td>\n",
       "      <td>300.508743</td>\n",
       "      <td>0.760250</td>\n",
       "      <td>-0.324270</td>\n",
       "      <td>1.021325</td>\n",
       "      <td>95.283180</td>\n",
       "      <td>-0.824976</td>\n",
       "      <td>0.0</td>\n",
       "      <td>0.0</td>\n",
       "      <td>0.0</td>\n",
       "      <td>1.0</td>\n",
       "      <td>1</td>\n",
       "    </tr>\n",
       "    <tr>\n",
       "      <th>3</th>\n",
       "      <td>303.275969</td>\n",
       "      <td>0.0</td>\n",
       "      <td>0.0</td>\n",
       "      <td>116.438461</td>\n",
       "      <td>319.647095</td>\n",
       "      <td>-1.195304</td>\n",
       "      <td>2.025725</td>\n",
       "      <td>0.799697</td>\n",
       "      <td>128.058219</td>\n",
       "      <td>38.536932</td>\n",
       "      <td>0.516869</td>\n",
       "      <td>-2.192588</td>\n",
       "      <td>3.137063</td>\n",
       "      <td>15.753584</td>\n",
       "      <td>-1.177011</td>\n",
       "      <td>1.0</td>\n",
       "      <td>0.0</td>\n",
       "      <td>1.0</td>\n",
       "      <td>0.0</td>\n",
       "      <td>1</td>\n",
       "    </tr>\n",
       "    <tr>\n",
       "      <th>4</th>\n",
       "      <td>247.359568</td>\n",
       "      <td>0.0</td>\n",
       "      <td>0.0</td>\n",
       "      <td>93.953156</td>\n",
       "      <td>461.447540</td>\n",
       "      <td>1.474505</td>\n",
       "      <td>-1.597965</td>\n",
       "      <td>0.640714</td>\n",
       "      <td>153.017616</td>\n",
       "      <td>227.548474</td>\n",
       "      <td>1.075794</td>\n",
       "      <td>1.294602</td>\n",
       "      <td>1.200118</td>\n",
       "      <td>68.352905</td>\n",
       "      <td>1.596076</td>\n",
       "      <td>0.0</td>\n",
       "      <td>1.0</td>\n",
       "      <td>1.0</td>\n",
       "      <td>1.0</td>\n",
       "      <td>1</td>\n",
       "    </tr>\n",
       "  </tbody>\n",
       "</table>\n",
       "</div>"
      ],
      "text/plain": [
       "            0    1    2           3           4         5         6         7  \\\n",
       "0  186.631434  0.0  0.0   68.361534  253.323441 -0.524437 -2.601593  0.228536   \n",
       "1   19.246565  0.0  0.0   32.864246  301.971924  0.637259  0.767390  0.789446   \n",
       "2  309.985355  0.0  0.0   77.471573  569.283447  1.573768  2.441730  0.269151   \n",
       "3  303.275969  0.0  0.0  116.438461  319.647095 -1.195304  2.025725  0.799697   \n",
       "4  247.359568  0.0  0.0   93.953156  461.447540  1.474505 -1.597965  0.640714   \n",
       "\n",
       "            8           9        10        11        12         13        14  \\\n",
       "0   73.704294  121.510046  1.568009 -0.232106  1.085954  40.007195 -1.604813   \n",
       "1  155.638248  285.364342  2.445060 -2.341065  1.406430  22.644180 -2.209389   \n",
       "2  171.550151  300.508743  0.760250 -0.324270  1.021325  95.283180 -0.824976   \n",
       "3  128.058219   38.536932  0.516869 -2.192588  3.137063  15.753584 -1.177011   \n",
       "4  153.017616  227.548474  1.075794  1.294602  1.200118  68.352905  1.596076   \n",
       "\n",
       "    15   16   17   18  process  \n",
       "0  0.0  0.0  0.0  0.0        1  \n",
       "1  1.0  0.0  1.0  1.0        1  \n",
       "2  0.0  0.0  0.0  1.0        1  \n",
       "3  1.0  0.0  1.0  0.0        1  \n",
       "4  0.0  1.0  1.0  1.0        1  "
      ]
     },
     "execution_count": 37,
     "metadata": {},
     "output_type": "execute_result"
    }
   ],
   "source": [
    "appendData_clone.head()"
   ]
  },
  {
   "cell_type": "code",
   "execution_count": 38,
   "metadata": {},
   "outputs": [],
   "source": [
    "loaded_model = keras.models.load_model(\"./testingAppend.h5\")\n",
    "loaded_scaler = joblib.load(\"scaler_testingAppend.sav\")\n",
    "X_run_forload = classStd1.transform(X_run_forload)\n",
    "\n"
   ]
  },
  {
   "cell_type": "code",
   "execution_count": 39,
   "metadata": {},
   "outputs": [
    {
     "data": {
      "text/plain": [
       "Text(0,0.5,'1/N dN/d(NN Score)')"
      ]
     },
     "execution_count": 39,
     "metadata": {},
     "output_type": "execute_result"
    },
    {
     "data": {
      "image/png": "[encoded data removed]",
      "text/plain": [
       "<Figure size 864x432 with 1 Axes>"
      ]
     },
     "metadata": {},
     "output_type": "display_data"
    }
   ],
   "source": [
    "pred_loaded = loaded_model.predict(X_run_forload)\n",
    "\n",
    "loaded_model_Data = pandas.DataFrame(X_run_forload)\n",
    "loaded_model_Data['sig_score'] = pandas.Series(pred_loaded[:,0], index=loaded_model_Data.index)\n",
    "loaded_model_Data['qcd_score'] = pandas.Series(pred_loaded[:,1], index=loaded_model_Data.index)\n",
    "loaded_model_Data['top_score'] = pandas.Series(pred_loaded[:,2], index=loaded_model_Data.index)\n",
    "loaded_model_Data['weight'] = pandas.Series(evtWeightsRun, index=loaded_model_Data.index)\n",
    "loaded_model_Data['process'] = pandas.Series(yTypeRun, index=loaded_model_Data.index)\n",
    "\n",
    "hist_params = {'density': True, 'bins': 50, 'linewidth': 2}\n",
    "min_value = 0\n",
    "max_value = 1\n",
    "plt.figure(figsize=(12,6))\n",
    "plt.hist(loaded_model_Data[loaded_model_Data.process == 0]['sig_score'], color=[\"r\"], weights=loaded_model_Data[loaded_model_Data.process == 0]['weight'], range=(min_value, max_value), histtype='step', label='Signal', **hist_params)\n",
    "plt.hist(loaded_model_Data[loaded_model_Data.process == 1]['sig_score'], color=[\"b\"], weights=loaded_model_Data[loaded_model_Data.process == 1]['weight'], range=(min_value, max_value), histtype='step', label='QCD', **hist_params)\n",
    "plt.hist(loaded_model_Data[loaded_model_Data.process == 2]['sig_score'], color=[\"g\"], weights=loaded_model_Data[loaded_model_Data.process == 2]['weight'], range=(min_value, max_value), histtype='step', label='ttbar', **hist_params)\n",
    "plt.legend(loc='best')\n",
    "plt.xlabel(\"signal score\",fontsize=20)\n",
    "plt.ylabel(\"1/N dN/d(NN Score)\",fontsize=20)"
   ]
  },
  {
   "cell_type": "code",
   "execution_count": 40,
   "metadata": {},
   "outputs": [],
   "source": [
    "pred_sig_only = model.predict(allXdata_scaled)"
   ]
  },
  {
   "cell_type": "code",
   "execution_count": 41,
   "metadata": {},
   "outputs": [
    {
     "data": {
      "text/plain": [
       "Text(0,0.5,'1/N dN/d(NN Score)')"
      ]
     },
     "execution_count": 41,
     "metadata": {},
     "output_type": "execute_result"
    },
    {
     "data": {
      "image/png": "[encoded data removed]",
      "text/plain": [
       "<Figure size 864x432 with 1 Axes>"
      ]
     },
     "metadata": {},
     "output_type": "display_data"
    }
   ],
   "source": [
    "sig_only_Data = pandas.DataFrame(allXdata_scaled)\n",
    "sig_only_Data['sig_score'] = pandas.Series(pred_sig_only[:,0], index=sig_only_Data.index)\n",
    "sig_only_Data['qcd_score'] = pandas.Series(pred_sig_only[:,1], index=sig_only_Data.index)\n",
    "sig_only_Data['top_score'] = pandas.Series(pred_sig_only[:,2], index=sig_only_Data.index)\n",
    "\n",
    "hist_params = {'density': True, 'bins': 50, 'linewidth': 2}\n",
    "min_value = 0\n",
    "max_value = 1\n",
    "plt.figure(figsize=(12,6))\n",
    "plt.hist(sig_only_Data['sig_score'], color=[\"r\"], range=(min_value, max_value), histtype='step', label='Signal', **hist_params)\n",
    "plt.hist(sig_only_Data['qcd_score'], color=[\"b\"], range=(min_value, max_value), histtype='step', label='QCD', **hist_params)\n",
    "plt.hist(sig_only_Data['top_score'], color=[\"g\"], range=(min_value, max_value), histtype='step', label='ttbar', **hist_params)\n",
    "plt.legend(loc='best')\n",
    "plt.xlabel(\"signal score\",fontsize=20)\n",
    "plt.ylabel(\"1/N dN/d(NN Score)\",fontsize=20)"
   ]
  },
  {
   "cell_type": "code",
   "execution_count": 42,
   "metadata": {},
   "outputs": [
    {
     "name": "stderr",
     "output_type": "stream",
     "text": [
      "/cvmfs/sft.cern.ch/lcg/views/LCG_94python3/x86_64-slc6-gcc8-opt/lib/python3.6/site-packages/numpy/lib/function_base.py:838: RuntimeWarning: invalid value encountered in true_divide\n",
      "  return n/db/n.sum(), bin_edges\n"
     ]
    },
    {
     "data": {
      "text/plain": [
       "Text(0,0.5,'1/N dN/d(NN Score)')"
      ]
     },
     "execution_count": 42,
     "metadata": {},
     "output_type": "execute_result"
    },
    {
     "data": {
      "image/png": "[encoded data removed]",
      "text/plain": [
       "<Figure size 864x432 with 1 Axes>"
      ]
     },
     "metadata": {},
     "output_type": "display_data"
    }
   ],
   "source": [
    "sig_only_Data['weight'] = pandas.Series(sig_only_mc_sf, index=sig_only_Data.index)\n",
    "sig_only_Data['process'] = pandas.Series(sig_only_target, index=sig_only_Data.index)\n",
    "\n",
    "hist_params = {'density': True, 'bins': 50, 'linewidth': 2}\n",
    "min_value = 0\n",
    "max_value = 1\n",
    "plt.figure(figsize=(12,6))\n",
    "plt.hist(sig_only_Data[sig_only_Data.process == 0]['sig_score'], color=[\"r\"], weights=sig_only_Data[sig_only_Data.process == 0]['weight'], range=(min_value, max_value), histtype='step', label='Signal', **hist_params)\n",
    "plt.hist(sig_only_Data[sig_only_Data.process == 1]['sig_score'], color=[\"b\"], weights=sig_only_Data[sig_only_Data.process == 1]['weight'], range=(min_value, max_value), histtype='step', label='QCD', **hist_params)\n",
    "plt.hist(sig_only_Data[sig_only_Data.process == 2]['sig_score'], color=[\"g\"], weights=sig_only_Data[sig_only_Data.process == 2]['weight'], range=(min_value, max_value), histtype='step', label='ttbar', **hist_params)\n",
    "plt.legend(loc='best')\n",
    "plt.xlabel(\"signal score\",fontsize=20)\n",
    "plt.ylabel(\"1/N dN/d(NN Score)\",fontsize=20)"
   ]
  },
  {
   "cell_type": "code",
   "execution_count": null,
   "metadata": {},
   "outputs": [],
   "source": []
  }
 ],
 "metadata": {
  "kernelspec": {
   "display_name": "Python 3",
   "language": "python",
   "name": "python3"
  },
  "language_info": {
   "codemirror_mode": {
    "name": "ipython",
    "version": 3
   },
   "file_extension": ".py",
   "mimetype": "text/x-python",
   "name": "python",
   "nbconvert_exporter": "python",
   "pygments_lexer": "ipython3",
   "version": "3.6.5"
  }
 },
 "nbformat": 4,
 "nbformat_minor": 2
}
