{
 "cells": [
  {
   "cell_type": "code",
   "execution_count": null,
   "metadata": {},
   "outputs": [],
   "source": [
    "print (\"hello world\")"
   ]
  },
  {
   "cell_type": "code",
   "execution_count": 27,
   "metadata": {},
   "outputs": [],
   "source": [
    "# %load ../train_and_append_boosted.py\n",
    "import statistics\n",
    "import collections\n",
    "import getopt, sys\n",
    "import matplotlib.pyplot as plt\n",
    "import numpy as np\n",
    "from numpy import linspace\n",
    "import pandas\n",
    "import math\n",
    "from sklearn.preprocessing import StandardScaler\n",
    "import root_numpy\n",
    "from ROOT import gSystem\n",
    "from root_numpy import root2array, array2tree\n",
    "import time\n",
    "import keras\n",
    "from keras.models import Sequential\n",
    "from keras.layers import Dense, Activation, Dropout\n",
    "from keras.utils import plot_model\n",
    "from math import sqrt\n",
    "from sklearn.metrics import accuracy_score\n",
    "from sklearn.externals import joblib\n",
    "from sklearn.utils import shuffle\n",
    "from sklearn.model_selection import train_test_split\n",
    "import ROOT"
   ]
  },
  {
   "cell_type": "code",
   "execution_count": 28,
   "metadata": {},
   "outputs": [],
   "source": [
    "class MyDict(collections.OrderedDict):\n",
    "    def __missing__(self, key):\n",
    "        val = self[key] = MyDict()\n",
    "        return val\n"
   ]
  },
  {
   "cell_type": "code",
   "execution_count": 42,
   "metadata": {},
   "outputs": [],
   "source": [
    "appendListLocation = \"../datasets_to_append/\"\n",
    "nnLocation = \"./\"\n",
    "\n",
    "branchList = [\"pT_hh\",\n",
    "              \"nMuon\", \"nElec\",\n",
    "              \"h1_M\", \"h1_Pt\", \"h1_Eta\", \"h1_Phi\", \"h1_j1_j2_dR\",\n",
    "              \"h2_M\", \"h2_Pt\", \"h2_Eta\", \"h2_Phi\", \"h2_j1_j2_dR\",\n",
    "              \"met_Et\", \"met_Phi\", \n",
    "              \"h1_j1_BTag\",\"h1_j2_BTag\",\"h2_j1_BTag\",\"h2_j2_BTag\",\n",
    "              \"mc_sf\"]\n",
    "nFeatures = len(branchList)-1\n",
    "\n",
    "\n",
    "# Name of the tree we want to use\n",
    "inTreeName = \"preselection\""
   ]
  },
  {
   "cell_type": "code",
   "execution_count": 43,
   "metadata": {},
   "outputs": [],
   "source": [
    "#for analysis in [\"resolved\", \"intermediate\", \"boosted\"]:\n",
    "analysis = \"intermediate\"\n",
    "inFileList = \"tst_sig_intermediate.txt\"\n",
    "\n",
    "branchList = [\"pT_hh\",\n",
    "              \"nMuon\", \"nElec\",\n",
    "              \"h1_M\", \"h1_Pt\", \"h1_Eta\", \"h1_Phi\", \"h1_j1_j2_dR\",\n",
    "              \"h2_M\", \"h2_Pt\", \"h2_Eta\", \"h2_Phi\", \"h2_j1_j2_dR\",\n",
    "              \"met_Et\", \"met_Phi\", \n",
    "              \"h1_j1_BTag\",\"h1_j2_BTag\",\"h2_j1_BTag\",\"h2_j2_BTag\",\n",
    "              \"mc_sf\"]\n",
    "nFeatures = len(branchList)-1    \n",
    "scoreBranch = MyDict()\n"
   ]
  },
  {
   "cell_type": "code",
   "execution_count": null,
   "metadata": {},
   "outputs": [],
   "source": []
  },
  {
   "cell_type": "code",
   "execution_count": 44,
   "metadata": {},
   "outputs": [
    {
     "name": "stdout",
     "output_type": "stream",
     "text": [
      "-------------------------array head             pT_hh  nMuon  nElec        h1_M       h1_Pt    h1_Eta    h1_Phi  \\\n",
      "6700   130.429830      0      0   83.836945  300.956085  1.705306  2.784479   \n",
      "11093   52.916580      0      0   77.851471  268.088440 -0.845061 -1.265199   \n",
      "5126     2.769688      0      0   90.263786  263.853302 -0.648472  1.650255   \n",
      "1356   128.295550      0      0  118.482887  253.944641  0.718268  0.421515   \n",
      "7467   345.712285      0      0  121.127342  406.262329  0.027286  3.050629   \n",
      "\n",
      "       h1_j1_j2_dR        h2_M       h2_Pt    h2_Eta    h2_Phi  h2_j1_j2_dR  \\\n",
      "6700      0.323660  269.609725  201.011523 -0.766970 -0.699505     1.884937   \n",
      "11093     1.572333  219.465773  217.792807 -0.822167  1.808314     1.782864   \n",
      "5126      0.603967  446.938056  266.398545 -0.173337 -1.487218     2.790592   \n",
      "1356      0.867205   83.071405  143.293231  0.640345 -3.062126     1.119389   \n",
      "7467      0.611357  247.595690   84.558608  1.556122 -0.787953     3.063598   \n",
      "\n",
      "          met_Et   met_Phi  h1_j1_BTag  h1_j2_BTag  h2_j1_BTag  h2_j2_BTag  \n",
      "6700   50.527138  0.175631           0           0           1           1  \n",
      "11093  52.503460  2.157998           0           0           0           1  \n",
      "5126   60.704338  2.000968           1           1           0           0  \n",
      "1356   41.374943 -3.063575           1           0           0           1  \n",
      "7467   14.084311 -1.603891           1           0           0           0  \n",
      "-------------------------array.values no mc_sf [[ 1.30429830e+02  0.00000000e+00  0.00000000e+00  8.38369446e+01\n",
      "   3.00956085e+02  1.70530593e+00  2.78447938e+00  3.23660364e-01\n",
      "   2.69609725e+02  2.01011523e+02 -7.66970279e-01 -6.99505214e-01\n",
      "   1.88493654e+00  5.05271378e+01  1.75630569e-01  0.00000000e+00\n",
      "   0.00000000e+00  1.00000000e+00  1.00000000e+00]\n",
      " [ 5.29165796e+01  0.00000000e+00  0.00000000e+00  7.78514709e+01\n",
      "   2.68088440e+02 -8.45061481e-01 -1.26519942e+00  1.57233332e+00\n",
      "   2.19465773e+02  2.17792807e+02 -8.22167286e-01  1.80831352e+00\n",
      "   1.78286392e+00  5.25034599e+01  2.15799761e+00  0.00000000e+00\n",
      "   0.00000000e+00  0.00000000e+00  1.00000000e+00]\n",
      " [ 2.76968770e+00  0.00000000e+00  0.00000000e+00  9.02637863e+01\n",
      "   2.63853302e+02 -6.48472071e-01  1.65025520e+00  6.03966710e-01\n",
      "   4.46938056e+02  2.66398545e+02 -1.73336834e-01 -1.48721784e+00\n",
      "   2.79059236e+00  6.07043381e+01  2.00096774e+00  1.00000000e+00\n",
      "   1.00000000e+00  0.00000000e+00  0.00000000e+00]\n",
      " [ 1.28295550e+02  0.00000000e+00  0.00000000e+00  1.18482887e+02\n",
      "   2.53944641e+02  7.18267977e-01  4.21515346e-01  8.67204682e-01\n",
      "   8.30714051e+01  1.43293231e+02  6.40344764e-01 -3.06212593e+00\n",
      "   1.11938933e+00  4.13749428e+01 -3.06357455e+00  1.00000000e+00\n",
      "   0.00000000e+00  0.00000000e+00  1.00000000e+00]\n",
      " [ 3.45712285e+02  0.00000000e+00  0.00000000e+00  1.21127342e+02\n",
      "   4.06262329e+02  2.72857100e-02  3.05062866e+00  6.11357247e-01\n",
      "   2.47595690e+02  8.45586085e+01  1.55612213e+00 -7.87952799e-01\n",
      "   3.06359821e+00  1.40843105e+01 -1.60389113e+00  1.00000000e+00\n",
      "   0.00000000e+00  0.00000000e+00  0.00000000e+00]\n",
      " [ 1.56455442e+02  0.00000000e+00  0.00000000e+00  1.47712860e+02\n",
      "   3.67892365e+02  2.95251191e-01  2.40102768e+00  8.07894502e-01\n",
      "   2.76634041e+02  2.13592513e+02 -1.41925955e+00 -6.48202969e-01\n",
      "   2.16905743e+00  3.45639038e+01 -1.20965183e+00  1.00000000e+00\n",
      "   0.00000000e+00  0.00000000e+00  0.00000000e+00]\n",
      " [ 3.57060237e+02  0.00000000e+00  0.00000000e+00  1.02710548e+02\n",
      "   4.22650085e+02  1.67441946e-02 -1.17723751e+00  1.19792730e+00\n",
      "   1.58301923e+02  1.26279957e+02  9.54833451e-01  1.07316771e+00\n",
      "   1.97832608e+00  1.49712601e+02  1.85123861e+00  1.00000000e+00\n",
      "   1.00000000e+00  1.00000000e+00  0.00000000e+00]\n",
      " [ 1.11116663e+02  0.00000000e+00  0.00000000e+00  1.18118927e+02\n",
      "   3.93004700e+02  1.54369712e-01  4.62031692e-01  7.45063539e-01\n",
      "   2.24603403e+02  2.84557380e+02  8.08692343e-01 -2.75197017e+00\n",
      "   1.36465886e+00  4.04873657e+01 -2.29835200e+00  0.00000000e+00\n",
      "   1.00000000e+00  1.00000000e+00  0.00000000e+00]\n",
      " [ 6.67906154e+01  0.00000000e+00  0.00000000e+00  1.46791840e+02\n",
      "   2.54228439e+02 -1.77796292e+00 -2.07533073e+00  1.06867695e+00\n",
      "   1.55801156e+02  2.91051186e+02 -1.53000842e+00  8.61050576e-01\n",
      "   1.01630080e+00  2.27683086e+01 -2.34911561e+00  1.00000000e+00\n",
      "   0.00000000e+00  0.00000000e+00  0.00000000e+00]\n",
      " [ 7.65817648e+01  0.00000000e+00  0.00000000e+00  1.07994514e+02\n",
      "   2.96523743e+02 -1.16851354e+00  2.38753939e+00  7.36899653e-01\n",
      "   1.13096188e+02  2.35687512e+02 -3.86685780e-01 -9.30236397e-01\n",
      "   9.19695611e-01  2.72718735e+01  2.60721350e+00  1.00000000e+00\n",
      "   1.00000000e+00  0.00000000e+00  0.00000000e+00]]\n",
      "-------------------------array after scaler [[-0.32921673 -0.03334843 -0.01504467 -0.27150027 -0.11402657  1.69734464\n",
      "   1.53832169 -1.22453401  0.84124446  0.14933235 -0.60124237 -0.38716245\n",
      "   0.64912563  0.17143438  0.09356952 -1.03011803 -1.01751607  0.94806546\n",
      "   1.05330091]\n",
      " [-1.15792234 -0.03334843 -0.01504467 -0.41969891 -0.65826744 -0.85064631\n",
      "  -0.69372831  1.78782409  0.47921386  0.37613276 -0.64466292  0.99776668\n",
      "   0.5044866   0.22316333  1.19025831 -1.03011803 -1.01751607 -1.05477948\n",
      "   1.05330091]\n",
      " [-1.69405016 -0.03334843 -0.01504467 -0.11237348 -0.72839523 -0.65424008\n",
      "   0.91317456 -0.54830964  2.12152411  1.03304326 -0.1342625  -0.82217243\n",
      "   1.93245886  0.43781599  1.10338595  0.97076255  0.98278547 -1.05477948\n",
      "  -0.94939631]\n",
      " [-0.35203463 -0.03334843 -0.01504467  0.58632351 -0.89246838  0.71122642\n",
      "   0.23593349  0.08673818 -0.50552971 -0.63073505  0.50581755 -1.69190678\n",
      "  -0.43567076 -0.06811838 -1.69842957  0.97076255 -1.01751607 -1.05477948\n",
      "   1.05330091]\n",
      " [ 1.9723998  -0.03334843 -0.01504467  0.65179947  1.62969318  0.02088802\n",
      "   1.68501444 -0.53048035  0.68230696 -1.42453825  1.22621091 -0.43600715\n",
      "   2.31931385 -0.78243296 -0.89090079  0.97076255 -1.01751607 -1.05477948\n",
      "  -0.94939631]\n",
      " [-0.05097307 -0.03334843 -0.01504467  1.31004941  0.99434182  0.28860381\n",
      "   1.3269757  -0.05634452  0.8919588   0.31936544 -1.11436366 -0.35883107\n",
      "   1.05173087 -0.2463929  -0.67279899  0.97076255 -1.01751607 -1.05477948\n",
      "  -0.94939631]\n",
      " [ 2.09372242 -0.03334843 -0.01504467  0.19580485  1.90105083  0.01035633\n",
      "  -0.6452466   0.88458917  0.03762152 -0.86067084  0.75320908  0.59178644\n",
      "   0.78146056  2.76754948  1.02055252  0.97076255  0.98278547  0.94806546\n",
      "  -0.94939631]\n",
      " [-0.53569665 -0.03334843 -0.01504467  0.57731196  1.41016593  0.1478536\n",
      "   0.25826477 -0.20792093  0.51630665  1.27846137  0.63824764 -1.52062496\n",
      "  -0.08811871 -0.09135013 -1.27509172 -1.03011803  0.98278547  0.94806546\n",
      "  -0.94939631]\n",
      " [-1.00959297 -0.03334843 -0.01504467  1.2872452  -0.88776909 -1.78267846\n",
      "  -1.1402461   0.57277947  0.01956642  1.36622569 -1.20148391  0.47464592\n",
      "  -0.58174937 -0.55513495 -1.30317526  0.97076255 -1.01751607 -1.05477948\n",
      "  -0.94939631]\n",
      " [-0.90491435 -0.03334843 -0.01504467  0.32663436 -0.18741978 -1.17379697\n",
      "   1.3195414  -0.22761588 -0.28875601  0.61798115 -0.30209278 -0.51458248\n",
      "  -0.71864093 -0.43725706  1.43877436  0.97076255  0.98278547 -1.05477948\n",
      "  -0.94939631]]\n",
      "-------------------------SCORES [[0.19554965 0.7498389  0.05461149]\n",
      " [0.26554155 0.32256484 0.4118936 ]\n",
      " [0.17134038 0.58297753 0.24568205]\n",
      " ...\n",
      " [0.13672896 0.34995112 0.5133199 ]\n",
      " [0.04574388 0.9456625  0.0085937 ]\n",
      " [0.7641287  0.1595025  0.07636882]]\n",
      "mean sig score =  0.289199344849176\n",
      "mean qcd score =  0.4201384523476554\n",
      "mean top score =  0.2906622026286626\n"
     ]
    }
   ],
   "source": [
    "nnFilepath = nnLocation + \"testingAppend.h5\"\n",
    "scalerFilepath = nnLocation + \"scaler_testingAppend.sav\"\n",
    "\n",
    "inFilepath0 = \"/home/paredes/pheno/testnn/pheno_study/utilities/SplitROOT/OxHHPh_06May2019_MG5_262_Py8_14TeV_NNPDF30NLO_Dlph3_pp2hh_4b_HeavyHiggsTHDM_TopYuk_1.0_SlfCoup_1.0_merged_ntup.root.intermediate_0.root\"\n",
    "inFilepath1 = \"/home/paredes/pheno/testnn/pheno_study/utilities/SplitROOT/OxHHPh_06May2019_MG5_262_Py8_14TeV_NNPDF30NLO_Dlph3_pp2hh_4b_HeavyHiggsTHDM_TopYuk_1.0_SlfCoup_1.0_merged_ntup.root.intermediate_1.root\"\n",
    "inFilepath2 = \"/home/paredes/pheno/testnn/pheno_study/utilities/SplitROOT/OxHHPh_06May2019_MG5_262_Py8_14TeV_NNPDF30NLO_Dlph3_pp2hh_4b_HeavyHiggsTHDM_TopYuk_1.0_SlfCoup_1.0_merged_ntup.root.intermediate_2.root\"\n",
    "inFilepath3 = \"/home/paredes/pheno/testnn/pheno_study/utilities/SplitROOT/OxHHPh_06May2019_MG5_262_Py8_14TeV_NNPDF30NLO_Dlph3_pp2hh_4b_HeavyHiggsTHDM_TopYuk_1.0_SlfCoup_1.0_merged_ntup.root.intermediate_3.root\"\n",
    "\n",
    "# Load the input file and grab the data from it.\n",
    "inArray0 = root2array(inFilepath0, branches=branchList, treename=inTreeName)\n",
    "inArray1 = root2array(inFilepath1, branches=branchList, treename=inTreeName)\n",
    "inArray2 = root2array(inFilepath2, branches=branchList, treename=inTreeName)\n",
    "inArray3 = root2array(inFilepath3, branches=branchList, treename=inTreeName)\n",
    "#inFile = ROOT.TFile.Open(inFilepath)\n",
    "#inTree = inFile.Get(inTreeName)\n",
    "\n",
    "# Silly hack to remove stuctured dtype\n",
    "inDF0 = pandas.DataFrame(inArray0)\n",
    "inDF1 = pandas.DataFrame(inArray1)\n",
    "inDF2 = pandas.DataFrame(inArray2)\n",
    "inDF3 = pandas.DataFrame(inArray3)\n",
    "inDF = inDF0\n",
    "inDF = inDF.append(inDF1)\n",
    "inDF = inDF.append(inDF2)\n",
    "inDF = inDF.append(inDF3)\n",
    "\n",
    "inDF = shuffle(inDF)\n",
    "evtWeights = inDF.pop(\"mc_sf\")\n",
    "\n",
    "print (\"-------------------------array head\",inDF.head())\n",
    "\n",
    "inArray = inDF.values\n",
    "print(\"-------------------------array.values no mc_sf\", inArray[:10])\n",
    "\n",
    "# Scale input features to mean=0, stddev=1\n",
    "#scaler = joblib.load(scalerFilepath)\n",
    "scaler = StandardScaler().fit(inArray)\n",
    "inArray_scaled = scaler.fit_transform(inArray)\n",
    "\n",
    "print(\"-------------------------array after scaler\",inArray_scaled[:10])\n",
    "\n",
    "# Load the NN from file\n",
    "model = keras.models.load_model(nnFilepath)\n",
    "\n",
    "# Run validation sample through the NN\n",
    "scores = model.predict(inArray_scaled)\n",
    "print(\"-------------------------SCORES\",scores)\n",
    "\n",
    "# Gonvert to 1D basig python aggays\n",
    "# 0 == signal; 1 == qcd; 2 == ttbar\n",
    "scores_sig = scores[:,0].tolist()\n",
    "scores_qcd = scores[:,1].tolist()\n",
    "scores_top = scores[:,2].tolist()\n",
    "print(\"mean sig score = \", statistics.mean(scores_sig))\n",
    "print(\"mean qcd score = \", statistics.mean(scores_qcd))\n",
    "print(\"mean top score = \", statistics.mean(scores_top))\n",
    "# Give it the correct numpy array structure for a branch\n",
    "scoreBranch[\"sig\"] = np.array(scores_sig, dtype=[('nnscore_sig', np.float32)])\n",
    "scoreBranch[\"qcd\"] = np.array(scores_qcd, dtype=[('nnscore_qcd', np.float32)])\n",
    "scoreBranch[\"top\"] = np.array(scores_top, dtype=[('nnscore_top', np.float32)])"
   ]
  },
  {
   "cell_type": "code",
   "execution_count": 45,
   "metadata": {},
   "outputs": [
    {
     "name": "stdout",
     "output_type": "stream",
     "text": [
      "scaled pt_hh mean 2.4882030386680003e-17\n",
      "pt_hh mean 161.2232244582874\n"
     ]
    }
   ],
   "source": [
    "scaled_mean = statistics.mean(inArray_scaled[:,0])\n",
    "print(\"scaled pt_hh mean\",scaled_mean)\n",
    "print(\"pt_hh mean\",statistics.mean(inArray[:,0]))"
   ]
  },
  {
   "cell_type": "code",
   "execution_count": null,
   "metadata": {},
   "outputs": [],
   "source": []
  },
  {
   "cell_type": "code",
   "execution_count": null,
   "metadata": {},
   "outputs": [],
   "source": []
  },
  {
   "cell_type": "code",
   "execution_count": null,
   "metadata": {},
   "outputs": [],
   "source": []
  },
  {
   "cell_type": "code",
   "execution_count": null,
   "metadata": {},
   "outputs": [],
   "source": []
  },
  {
   "cell_type": "code",
   "execution_count": 46,
   "metadata": {},
   "outputs": [
    {
     "name": "stdout",
     "output_type": "stream",
     "text": [
      "signal score mean =  0.289199344849176\n",
      "   QCD score mean =  0.4201384523476554\n",
      " ttbar score mean =  0.2906622026286626\n"
     ]
    }
   ],
   "source": [
    "# Format data for convenience\n",
    "appendData = pandas.DataFrame(inArray)\n",
    "appendData['sig_score'] = pandas.Series(scores[:,0], index=appendData.index)\n",
    "appendData['qcd_score'] = pandas.Series(scores[:,1], index=appendData.index)\n",
    "appendData['top_score'] = pandas.Series(scores[:,2], index=appendData.index)\n",
    "\n",
    "\n",
    "print(\"signal score mean = \", statistics.mean(appendData['sig_score']))\n",
    "print(\"   QCD score mean = \", statistics.mean(appendData['qcd_score']))\n",
    "print(\" ttbar score mean = \", statistics.mean(appendData['top_score']))"
   ]
  },
  {
   "cell_type": "code",
   "execution_count": 47,
   "metadata": {
    "scrolled": true
   },
   "outputs": [
    {
     "data": {
      "text/plain": [
       "Text(0,0.5,'1/N dN/d(NN Score)')"
      ]
     },
     "execution_count": 47,
     "metadata": {},
     "output_type": "execute_result"
    },
    {
     "data": {
      "image/png": "[encoded data removed]",
      "text/plain": [
       "<Figure size 864x432 with 1 Axes>"
      ]
     },
     "metadata": {},
     "output_type": "display_data"
    }
   ],
   "source": [
    "hist_params = {'density': True, 'bins': 50, 'linewidth': 2}\n",
    "min_value = 0\n",
    "max_value = 1\n",
    "plt.figure(figsize=(12,6))\n",
    "plt.hist(appendData['sig_score'], color=[\"r\"], range=(min_value, max_value), histtype='step', label='Signal', **hist_params)\n",
    "plt.hist(appendData['qcd_score'], color=[\"b\"], range=(min_value, max_value), histtype='step', label='QCD', **hist_params)\n",
    "plt.hist(appendData['top_score'], color=[\"g\"], range=(min_value, max_value), histtype='step', label='ttbar', **hist_params)\n",
    "plt.legend(loc='best')\n",
    "plt.xlabel(\"signal score\",fontsize=20)\n",
    "plt.ylabel(\"1/N dN/d(NN Score)\",fontsize=20)"
   ]
  },
  {
   "cell_type": "code",
   "execution_count": null,
   "metadata": {},
   "outputs": [],
   "source": [
    "    nFeatures = len(branchList)-1\n"
   ]
  },
  {
   "cell_type": "code",
   "execution_count": null,
   "metadata": {},
   "outputs": [],
   "source": [
    "# This program trains a neural network based on input numpy array files.\n",
    "# Output is one trained NN file (nn_*.h5) and one scaler file (scaler_*.sav)\n",
    "# per analysis. Optionally also makes plots of the output distributions for the\n",
    "# training sample.\n",
    "\n",
    "### NOTE this program uses 0.2 of the data as a validation set"
   ]
  },
  {
   "cell_type": "code",
   "execution_count": null,
   "metadata": {},
   "outputs": [],
   "source": [
    "# Path of the directory whit lits of ntuples to append score to\n",
    "fileListLocation = \"test_append.txt\"\n",
    "# Path of the directory containing .npz files to train on.\n",
    "# Standard naming convention is assumed (e.g. \"trainingData_resolved.npz\")\n",
    "trainingDataPath = \"../train_all_jets/\""
   ]
  },
  {
   "cell_type": "code",
   "execution_count": null,
   "metadata": {},
   "outputs": [],
   "source": [
    "# Training parameters\n",
    "numEpochs = 10\n",
    "batchSize = 100\n",
    "dropoutFraction = 0.3\n",
    "# initial learning rate for adamax\n",
    "init_lr = MyDict()\n",
    "init_lr[\"boosted\"] = 5e-5\n",
    "init_lr[\"intermediate\"] = 5e-3\n",
    "init_lr[\"resolved\"] = 5e-3\n",
    "\n",
    "# store parameters of the network in a string\n",
    "#param_string = \"_w_OPadamaxEP\"+str(numEpochs)+\"BS\"+str(batchSize)+\"DO\"+str(dropoutFraction).replace(\".\",\"\")\n",
    "# Plot score distributions for the training sample?\n",
    "makePlots = False\n",
    "\n",
    "target_nevents = 100000\n",
    "\n",
    "signal_weight = MyDict()\n",
    "ttbar_weight = MyDict()\n",
    "qcd_weight = MyDict()\n",
    "analysis = \"intermediate\"\n",
    "param_string = \"testSave_all_jets_LR\"+str(init_lr[analysis]).replace(\"0.\",\"0p\")\n",
    "print (\"paramters string \"+param_string)"
   ]
  },
  {
   "cell_type": "code",
   "execution_count": null,
   "metadata": {},
   "outputs": [],
   "source": [
    "# Load the input file and grab the data from it.\n",
    "# Label each type of background\n",
    "# Calculate weight for each 'target' sample\n",
    "#inFile = np.load(trainingDataPath + \"/trainingData_all_jets_\" + analysis + \".npz\")\n",
    "\n",
    "signalData = pandas.DataFrame(dat_sig)\n",
    "#signalData = pandas.DataFrame(inFile[\"sig\"])\n",
    "signalData[\"target\"] = 0\n",
    "#signal_weight[analysis] = target_nevents/len(signalData)\n",
    "print(len(signalData),\"(\",signal_weight[analysis],\") signal (weight) events found\")\n",
    "n_sig = len(signalData)\n",
    "\n",
    "signalAppendData = pandas.DataFrame(datAppend_sig)\n",
    "signalAppendData[\"target\"] = 0\n",
    "print(len(signalAppendData),\"(\",signal_weight[analysis],\") signal (weight) events found\")\n",
    "n_sig = len(signalAppendData)\n",
    "signal_weight[analysis] = target_nevents/(len(signalData)+len(signalAppendData))\n"
   ]
  },
  {
   "cell_type": "code",
   "execution_count": null,
   "metadata": {},
   "outputs": [],
   "source": [
    "backgroundData = pandas.DataFrame(dat_4b)\n",
    "backgroundData[\"target\"] = 1\n",
    "\n",
    "backgroundAppend_4bData = pandas.DataFrame(datAppend_4b)\n",
    "backgroundAppend_4bData[\"target\"] = 1\n",
    "backgroundData = backgroundData.append(backgroundAppend_4bData)\n",
    "print(len(backgroundData), \"4b background events found\")\n",
    "\n",
    "backgroundAppend_2b2j = pandas.DataFrame(datAppend_2b2j)\n",
    "backgroundAppend_2b2j[\"target\"] = 1\n",
    "backgroundData = backgroundData.append(backgroundAppend_2b2j)\n",
    "\n",
    "background_2b2j = pandas.DataFrame(dat_2b2j)\n",
    "background_2b2j[\"target\"] = 1\n",
    "backgroundData = backgroundData.append(background_2b2j)\n",
    "print(len(background_2b2j)+len(backgroundAppend_2b2j), \"2b2j background events found\")\n",
    "\n",
    "n_qcd_bkg = len(backgroundData)+len(backgroundAppend_4bData)+len(background_2b2j)+len(backgroundAppend_2b2j)\n",
    "qcd_weight[analysis] = target_nevents/n_qcd_bkg\n",
    "print(n_qcd_bkg,\"(\",qcd_weight[analysis], \") qcd (weight) background events found\")"
   ]
  },
  {
   "cell_type": "code",
   "execution_count": null,
   "metadata": {},
   "outputs": [],
   "source": [
    "background_ttbar = pandas.DataFrame(dat_ttbar)\n",
    "#background_ttbar = pandas.DataFrame(inFile[\"bkg_ttbar\"])\n",
    "background_ttbar[\"target\"] = 2\n",
    "ttbar_weight[analysis] = target_nevents/len(background_ttbar)\n",
    "print(len(background_ttbar),\"(\",ttbar_weight[analysis], \") ttbar (weight) background events found\")\n",
    "backgroundData = backgroundData.append(background_ttbar)\n",
    "n_ttbar = len(background_ttbar)\n",
    "\n",
    "backgroundAppend_ttbar = pandas.DataFrame(datAppend_ttbar)\n",
    "backgroundAppend_ttbar[\"target\"] = 2\n",
    "n_ttbar = len(background_ttbar)+len(backgroundAppend_ttbar)\n",
    "ttbar_weight[analysis] = target_nevents/n_ttbar\n",
    "print(n_ttbar,\"(\",ttbar_weight[analysis], \") ttbar (weight) background events found\")\n",
    "backgroundData = backgroundData.append(backgroundAppend_ttbar)\n"
   ]
  },
  {
   "cell_type": "code",
   "execution_count": null,
   "metadata": {},
   "outputs": [],
   "source": [
    "allData = signalData.append(backgroundData, ignore_index = True)\n",
    "\n",
    "# Set all event weights to 1 by default\n",
    "allData.loc[:, 'mc_sf'] = 1.\n",
    "# Apply manual event weighting: numbers that give \"reasonable behavior\"\n",
    "allData.loc[allData.target == 0, 'mc_sf'] = signal_weight[analysis] # signal\n",
    "allData.loc[allData.target == 1, 'mc_sf'] = qcd_weight[analysis]    # QCD\n",
    "allData.loc[allData.target == 2, 'mc_sf'] = ttbar_weight[analysis]  # ttbar\n",
    "\n",
    "allData = shuffle(allData)"
   ]
  },
  {
   "cell_type": "code",
   "execution_count": null,
   "metadata": {},
   "outputs": [],
   "source": [
    "xTrainData = allData\n",
    "procType = xTrainData.pop(\"target\")\n",
    "\n",
    "\n",
    "X_train, X_run, yTypeTrain, yTypeRun = train_test_split(xTrainData, procType, test_size=0.4, random_state=1)\n",
    "X_train, X_test, yTypeTrain, yTypeTest = train_test_split(X_train, yTypeTrain, test_size=0.2, random_state=1)\n",
    "\n",
    "# These aren't input features, separate them out.\n",
    "evtWeightsTrain = X_train.pop(\"mc_sf\")\n",
    "evtWeightsVal = X_test.pop(\"mc_sf\")\n",
    "evtWeightsRun = X_run.pop(\"mc_sf\")\n",
    "\n",
    "# Convert pandas dataframes into numpy arrays\n",
    "X_test = X_test.values\n",
    "X_train = X_train.values\n",
    "X_run = X_run.values\n",
    "evtWeightsTrain = evtWeightsTrain.values\n",
    "evtWeightsVal = evtWeightsVal.values\n",
    "evtWeightsRun = evtWeightsRun.values\n",
    "y_test = keras.utils.to_categorical(yTypeTest, num_classes=3)\n",
    "y_train = keras.utils.to_categorical(yTypeTrain, num_classes=3)\n",
    "yTypeTest = yTypeTest.values\n",
    "yTypeTrain = yTypeTrain.values\n",
    "yTypeRun = yTypeRun.values"
   ]
  },
  {
   "cell_type": "code",
   "execution_count": null,
   "metadata": {
    "scrolled": false
   },
   "outputs": [],
   "source": []
  },
  {
   "cell_type": "code",
   "execution_count": null,
   "metadata": {},
   "outputs": [],
   "source": [
    "print(np.unique(yTypeTrain,return_counts=True))\n",
    "print(np.unique(yTypeTest,return_counts=True))\n",
    "print(np.unique(yTypeRun,return_counts=True))"
   ]
  },
  {
   "cell_type": "code",
   "execution_count": null,
   "metadata": {},
   "outputs": [],
   "source": [
    "# Convert this into the right format for keras\n",
    "\n",
    "# Scale input features to mean=0, stddev=1\n",
    "classStd1 = StandardScaler().fit(X_train)\n",
    "X_train = classStd1.fit_transform(X_train)\n",
    "X_test = classStd1.fit_transform(X_test)\n",
    "# scale run later\n",
    "#X_run = classStd1.fit_transform(X_run)\n",
    "#joblib.dump(classStd1, \"scaler_\" + analysis + param_string +\".sav\")"
   ]
  },
  {
   "cell_type": "code",
   "execution_count": null,
   "metadata": {},
   "outputs": [],
   "source": [
    "# Construct the NN architecture\n",
    "model = Sequential()\n",
    "model.add(Dense(200, activation=\"relu\", input_dim= nFeatures))#input_dim should be as long as the branchList given to the NN\n",
    "model.add(Dropout(dropoutFraction))\n",
    "model.add(Dense(200, activation=\"relu\"))\n",
    "model.add(Dense(3, activation=\"softmax\")) # output nodes\n",
    "\n",
    "model.compile(\n",
    "        loss='categorical_crossentropy',  # we train 10-way classification\n",
    "        optimizer=keras.optimizers.adamax(lr=init_lr[analysis]),  # for SGD\n",
    "        metrics=['acc']  # report accuracy during training\n",
    "        )"
   ]
  },
  {
   "cell_type": "code",
   "execution_count": null,
   "metadata": {},
   "outputs": [],
   "source": [
    "# Train the NN\n",
    "history = model.fit(X_train, y_train, validation_data=(X_test, y_test), epochs=numEpochs, batch_size=batchSize, sample_weight=evtWeightsTrain,shuffle=True)\n",
    "# no need to save model for now \n",
    "model.save(\"testingAppend.h5\")"
   ]
  },
  {
   "cell_type": "code",
   "execution_count": null,
   "metadata": {},
   "outputs": [],
   "source": [
    "# Run training sample back through the NN\n",
    "probTrain = model.predict(X_train)\n",
    "probTest = model.predict(X_test)"
   ]
  },
  {
   "cell_type": "code",
   "execution_count": null,
   "metadata": {},
   "outputs": [],
   "source": [
    "# Construct discriminant\n",
    "scores_train = np.log(probTrain[:,0]/(probTrain[:,1]+probTrain[:,2]))\n",
    "scores_test = np.log(probTest[:,0]/(probTest[:,1]+probTest[:,2]))\n",
    "\n",
    "# Format data for convenience\n",
    "trainData = pandas.DataFrame(X_train)\n",
    "trainData['sig_score'] = pandas.Series(probTrain[:,0], index=trainData.index)\n",
    "trainData['qcd_score'] = pandas.Series(probTrain[:,1], index=trainData.index)\n",
    "trainData['top_score'] = pandas.Series(probTrain[:,2], index=trainData.index)\n",
    "trainData['disc'] = pandas.Series(scores_train, index=trainData.index)\n",
    "trainData['weight'] = pandas.Series(evtWeightsTrain, index=trainData.index)\n",
    "trainData['process'] = pandas.Series(yTypeTrain, index=trainData.index)\n",
    "\n",
    "print(\"signal mean = \", statistics.mean(trainData[trainData.process == 0]['sig_score']))\n",
    "print(\"   QCD mean = \", statistics.mean(trainData[trainData.process == 1]['sig_score']))\n",
    "print(\" ttbar mean = \", statistics.mean(trainData[trainData.process == 2]['sig_score']))"
   ]
  },
  {
   "cell_type": "code",
   "execution_count": null,
   "metadata": {},
   "outputs": [],
   "source": [
    "testData = pandas.DataFrame(X_test)\n",
    "testData['sig_score'] = pandas.Series(probTest[:,0], index=testData.index)\n",
    "testData['qcd_score'] = pandas.Series(probTest[:,1], index=testData.index)\n",
    "testData['top_score'] = pandas.Series(probTest[:,2], index=testData.index)\n",
    "testData['disc'] = pandas.Series(scores_test, index=testData.index)\n",
    "testData['weight'] = pandas.Series(evtWeightsVal, index=testData.index)\n",
    "testData['process'] = pandas.Series(yTypeTest, index=testData.index)"
   ]
  },
  {
   "cell_type": "code",
   "execution_count": null,
   "metadata": {},
   "outputs": [],
   "source": [
    "# Plot distributions of signal score on validation data\n",
    "hist_params = {'density': True, 'bins': 50, 'linewidth': 2}\n",
    "min_value = 0\n",
    "max_value = 1\n",
    "plt.figure(figsize=(12,6))\n",
    "plt.hist(trainData[trainData.process == 0]['sig_score'], color=[\"r\"], weights=trainData[trainData.process == 0]['weight'], range=(min_value, max_value), histtype='step', label='Signal', **hist_params)\n",
    "plt.hist(trainData[trainData.process == 1]['sig_score'], color=[\"b\"], weights=trainData[trainData.process == 1]['weight'], range=(min_value, max_value), histtype='step', label='QCD', **hist_params)\n",
    "plt.hist(trainData[trainData.process == 2]['sig_score'], color=[\"g\"], weights=trainData[trainData.process == 2]['weight'], range=(min_value, max_value), histtype='step', label='ttbar', **hist_params)\n",
    "plt.hist(testData[testData.process == 0]['sig_score'], color=[\"r\"], linestyle = \"dotted\", weights=testData[testData.process == 0]['weight'], range=(min_value, max_value), histtype='step', label='Signal', **hist_params)\n",
    "plt.hist(testData[testData.process == 1]['sig_score'], color=[\"b\"], linestyle = \"dotted\", weights=testData[testData.process == 1]['weight'], range=(min_value, max_value), histtype='step', label='QCD', **hist_params)\n",
    "plt.hist(testData[testData.process == 2]['sig_score'], color=[\"g\"], linestyle = \"dotted\", weights=testData[testData.process == 2]['weight'], range=(min_value, max_value), histtype='step', label='ttbar', **hist_params)\n",
    "plt.legend(loc='best')\n",
    "plt.xlabel(\"signal score\",fontsize=20)\n",
    "plt.ylabel(\"1/N dN/d(NN Score)\",fontsize=20)\n",
    "#plt.yscale('log')\n",
    "plt.title(analysis + \" (training and validation samples)\")\n",
    "plt.figure(figsize=(12,6))\n",
    "plt.hist(trainData[trainData.process == 0]['qcd_score'], color=[\"r\"], weights=trainData[trainData.process == 0]['weight'], range=(min_value, max_value), histtype='step', label='Signal', **hist_params)\n",
    "plt.hist(trainData[trainData.process == 1]['qcd_score'], color=[\"b\"], weights=trainData[trainData.process == 1]['weight'], range=(min_value, max_value), histtype='step', label='QCD', **hist_params)\n",
    "plt.hist(trainData[trainData.process == 2]['qcd_score'], color=[\"g\"], weights=trainData[trainData.process == 2]['weight'], range=(min_value, max_value), histtype='step', label='ttbar', **hist_params)\n",
    "plt.hist(testData[testData.process == 0]['qcd_score'], color=[\"r\"], linestyle = \"dotted\", weights=testData[testData.process == 0]['weight'], range=(min_value, max_value), histtype='step', label='Signal(Val)', **hist_params)\n",
    "plt.hist(testData[testData.process == 1]['qcd_score'], color=[\"b\"], linestyle = \"dotted\", weights=testData[testData.process == 1]['weight'], range=(min_value, max_value), histtype='step', label='QCD(Val)', **hist_params)\n",
    "plt.hist(testData[testData.process == 2]['qcd_score'], color=[\"g\"], linestyle = \"dotted\", weights=testData[testData.process == 2]['weight'], range=(min_value, max_value), histtype='step', label='ttbar(Val)', **hist_params)\n",
    "plt.legend(loc='best')\n",
    "plt.xlabel(\"qcd score\",fontsize=20)\n",
    "plt.ylabel(\"1/N dN/d(NN Score)\",fontsize=20)"
   ]
  },
  {
   "cell_type": "code",
   "execution_count": null,
   "metadata": {
    "scrolled": true
   },
   "outputs": [],
   "source": [
    "signalAppendData = pandas.DataFrame(datAppend_sig)\n"
   ]
  },
  {
   "cell_type": "code",
   "execution_count": null,
   "metadata": {},
   "outputs": [],
   "source": [
    "print(np.unique(yTypeRun,return_counts=True))"
   ]
  },
  {
   "cell_type": "code",
   "execution_count": null,
   "metadata": {},
   "outputs": [],
   "source": [
    "##append_mc_sf = signalAppendData.pop(\"mc_sf\")\n",
    "#append_mc_sf = X_run.pop(\"mc_sf\")\n",
    "#append_mc_sf = append_mc_sf.values\n",
    "## Convert pandas dataframes into numpy arrays\n",
    "## signalAppendData = signalAppendData.values\n",
    "#X_run = X_run.values"
   ]
  },
  {
   "cell_type": "code",
   "execution_count": null,
   "metadata": {},
   "outputs": [],
   "source": [
    "X_run_clone = X_run\n",
    "appendData_clone = pandas.DataFrame(X_run_clone)\n",
    "\n",
    "X_run = classStd1.fit_transform(X_run)\n"
   ]
  },
  {
   "cell_type": "code",
   "execution_count": null,
   "metadata": {},
   "outputs": [],
   "source": [
    "# Run training sample back through the NN\n",
    "probAppend = model.predict(X_run)"
   ]
  },
  {
   "cell_type": "code",
   "execution_count": null,
   "metadata": {},
   "outputs": [],
   "source": [
    "# Format data for convenience\n",
    "appendData = pandas.DataFrame(X_run)\n",
    "appendData['sig_score'] = pandas.Series(probAppend[:,0], index=appendData.index)\n",
    "appendData['qcd_score'] = pandas.Series(probAppend[:,1], index=appendData.index)\n",
    "appendData['top_score'] = pandas.Series(probAppend[:,2], index=appendData.index)\n",
    "appendData['weight'] = pandas.Series(evtWeightsRun, index=appendData.index)\n",
    "appendData['process'] = pandas.Series(yTypeRun, index=appendData.index)\n",
    "\n",
    "\n",
    "print(\"signal score mean = \", statistics.mean(appendData['sig_score']))\n",
    "print(\"   QCD score mean = \", statistics.mean(appendData['qcd_score']))\n",
    "print(\" ttbar score mean = \", statistics.mean(appendData['top_score']))"
   ]
  },
  {
   "cell_type": "code",
   "execution_count": null,
   "metadata": {},
   "outputs": [],
   "source": [
    "probAppend[:,2]\n",
    "len(appendData[appendData.process == 2])\n",
    "print(np.unique(yTypeRun,return_counts=True))"
   ]
  },
  {
   "cell_type": "code",
   "execution_count": null,
   "metadata": {},
   "outputs": [],
   "source": [
    "# Plot distributions of signal score on validation data\n",
    "hist_params = {'density': True, 'bins': 50, 'linewidth': 2}\n",
    "min_value = 0\n",
    "max_value = 1\n",
    "plt.figure(figsize=(12,6))\n",
    "plt.hist(appendData[appendData.process == 0]['sig_score'], color=[\"r\"], weights=appendData[appendData.process == 0]['weight'], range=(min_value, max_value), histtype='step', label='Signal', **hist_params)\n",
    "plt.hist(appendData[appendData.process == 1]['sig_score'], color=[\"b\"], weights=appendData[appendData.process == 1]['weight'], range=(min_value, max_value), histtype='step', label='QCD', **hist_params)\n",
    "plt.hist(appendData[appendData.process == 2]['sig_score'], color=[\"g\"], weights=appendData[appendData.process == 2]['weight'], range=(min_value, max_value), histtype='step', label='ttbar', **hist_params)\n",
    "plt.legend(loc='best')\n",
    "plt.xlabel(\"signal score\",fontsize=20)\n",
    "plt.ylabel(\"1/N dN/d(NN Score)\",fontsize=20)\n",
    "#plt.yscale('log')\n",
    "plt.title(analysis + \" (training and validation samples)\")\n",
    "plt.figure(figsize=(12,6))\n",
    "plt.hist(appendData[appendData.process == 0]['qcd_score'], color=[\"r\"], weights=appendData[appendData.process == 0]['weight'], range=(min_value, max_value), histtype='step', label='Signal', **hist_params)\n",
    "plt.hist(appendData[appendData.process == 1]['qcd_score'], color=[\"b\"], weights=appendData[appendData.process == 1]['weight'], range=(min_value, max_value), histtype='step', label='QCD', **hist_params)\n",
    "plt.hist(appendData[appendData.process == 2]['qcd_score'], color=[\"g\"], weights=appendData[appendData.process == 2]['weight'], range=(min_value, max_value), histtype='step', label='ttbar', **hist_params)\n",
    "plt.legend(loc='best')\n",
    "plt.xlabel(\"qcd score\",fontsize=20)\n",
    "plt.ylabel(\"1/N dN/d(NN Score)\",fontsize=20)"
   ]
  },
  {
   "cell_type": "code",
   "execution_count": null,
   "metadata": {},
   "outputs": [],
   "source": [
    "plt.figure(figsize=(6,6))\n",
    "plt.hist2d(appendData[appendData.process == 0]['sig_score'],appendData[appendData.process == 0][4],bins=(50,50),cmap=plt.cm.jet)\n",
    "plt.xlabel(\"signal score\",fontsize=20)\n",
    "plt.ylabel(\"leading higgs candidate mass\",fontsize=20)"
   ]
  },
  {
   "cell_type": "code",
   "execution_count": null,
   "metadata": {},
   "outputs": [],
   "source": [
    "appendData_clone['process'] = pandas.Series(yTypeRun, index=appendData.index)\n",
    "plt.figure(figsize=(6,6))\n",
    "plt.hist2d(appendData[appendData.process == 0]['sig_score'],appendData_clone[appendData_clone.process == 0][3],bins=(50,50),cmap=plt.cm.jet)\n",
    "plt.xlabel(\"signal score\",fontsize=20)\n",
    "plt.ylabel(\"leading higgs candidate mass\",fontsize=20)"
   ]
  },
  {
   "cell_type": "code",
   "execution_count": null,
   "metadata": {},
   "outputs": [],
   "source": [
    "plt.savefig(\"nn_vs_h1M_signal.png\")"
   ]
  },
  {
   "cell_type": "code",
   "execution_count": null,
   "metadata": {},
   "outputs": [],
   "source": [
    "appendData_clone.head()"
   ]
  },
  {
   "cell_type": "code",
   "execution_count": null,
   "metadata": {},
   "outputs": [],
   "source": [
    "#for analysis in [\"boosted\", \"intermediate\", \"resolved\"]:\n",
    "inFileList = fileListLocation "
   ]
  },
  {
   "cell_type": "code",
   "execution_count": null,
   "metadata": {},
   "outputs": [],
   "source": [
    "# Read in the list of ntuple files we want to append and loop over them.\n",
    "f = open(inFileList,\"r\")\n",
    "for line in f:\n",
    "    # create a dictionary to store scores for all networks and event types\n",
    "    scoreBranch = MyDict()\n",
    "\n",
    "    inFilepath = line.rstrip()\n",
    "\n",
    "    # Load the input file and grab the data from it.\n",
    "    inArray = root2array(inFilepath, branches=branchList, treename=inTreeName)\n",
    "    inFile = ROOT.TFile.Open(inFilepath)\n",
    "    inTree = inFile.Get(inTreeName)\n",
    "    print(\"Processing\", inFilepath, len(inArray), \"events found\")"
   ]
  },
  {
   "cell_type": "code",
   "execution_count": null,
   "metadata": {},
   "outputs": [],
   "source": [
    "    # Silly hack to remove stuctured dtype\n",
    "    inDF = pandas.DataFrame(inArray)\n",
    "    run_sample_sf = inDF.pop(\"mc_sf\")\n",
    "    inArray = inDF.values\n",
    "\n",
    "    # Scale input features to mean=0, stddev=1\n",
    "    inArray = classStd1.fit_transform(inArray)\n",
    "\n",
    "    # Load the NN from file\n",
    "\n",
    "    # Run validation sample through the NN\n",
    "    scores = model.predict(inArray,batch_size=None)"
   ]
  },
  {
   "cell_type": "code",
   "execution_count": null,
   "metadata": {},
   "outputs": [],
   "source": [
    "    analysisData = pandas.DataFrame(inArray)\n",
    "    analysisData['sig_score'] = pandas.Series(scores[:,0], index=analysisData.index)\n",
    "    analysisData['qcd_score'] = pandas.Series(scores[:,1], index=analysisData.index)\n",
    "    analysisData['top_score'] = pandas.Series(scores[:,2], index=analysisData.index)\n",
    "    \n",
    "    print(\"mean sig score = \", statistics.mean(scores[:,0].tolist()))\n",
    "    print(\"mean qcd score = \", statistics.mean(scores[:,1].tolist()))\n",
    "    print(\"mean top score = \", statistics.mean(scores[:,2].tolist()))"
   ]
  },
  {
   "cell_type": "code",
   "execution_count": null,
   "metadata": {},
   "outputs": [],
   "source": [
    "# Plot distributions of signal score on validation data\n",
    "hist_params = {'density': True, 'bins': 50, 'linewidth': 2}\n",
    "min_value = 0\n",
    "max_value = 1\n",
    "plt.figure(figsize=(12,6))\n",
    "plt.hist(appendData[appendData.process == 0]['sig_score'], color=[\"r\"], weights=appendData[appendData.process == 0]['weight'], range=(min_value, max_value), histtype='step', label='Signal', **hist_params)\n",
    "plt.hist(appendData[appendData.process == 1]['sig_score'], color=[\"b\"], weights=appendData[appendData.process == 1]['weight'], range=(min_value, max_value), histtype='step', label='QCD', **hist_params)\n",
    "plt.hist(appendData[appendData.process == 2]['sig_score'], color=[\"g\"], weights=appendData[appendData.process == 2]['weight'], range=(min_value, max_value), histtype='step', label='ttbar', **hist_params)\n",
    "plt.legend(loc='best')\n",
    "plt.xlabel(\"signal score\",fontsize=20)\n",
    "plt.ylabel(\"1/N dN/d(NN Score)\",fontsize=20)\n",
    "#plt.yscale('log')\n",
    "plt.title(analysis + \" (training and validation samples)\")\n",
    "plt.figure(figsize=(12,6))\n",
    "plt.hist(appendData[appendData.process == 0]['qcd_score'], color=[\"r\"], weights=appendData[appendData.process == 0]['weight'], range=(min_value, max_value), histtype='step', label='Signal', **hist_params)\n",
    "plt.hist(appendData[appendData.process == 1]['qcd_score'], color=[\"b\"], weights=appendData[appendData.process == 1]['weight'], range=(min_value, max_value), histtype='step', label='QCD', **hist_params)\n",
    "plt.hist(appendData[appendData.process == 2]['qcd_score'], color=[\"g\"], weights=appendData[appendData.process == 2]['weight'], range=(min_value, max_value), histtype='step', label='ttbar', **hist_params)\n",
    "plt.legend(loc='best')\n",
    "plt.xlabel(\"qcd score\",fontsize=20)\n",
    "plt.ylabel(\"1/N dN/d(NN Score)\",fontsize=20)"
   ]
  },
  {
   "cell_type": "code",
   "execution_count": null,
   "metadata": {},
   "outputs": [],
   "source": [
    "    # Convert to 1D basic python arrays\n",
    "    # 0 == signal; 1 == qcd; 2 == ttbar\n",
    "    scores_sig = scores[:,0].tolist()\n",
    "    scores_qcd = scores[:,1].tolist()\n",
    "    scores_top = scores[:,2].tolist()\n",
    "    print(\"mean sig score = \", statistics.mean(scores_sig))\n",
    "    print(\"mean qcd score = \", statistics.mean(scores_qcd))\n",
    "    print(\"mean top score = \", statistics.mean(scores_top))\n",
    "    # Give it the correct numpy array structure for a branch\n",
    "    scoreBranch[\"sig\"] = np.array(scores_sig, dtype=[('nnscore_sig', np.float32)])\n",
    "    scoreBranch[\"qcd\"] = np.array(scores_qcd, dtype=[('nnscore_qcd', np.float32)])\n",
    "    scoreBranch[\"top\"] = np.array(scores_top, dtype=[('nnscore_top', np.float32)])\n",
    "\n",
    "    # Create output file\n",
    "    outFilepath = inFilepath.replace(\".root\", \"_withNNs.root\").split('/')[-1]\n",
    "    #print(\"Writing output to\", outFilepath)\n",
    "    outFile = ROOT.TFile(outFilepath, 'recreate')\n",
    "    # Make a copy of the input tree\n",
    "    outTree = inTree.CloneTree()\n",
    "    # Add our NN score branch to the copy\n",
    "    array2tree(scoreBranch[\"sig\"], tree=outTree)\n",
    "    array2tree(scoreBranch[\"qcd\"], tree=outTree)\n",
    "    array2tree(scoreBranch[\"top\"], tree=outTree)\n",
    "    # Write the augmented tree to output file\n",
    "    outTree.Write()\n",
    "\n",
    "    inFile.Close()\n",
    "    outFile.Close()\n",
    "\n",
    "f.close()"
   ]
  },
  {
   "cell_type": "code",
   "execution_count": null,
   "metadata": {},
   "outputs": [],
   "source": []
  },
  {
   "cell_type": "code",
   "execution_count": null,
   "metadata": {},
   "outputs": [],
   "source": [
    "# # plot accuracy and loss \n",
    "# plt.figure(figsize=(16, 8))\n",
    "# plt.plot(history.history['acc'])\n",
    "# plt.plot(history.history['val_acc'])\n",
    "# plt.title(analysis + ', model accuracy')\n",
    "# plt.ylabel('accuracy')\n",
    "# plt.xlabel('epoch')\n",
    "# plt.legend(['train', 'test'], loc='upper left')\n",
    "# plt.savefig(\"training/acc_\" + analysis +\"_\"+ param_string +\".png\")\n",
    "\n",
    "# plt.plot(history.history['loss'])\n",
    "# plt.plot(history.history['val_loss'])\n",
    "# plt.title(analysis + ', model loss')\n",
    "# plt.ylabel('loss')\n",
    "# plt.xlabel('epoch')\n",
    "# plt.legend(['train', 'test'], loc='upper left')\n",
    "# plt.figure(figsize=(16, 8))\n",
    "# plt.plot(history.history['loss'])\n",
    "# plt.savefig(\"training/loss_\" + analysis +\"_\"+ param_string +\".png\")\n",
    "\n",
    "# Optionally, plot the output distributions for the training sample.\n",
    "if makePlots:\n",
    "    # Run training sample back through the NN\n",
    "    probTrain = model.predict(X_train)\n",
    "    probTest = model.predict(X_test)\n",
    "\n",
    "    # Construct discriminant\n",
    "    scores_train = np.log(probTrain[:,0]/(probTrain[:,1]+probTrain[:,2]))\n",
    "    scores_test = np.log(probTest[:,0]/(probTest[:,1]+probTest[:,2]))\n",
    "\n",
    "    # Format data for convenience\n",
    "    trainData = pandas.DataFrame(X_train)\n",
    "    trainData['sig_score'] = pandas.Series(probTrain[:,0], index=trainData.index)\n",
    "    trainData['qcd_score'] = pandas.Series(probTrain[:,1], index=trainData.index)\n",
    "    trainData['top_score'] = pandas.Series(probTrain[:,2], index=trainData.index)\n",
    "    trainData['disc'] = pandas.Series(scores_train, index=trainData.index)\n",
    "    trainData['weight'] = pandas.Series(evtWeightsTrain, index=trainData.index)\n",
    "    trainData['process'] = pandas.Series(yTypeTrain, index=trainData.index)\n",
    "\n",
    "    print(\"signal mean = \", statistics.mean(trainData[trainData.process == 0]['sig_score']))\n",
    "    print(\"   QCD mean = \", statistics.mean(trainData[trainData.process == 1]['sig_score']))\n",
    "    print(\" ttbar mean = \", statistics.mean(trainData[trainData.process == 2]['sig_score']))\n",
    "\n",
    "    testData = pandas.DataFrame(X_test)\n",
    "    testData['sig_score'] = pandas.Series(probTest[:,0], index=testData.index)\n",
    "    testData['qcd_score'] = pandas.Series(probTest[:,1], index=testData.index)\n",
    "    testData['top_score'] = pandas.Series(probTest[:,2], index=testData.index)\n",
    "    testData['disc'] = pandas.Series(scores_test, index=testData.index)\n",
    "    testData['weight'] = pandas.Series(evtWeightsVal, index=testData.index)\n",
    "    testData['process'] = pandas.Series(yTypeTest, index=testData.index)\n",
    "\n",
    "    # Plot distributions of signal score on validation data\n",
    "    hist_params = {'density': True, 'bins': 50, 'linewidth': 2}\n",
    "    min_value = 0\n",
    "    max_value = 1\n",
    "    plt.figure(figsize=(12,6))\n",
    "    plt.hist(trainData[trainData.process == 0]['sig_score'], color=[\"r\"], weights=trainData[trainData.process == 0]['weight'], range=(min_value, max_value), histtype='step', label='Signal', **hist_params)\n",
    "    plt.hist(trainData[trainData.process == 1]['sig_score'], color=[\"b\"], weights=trainData[trainData.process == 1]['weight'], range=(min_value, max_value), histtype='step', label='QCD', **hist_params)\n",
    "    plt.hist(trainData[trainData.process == 2]['sig_score'], color=[\"g\"], weights=trainData[trainData.process == 2]['weight'], range=(min_value, max_value), histtype='step', label='ttbar', **hist_params)\n",
    "    plt.hist(testData[testData.process == 0]['sig_score'], color=[\"r\"], linestyle = \"dotted\", weights=testData[testData.process == 0]['weight'], range=(min_value, max_value), histtype='step', label='Signal', **hist_params)\n",
    "    plt.hist(testData[testData.process == 1]['sig_score'], color=[\"b\"], linestyle = \"dotted\", weights=testData[testData.process == 1]['weight'], range=(min_value, max_value), histtype='step', label='QCD', **hist_params)\n",
    "    plt.hist(testData[testData.process == 2]['sig_score'], color=[\"g\"], linestyle = \"dotted\", weights=testData[testData.process == 2]['weight'], range=(min_value, max_value), histtype='step', label='ttbar', **hist_params)\n",
    "    plt.legend(loc='best')\n",
    "    plt.xlabel(\"signal score\",fontsize=20)\n",
    "    plt.ylabel(\"1/N dN/d(NN Score)\",fontsize=20)\n",
    "    #plt.yscale('log')\n",
    "    plt.title(analysis + \" (training and validation samples)\")\n",
    "    plt.savefig(\"sig_scores_\" + analysis + param_string +\".png\")\n",
    "    plt.figure(figsize=(12,6))\n",
    "    plt.hist(trainData[trainData.process == 0]['qcd_score'], color=[\"r\"], weights=trainData[trainData.process == 0]['weight'], range=(min_value, max_value), histtype='step', label='Signal', **hist_params)\n",
    "    plt.hist(trainData[trainData.process == 1]['qcd_score'], color=[\"b\"], weights=trainData[trainData.process == 1]['weight'], range=(min_value, max_value), histtype='step', label='QCD', **hist_params)\n",
    "    plt.hist(trainData[trainData.process == 2]['qcd_score'], color=[\"g\"], weights=trainData[trainData.process == 2]['weight'], range=(min_value, max_value), histtype='step', label='ttbar', **hist_params)\n",
    "    plt.hist(testData[testData.process == 0]['qcd_score'], color=[\"r\"], linestyle = \"dotted\", weights=testData[testData.process == 0]['weight'], range=(min_value, max_value), histtype='step', label='Signal(Val)', **hist_params)\n",
    "    plt.hist(testData[testData.process == 1]['qcd_score'], color=[\"b\"], linestyle = \"dotted\", weights=testData[testData.process == 1]['weight'], range=(min_value, max_value), histtype='step', label='QCD(Val)', **hist_params)\n",
    "    plt.hist(testData[testData.process == 2]['qcd_score'], color=[\"g\"], linestyle = \"dotted\", weights=testData[testData.process == 2]['weight'], range=(min_value, max_value), histtype='step', label='ttbar(Val)', **hist_params)\n",
    "    plt.legend(loc='best')\n",
    "    plt.xlabel(\"qcd score\",fontsize=20)\n",
    "    plt.ylabel(\"1/N dN/d(NN Score)\",fontsize=20)\n",
    "    #plt.yscale('log')\n",
    "    plt.title(analysis + \", (training and validation samples)\")\n",
    "    plt.savefig(\"qcd_scores_\" + analysis + param_string +\".png\")\n",
    "    plt.figure(figsize=(12,6))\n",
    "    plt.hist(trainData[trainData.process == 0]['top_score'], color=[\"r\"], weights=trainData[trainData.process == 0]['weight'], range=(min_value, max_value), histtype='step', label='Signal', **hist_params)\n",
    "    plt.hist(trainData[trainData.process == 1]['top_score'], color=[\"b\"], weights=trainData[trainData.process == 1]['weight'], range=(min_value, max_value), histtype='step', label='QCD', **hist_params)\n",
    "    plt.hist(trainData[trainData.process == 2]['top_score'], color=[\"g\"], weights=trainData[trainData.process == 2]['weight'], range=(min_value, max_value), histtype='step', label='ttbar', **hist_params)\n",
    "    plt.hist(testData[testData.process == 0]['top_score'], color=[\"r\"], linestyle = \"dotted\", weights=testData[testData.process == 0]['weight'], range=(min_value, max_value), histtype='step', label='Signal(Val)', **hist_params)\n",
    "    plt.hist(testData[testData.process == 1]['top_score'], color=[\"b\"], linestyle = \"dotted\", weights=testData[testData.process == 1]['weight'], range=(min_value, max_value), histtype='step', label='QCD(val)', **hist_params)\n",
    "    plt.hist(testData[testData.process == 2]['top_score'], color=[\"g\"], linestyle = \"dotted\", weights=testData[testData.process == 2]['weight'], range=(min_value, max_value), histtype='step', label='ttbar(val)', **hist_params)\n",
    "    plt.legend(loc='best')\n",
    "    plt.xlabel(\"ttbar score\",fontsize=20)\n",
    "    plt.ylabel(\"1/N dN/d(NN Score)\",fontsize=20)\n",
    "    #plt.yscale('log')\n",
    "    plt.title(analysis + \", (training and validation samples)\")\n",
    "    plt.savefig(\"top_scores_\" + analysis + param_string +\".png\")\n",
    "\n",
    "    # Plot distributions of composite discriminant on training data\n",
    "    plt.figure(figsize=(8, 4))\n",
    "    plt.hist(trainData[trainData.process == 0]['disc'], color=[\"r\"], weights=trainData[trainData.process == 0]['weight'], range=(min_value, max_value), histtype='step', label='Signal', **hist_params)\n",
    "    plt.hist(trainData[trainData.process == 1]['disc'], color=[\"b\"], weights=trainData[trainData.process == 1]['weight'], range=(min_value, max_value), histtype='step', label='QCD', **hist_params)\n",
    "    plt.hist(trainData[trainData.process == 2]['disc'], color=[\"g\"], weights=trainData[trainData.process == 2]['weight'], range=(min_value, max_value), histtype='step', label='ttbar', **hist_params)\n",
    "    plt.legend(loc='best')\n",
    "    plt.xlabel(\"Discriminant\",fontsize=20)\n",
    "    plt.ylabel(\"1/N dN/d(Discriminant)\",fontsize=20)\n",
    "    #plt.yscale('log')\n",
    "    plt.title(analysis + \", Discriminant (training sample)\")\n",
    "    plt.savefig(\"discs_\" + analysis + param_string +\".png\")"
   ]
  },
  {
   "cell_type": "code",
   "execution_count": null,
   "metadata": {},
   "outputs": [],
   "source": []
  }
 ],
 "metadata": {
  "kernelspec": {
   "display_name": "Python 3",
   "language": "python",
   "name": "python3"
  },
  "language_info": {
   "codemirror_mode": {
    "name": "ipython",
    "version": 3
   },
   "file_extension": ".py",
   "mimetype": "text/x-python",
   "name": "python",
   "nbconvert_exporter": "python",
   "pygments_lexer": "ipython3",
   "version": "3.6.5"
  }
 },
 "nbformat": 4,
 "nbformat_minor": 2
}
