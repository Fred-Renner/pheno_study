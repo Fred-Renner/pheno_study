{
 "cells": [
  {
   "cell_type": "code",
   "execution_count": 50,
   "metadata": {},
   "outputs": [
    {
     "name": "stdout",
     "output_type": "stream",
     "text": [
      "hello world\n"
     ]
    }
   ],
   "source": [
    "print (\"hello world\")"
   ]
  },
  {
   "cell_type": "code",
   "execution_count": 1,
   "metadata": {},
   "outputs": [
    {
     "name": "stdout",
     "output_type": "stream",
     "text": [
      "Welcome to JupyROOT 6.14/04\n"
     ]
    },
    {
     "name": "stderr",
     "output_type": "stream",
     "text": [
      "Using TensorFlow backend.\n"
     ]
    }
   ],
   "source": [
    "# %load ../train_and_append_boosted.py\n",
    "import statistics\n",
    "import collections\n",
    "import getopt, sys\n",
    "import matplotlib.pyplot as plt\n",
    "import numpy as np\n",
    "from numpy import linspace\n",
    "import pandas\n",
    "import math\n",
    "from sklearn.preprocessing import StandardScaler\n",
    "import root_numpy\n",
    "from ROOT import gSystem\n",
    "from root_numpy import root2array, array2tree\n",
    "import time\n",
    "import keras\n",
    "from keras.models import Sequential\n",
    "from keras.layers import Dense, Activation, Dropout\n",
    "from keras.utils import plot_model\n",
    "from math import sqrt\n",
    "from sklearn.metrics import accuracy_score\n",
    "from sklearn.externals import joblib\n",
    "from sklearn.utils import shuffle\n",
    "from sklearn.model_selection import train_test_split\n",
    "import ROOT"
   ]
  },
  {
   "cell_type": "code",
   "execution_count": 2,
   "metadata": {},
   "outputs": [],
   "source": [
    "class MyDict(collections.OrderedDict):\n",
    "    def __missing__(self, key):\n",
    "        val = self[key] = MyDict()\n",
    "        return val\n"
   ]
  },
  {
   "cell_type": "code",
   "execution_count": 3,
   "metadata": {},
   "outputs": [],
   "source": [
    "# This converts a flat ntuple into a numpy array file, which is the input\n",
    "# format used by keras in our setup. Creates one .npz file per analysis in the\n",
    "# directory where you run it.\n",
    "\n",
    "# Location of the lists of ntuples you want to convert to numpy format.\n",
    "# I've assumed that the file lists are named following my convention.\n",
    "# e.g. \"signalFiles_resolved.txt\"\n",
    "fileListLocation = \"../datasets_to_train/\"\n",
    "appendListLocation = \"../datasets_to_append/\"\n",
    "\n",
    "# Name of the tree we want to use\n",
    "inTreeName = \"preselection\"\n",
    "\n",
    "# Prefix for the name of the output .npz files\n",
    "outputPrefix = \"trainingData_all_jets_\"\n",
    "#outputPrefix = \"validationData_\"\n",
    "\n",
    "#for analysis in [\"resolved\", \"intermediate\", \"boosted\"]:\n",
    "for analysis in [\"intermediate\"]:\n",
    "    inFile_sig   = fileListLocation + \"/signalFiles_\" + analysis + \".txt\"\n",
    "    inFile_4b    = fileListLocation + \"/4bFiles_\" + analysis + \".txt\"\n",
    "    inFile_2b2j  = fileListLocation + \"/2b2jFiles_\" + analysis + \".txt\"\n",
    "    inFile_ttbar = fileListLocation + \"/ttbarFiles_\" + analysis + \".txt\"\n",
    "    appendFile_sig   = appendListLocation + \"/signalFiles_\" + analysis + \".txt\"\n",
    "    appendFile_4b    = appendListLocation + \"/4bFiles_\" + analysis + \".txt\"\n",
    "    appendFile_2b2j  = appendListLocation + \"/2b2jFiles_\" + analysis + \".txt\"\n",
    "    appendFile_ttbar = appendListLocation + \"/ttbarFiles_\" + analysis + \".txt\"\n",
    "\n",
    "    branchList = [\"pT_hh\",\n",
    "                  \"nMuon\", \"nElec\",\n",
    "                  \"h1_M\", \"h1_Pt\", \"h1_Eta\", \"h1_Phi\", \"h1_j1_j2_dR\",\n",
    "                  \"h2_M\", \"h2_Pt\", \"h2_Eta\", \"h2_Phi\", \"h2_j1_j2_dR\",\n",
    "                  \"met_Et\", \"met_Phi\", \n",
    "                  \"h1_j1_BTag\",\"h1_j2_BTag\",\"h2_j1_BTag\",\"h2_j2_BTag\",\n",
    "                  \"mc_sf\"]\n",
    "   #branchList = [\"pT_hh\", \"dPhi_hh\",\n",
    "   #          \"h1_M\", \"h1_Pt\", \"h1_Eta\", \"h1_j1_j2_dR\",\n",
    "   #          \"h2_M\", \"h2_Pt\", \"h2_Eta\", \"h2_j1_j2_dR\",\n",
    "   #          \"mc_sf\"]\n",
    "\n",
    "    nFeatures = len(branchList)-1\n",
    "\n",
    "    filepaths_sig   = []\n",
    "    filepaths_4b    = []\n",
    "    filepaths_2b2j  = []\n",
    "    filepaths_ttbar = []\n",
    "\n",
    "    f = open(inFile_sig,\"r\")\n",
    "    for line in f:\n",
    "        filepaths_sig.append(line.rstrip())\n",
    "    f.close()\n",
    "\n",
    "    f = open(inFile_4b,\"r\")\n",
    "    for line in f:\n",
    "        filepaths_4b.append(line.rstrip())\n",
    "    f.close()\n",
    "\n",
    "    f = open(inFile_2b2j,\"r\")\n",
    "    for line in f:\n",
    "        filepaths_2b2j.append(line.rstrip())\n",
    "    f.close()\n",
    "\n",
    "    f = open(inFile_ttbar,\"r\")\n",
    "    for line in f:\n",
    "        filepaths_ttbar.append(line.rstrip())\n",
    "    f.close()\n",
    "\n",
    "    appendPaths_sig   = []\n",
    "    appendPaths_4b    = []\n",
    "    appendPaths_2b2j  = []\n",
    "    appendPaths_ttbar = []\n",
    "\n",
    "    f = open(appendFile_sig,\"r\")\n",
    "    for line in f:\n",
    "        appendPaths_sig.append(line.rstrip())\n",
    "    f.close()\n",
    "\n",
    "    f = open(appendFile_4b,\"r\")\n",
    "    for line in f:\n",
    "        appendPaths_4b.append(line.rstrip())\n",
    "    f.close()\n",
    "\n",
    "    f = open(appendFile_2b2j,\"r\")\n",
    "    for line in f:\n",
    "        appendPaths_2b2j.append(line.rstrip())\n",
    "    f.close()\n",
    "\n",
    "    f = open(appendFile_ttbar,\"r\")\n",
    "    for line in f:\n",
    "        appendPaths_ttbar.append(line.rstrip())\n",
    "    f.close()\n",
    "\n",
    "    dat_sig   = root2array(filepaths_sig,   branches=branchList, treename=inTreeName)\n",
    "    dat_4b    = root2array(filepaths_4b,    branches=branchList, treename=inTreeName)\n",
    "    dat_2b2j  = root2array(filepaths_2b2j,  branches=branchList, treename=inTreeName)\n",
    "    dat_ttbar = root2array(filepaths_ttbar, branches=branchList, treename=inTreeName)\n",
    "    datAppend_sig   = root2array(appendPaths_sig,   branches=branchList, treename=inTreeName)\n",
    "    datAppend_4b    = root2array(appendPaths_4b,    branches=branchList, treename=inTreeName)\n",
    "    datAppend_2b2j  = root2array(appendPaths_2b2j,  branches=branchList, treename=inTreeName)\n",
    "    datAppend_ttbar = root2array(appendPaths_ttbar, branches=branchList, treename=inTreeName)\n",
    "\n",
    "    #np.savez(outputPrefix + analysis + \".npz\", sig=dat_sig, bkg_4b=dat_4b, bkg_2b2j=dat_2b2j, bkg_ttbar=dat_ttbar)\n"
   ]
  },
  {
   "cell_type": "code",
   "execution_count": 4,
   "metadata": {},
   "outputs": [],
   "source": [
    "    nFeatures = len(branchList)-1\n"
   ]
  },
  {
   "cell_type": "code",
   "execution_count": 5,
   "metadata": {},
   "outputs": [],
   "source": [
    "# This program trains a neural network based on input numpy array files.\n",
    "# Output is one trained NN file (nn_*.h5) and one scaler file (scaler_*.sav)\n",
    "# per analysis. Optionally also makes plots of the output distributions for the\n",
    "# training sample.\n",
    "\n",
    "### NOTE this program uses 0.2 of the data as a validation set"
   ]
  },
  {
   "cell_type": "code",
   "execution_count": 6,
   "metadata": {},
   "outputs": [],
   "source": [
    "# Path of the directory whit lits of ntuples to append score to\n",
    "# Path of the directory containing .npz files to train on.\n",
    "# Standard naming convention is assumed (e.g. \"trainingData_resolved.npz\")\n",
    "#trainingDataPath = \"../train_all_jets/\""
   ]
  },
  {
   "cell_type": "code",
   "execution_count": 7,
   "metadata": {},
   "outputs": [
    {
     "name": "stdout",
     "output_type": "stream",
     "text": [
      "paramters string testSave_all_jets_LR0p05\n"
     ]
    }
   ],
   "source": [
    "# Training parameters\n",
    "numEpochs = 5\n",
    "batchSize = 100\n",
    "dropoutFraction = 0.3\n",
    "# initial learning rate for adamax\n",
    "init_lr = MyDict()\n",
    "init_lr[\"boosted\"] = 5e-5\n",
    "init_lr[\"intermediate\"] = 5e-2\n",
    "init_lr[\"resolved\"] = 5e-3\n",
    "\n",
    "# store parameters of the network in a string\n",
    "#param_string = \"_w_OPadamaxEP\"+str(numEpochs)+\"BS\"+str(batchSize)+\"DO\"+str(dropoutFraction).replace(\".\",\"\")\n",
    "# Plot score distributions for the training sample?\n",
    "makePlots = False\n",
    "\n",
    "target_nevents = 100000\n",
    "\n",
    "signal_weight = MyDict()\n",
    "ttbar_weight = MyDict()\n",
    "bkg_weight = MyDict()\n",
    "analysis = \"intermediate\"\n",
    "param_string = \"testSave_all_jets_LR\"+str(init_lr[analysis]).replace(\"0.\",\"0p\")\n",
    "print (\"paramters string \"+param_string)"
   ]
  },
  {
   "cell_type": "code",
   "execution_count": 8,
   "metadata": {},
   "outputs": [
    {
     "name": "stdout",
     "output_type": "stream",
     "text": [
      "48610 ( 2.057189878625797 ) signal (weight) events found\n"
     ]
    }
   ],
   "source": [
    "# Load the input file and grab the data from it.\n",
    "# Label each type of background\n",
    "# Calculate weight for each 'target' sample\n",
    "#inFile = np.load(trainingDataPath + \"/trainingData_all_jets_\" + analysis + \".npz\")\n",
    "\n",
    "signalData = pandas.DataFrame(dat_sig)\n",
    "#signalData = pandas.DataFrame(inFile[\"sig\"])\n",
    "signalData[\"target\"] = 1\n",
    "#signal_weight[analysis] = target_nevents/len(signalData)\n",
    "\n",
    "signalAppendData = pandas.DataFrame(datAppend_sig)\n",
    "signalAppendData[\"target\"] = 1\n",
    "signal_weight[analysis] = target_nevents/(len(signalData)+len(signalAppendData))\n",
    "signalData = signalData.append(signalAppendData, ignore_index = True)\n",
    "print(len(signalData),\"(\",signal_weight[analysis],\") signal (weight) events found\")\n",
    "\n"
   ]
  },
  {
   "cell_type": "code",
   "execution_count": 9,
   "metadata": {},
   "outputs": [
    {
     "name": "stdout",
     "output_type": "stream",
     "text": [
      "681618 4b background events found\n",
      "681336 2b2j background events found\n",
      "1444970 ( 0.06920558904337114 ) bkg (weight) background events found\n"
     ]
    }
   ],
   "source": [
    "backgroundData = pandas.DataFrame(dat_4b)\n",
    "backgroundData[\"target\"] = 0\n",
    "\n",
    "backgroundAppend_4bData = pandas.DataFrame(datAppend_4b)\n",
    "backgroundAppend_4bData[\"target\"] = 0\n",
    "backgroundData = backgroundData.append(backgroundAppend_4bData, ignore_index = True)\n",
    "print(len(backgroundData), \"4b background events found\")\n",
    "\n",
    "backgroundAppend_2b2j = pandas.DataFrame(datAppend_2b2j)\n",
    "backgroundAppend_2b2j[\"target\"] = 0\n",
    "backgroundData = backgroundData.append(backgroundAppend_2b2j, ignore_index = True)\n",
    "\n",
    "background_2b2j = pandas.DataFrame(dat_2b2j)\n",
    "background_2b2j[\"target\"] = 0\n",
    "backgroundData = backgroundData.append(background_2b2j, ignore_index = True)\n",
    "print(len(background_2b2j)+len(backgroundAppend_2b2j), \"2b2j background events found\")\n",
    "\n",
    "background_ttbar = pandas.DataFrame(dat_ttbar)\n",
    "background_ttbar[\"target\"] = 0\n",
    "backgroundData = backgroundData.append(background_ttbar, ignore_index = True)\n",
    "\n",
    "backgroundAppend_ttbar = pandas.DataFrame(datAppend_ttbar)\n",
    "backgroundAppend_ttbar[\"target\"] = 0\n",
    "n_ttbar = len(background_ttbar)+len(backgroundAppend_ttbar)\n",
    "backgroundData = backgroundData.append(backgroundAppend_ttbar, ignore_index = True)\n",
    "\n",
    "n_bkg = len(backgroundData)\n",
    "bkg_weight[analysis] = target_nevents/n_bkg\n",
    "print(n_bkg,\"(\",bkg_weight[analysis], \") bkg (weight) background events found\")"
   ]
  },
  {
   "cell_type": "code",
   "execution_count": null,
   "metadata": {},
   "outputs": [],
   "source": [
    "\n"
   ]
  },
  {
   "cell_type": "code",
   "execution_count": 10,
   "metadata": {},
   "outputs": [
    {
     "data": {
      "text/html": [
       "<div>\n",
       "<style scoped>\n",
       "    .dataframe tbody tr th:only-of-type {\n",
       "        vertical-align: middle;\n",
       "    }\n",
       "\n",
       "    .dataframe tbody tr th {\n",
       "        vertical-align: top;\n",
       "    }\n",
       "\n",
       "    .dataframe thead th {\n",
       "        text-align: right;\n",
       "    }\n",
       "</style>\n",
       "<table border=\"1\" class=\"dataframe\">\n",
       "  <thead>\n",
       "    <tr style=\"text-align: right;\">\n",
       "      <th></th>\n",
       "      <th>pT_hh</th>\n",
       "      <th>nMuon</th>\n",
       "      <th>nElec</th>\n",
       "      <th>h1_M</th>\n",
       "      <th>h1_Pt</th>\n",
       "      <th>h1_Eta</th>\n",
       "      <th>h1_Phi</th>\n",
       "      <th>h1_j1_j2_dR</th>\n",
       "      <th>h2_M</th>\n",
       "      <th>h2_Pt</th>\n",
       "      <th>...</th>\n",
       "      <th>h2_Phi</th>\n",
       "      <th>h2_j1_j2_dR</th>\n",
       "      <th>met_Et</th>\n",
       "      <th>met_Phi</th>\n",
       "      <th>h1_j1_BTag</th>\n",
       "      <th>h1_j2_BTag</th>\n",
       "      <th>h2_j1_BTag</th>\n",
       "      <th>h2_j2_BTag</th>\n",
       "      <th>mc_sf</th>\n",
       "      <th>target</th>\n",
       "    </tr>\n",
       "  </thead>\n",
       "  <tbody>\n",
       "    <tr>\n",
       "      <th>0</th>\n",
       "      <td>93.954513</td>\n",
       "      <td>0</td>\n",
       "      <td>0</td>\n",
       "      <td>32.814987</td>\n",
       "      <td>278.369324</td>\n",
       "      <td>0.775739</td>\n",
       "      <td>2.541677</td>\n",
       "      <td>0.883258</td>\n",
       "      <td>406.802072</td>\n",
       "      <td>198.406656</td>\n",
       "      <td>...</td>\n",
       "      <td>-0.389625</td>\n",
       "      <td>3.117045</td>\n",
       "      <td>92.387344</td>\n",
       "      <td>-0.259087</td>\n",
       "      <td>1</td>\n",
       "      <td>1</td>\n",
       "      <td>0</td>\n",
       "      <td>1</td>\n",
       "      <td>2.05719</td>\n",
       "      <td>1</td>\n",
       "    </tr>\n",
       "    <tr>\n",
       "      <th>1</th>\n",
       "      <td>226.418519</td>\n",
       "      <td>0</td>\n",
       "      <td>0</td>\n",
       "      <td>100.880653</td>\n",
       "      <td>369.586914</td>\n",
       "      <td>-0.244938</td>\n",
       "      <td>-0.495467</td>\n",
       "      <td>1.494615</td>\n",
       "      <td>416.088283</td>\n",
       "      <td>143.178481</td>\n",
       "      <td>...</td>\n",
       "      <td>2.655416</td>\n",
       "      <td>2.906534</td>\n",
       "      <td>156.908493</td>\n",
       "      <td>3.011088</td>\n",
       "      <td>1</td>\n",
       "      <td>0</td>\n",
       "      <td>1</td>\n",
       "      <td>0</td>\n",
       "      <td>2.05719</td>\n",
       "      <td>1</td>\n",
       "    </tr>\n",
       "    <tr>\n",
       "      <th>2</th>\n",
       "      <td>353.224510</td>\n",
       "      <td>0</td>\n",
       "      <td>0</td>\n",
       "      <td>191.684845</td>\n",
       "      <td>409.485107</td>\n",
       "      <td>-1.927993</td>\n",
       "      <td>-2.675545</td>\n",
       "      <td>0.688959</td>\n",
       "      <td>139.518872</td>\n",
       "      <td>91.436167</td>\n",
       "      <td>...</td>\n",
       "      <td>1.282682</td>\n",
       "      <td>2.302148</td>\n",
       "      <td>37.436165</td>\n",
       "      <td>2.369734</td>\n",
       "      <td>1</td>\n",
       "      <td>0</td>\n",
       "      <td>0</td>\n",
       "      <td>1</td>\n",
       "      <td>2.05719</td>\n",
       "      <td>1</td>\n",
       "    </tr>\n",
       "    <tr>\n",
       "      <th>3</th>\n",
       "      <td>140.194158</td>\n",
       "      <td>0</td>\n",
       "      <td>0</td>\n",
       "      <td>106.146584</td>\n",
       "      <td>278.307465</td>\n",
       "      <td>0.465977</td>\n",
       "      <td>0.717083</td>\n",
       "      <td>0.678351</td>\n",
       "      <td>117.076634</td>\n",
       "      <td>138.113877</td>\n",
       "      <td>...</td>\n",
       "      <td>-2.426549</td>\n",
       "      <td>1.503046</td>\n",
       "      <td>32.326122</td>\n",
       "      <td>0.748628</td>\n",
       "      <td>0</td>\n",
       "      <td>1</td>\n",
       "      <td>0</td>\n",
       "      <td>0</td>\n",
       "      <td>2.05719</td>\n",
       "      <td>1</td>\n",
       "    </tr>\n",
       "    <tr>\n",
       "      <th>4</th>\n",
       "      <td>249.384479</td>\n",
       "      <td>0</td>\n",
       "      <td>0</td>\n",
       "      <td>39.121346</td>\n",
       "      <td>288.183624</td>\n",
       "      <td>1.990644</td>\n",
       "      <td>-1.495270</td>\n",
       "      <td>1.033321</td>\n",
       "      <td>33.634826</td>\n",
       "      <td>143.881394</td>\n",
       "      <td>...</td>\n",
       "      <td>2.692200</td>\n",
       "      <td>0.455577</td>\n",
       "      <td>4.801024</td>\n",
       "      <td>-0.705621</td>\n",
       "      <td>1</td>\n",
       "      <td>1</td>\n",
       "      <td>0</td>\n",
       "      <td>0</td>\n",
       "      <td>2.05719</td>\n",
       "      <td>1</td>\n",
       "    </tr>\n",
       "  </tbody>\n",
       "</table>\n",
       "<p>5 rows × 21 columns</p>\n",
       "</div>"
      ],
      "text/plain": [
       "        pT_hh  nMuon  nElec        h1_M       h1_Pt    h1_Eta    h1_Phi  \\\n",
       "0   93.954513      0      0   32.814987  278.369324  0.775739  2.541677   \n",
       "1  226.418519      0      0  100.880653  369.586914 -0.244938 -0.495467   \n",
       "2  353.224510      0      0  191.684845  409.485107 -1.927993 -2.675545   \n",
       "3  140.194158      0      0  106.146584  278.307465  0.465977  0.717083   \n",
       "4  249.384479      0      0   39.121346  288.183624  1.990644 -1.495270   \n",
       "\n",
       "   h1_j1_j2_dR        h2_M       h2_Pt   ...      h2_Phi  h2_j1_j2_dR  \\\n",
       "0     0.883258  406.802072  198.406656   ...   -0.389625     3.117045   \n",
       "1     1.494615  416.088283  143.178481   ...    2.655416     2.906534   \n",
       "2     0.688959  139.518872   91.436167   ...    1.282682     2.302148   \n",
       "3     0.678351  117.076634  138.113877   ...   -2.426549     1.503046   \n",
       "4     1.033321   33.634826  143.881394   ...    2.692200     0.455577   \n",
       "\n",
       "       met_Et   met_Phi  h1_j1_BTag  h1_j2_BTag  h2_j1_BTag  h2_j2_BTag  \\\n",
       "0   92.387344 -0.259087           1           1           0           1   \n",
       "1  156.908493  3.011088           1           0           1           0   \n",
       "2   37.436165  2.369734           1           0           0           1   \n",
       "3   32.326122  0.748628           0           1           0           0   \n",
       "4    4.801024 -0.705621           1           1           0           0   \n",
       "\n",
       "     mc_sf  target  \n",
       "0  2.05719       1  \n",
       "1  2.05719       1  \n",
       "2  2.05719       1  \n",
       "3  2.05719       1  \n",
       "4  2.05719       1  \n",
       "\n",
       "[5 rows x 21 columns]"
      ]
     },
     "execution_count": 10,
     "metadata": {},
     "output_type": "execute_result"
    }
   ],
   "source": [
    "allData = signalData.append(backgroundData, ignore_index = True)\n",
    "\n",
    "# Set all event weights to 1 by default\n",
    "allData.loc[:, 'mc_sf'] = 1.\n",
    "# Apply manual event weighting: numbers that give \"reasonable behavior\"\n",
    "allData.loc[allData.target == 1, 'mc_sf'] = signal_weight[analysis] # signal\n",
    "allData.loc[allData.target == 0, 'mc_sf'] = bkg_weight[analysis]    # QCD\n",
    "\n",
    "#allData = shuffle(allData)\n",
    "allData.head()"
   ]
  },
  {
   "cell_type": "code",
   "execution_count": 11,
   "metadata": {},
   "outputs": [],
   "source": [
    "allData = shuffle(allData)\n",
    "xTrainData = allData.copy()\n",
    "procType = xTrainData.pop(\"target\")\n",
    "\n",
    "\n",
    "X_train, X_run, yTypeTrain, yTypeRun = train_test_split(xTrainData, procType, test_size=0.4, random_state=1)\n",
    "X_train, X_test, yTypeTrain, yTypeTest = train_test_split(X_train, yTypeTrain, test_size=0.2, random_state=2)\n",
    "X_train_check, X_run_check, yTypeTrain_check, yTypeRun_check = train_test_split(allData, procType, test_size=0.4, random_state=1)\n",
    "X_train_check, X_test_check, yTypeTrain_check, yTypeTest_check = train_test_split(X_train_check, yTypeTrain_check, test_size=0.2, random_state=2)\n",
    "\n",
    "# These aren't input features, separate them out.\n",
    "evtWeightsTrain = X_train.pop(\"mc_sf\")\n",
    "evtWeightsVal = X_test.pop(\"mc_sf\")\n",
    "evtWeightsRun = X_run.pop(\"mc_sf\")"
   ]
  },
  {
   "cell_type": "code",
   "execution_count": 12,
   "metadata": {},
   "outputs": [
    {
     "data": {
      "text/html": [
       "<div>\n",
       "<style scoped>\n",
       "    .dataframe tbody tr th:only-of-type {\n",
       "        vertical-align: middle;\n",
       "    }\n",
       "\n",
       "    .dataframe tbody tr th {\n",
       "        vertical-align: top;\n",
       "    }\n",
       "\n",
       "    .dataframe thead th {\n",
       "        text-align: right;\n",
       "    }\n",
       "</style>\n",
       "<table border=\"1\" class=\"dataframe\">\n",
       "  <thead>\n",
       "    <tr style=\"text-align: right;\">\n",
       "      <th></th>\n",
       "      <th>pT_hh</th>\n",
       "      <th>nMuon</th>\n",
       "      <th>nElec</th>\n",
       "      <th>h1_M</th>\n",
       "      <th>h1_Pt</th>\n",
       "      <th>h1_Eta</th>\n",
       "      <th>h1_Phi</th>\n",
       "      <th>h1_j1_j2_dR</th>\n",
       "      <th>h2_M</th>\n",
       "      <th>h2_Pt</th>\n",
       "      <th>...</th>\n",
       "      <th>h2_Phi</th>\n",
       "      <th>h2_j1_j2_dR</th>\n",
       "      <th>met_Et</th>\n",
       "      <th>met_Phi</th>\n",
       "      <th>h1_j1_BTag</th>\n",
       "      <th>h1_j2_BTag</th>\n",
       "      <th>h2_j1_BTag</th>\n",
       "      <th>h2_j2_BTag</th>\n",
       "      <th>mc_sf</th>\n",
       "      <th>target</th>\n",
       "    </tr>\n",
       "  </thead>\n",
       "  <tbody>\n",
       "    <tr>\n",
       "      <th>546726</th>\n",
       "      <td>41.569676</td>\n",
       "      <td>0</td>\n",
       "      <td>0</td>\n",
       "      <td>92.279762</td>\n",
       "      <td>263.545593</td>\n",
       "      <td>-1.580875</td>\n",
       "      <td>0.621078</td>\n",
       "      <td>0.390850</td>\n",
       "      <td>69.261859</td>\n",
       "      <td>223.794898</td>\n",
       "      <td>...</td>\n",
       "      <td>-2.570600</td>\n",
       "      <td>0.676831</td>\n",
       "      <td>21.901314</td>\n",
       "      <td>-2.826110</td>\n",
       "      <td>1</td>\n",
       "      <td>1</td>\n",
       "      <td>0</td>\n",
       "      <td>1</td>\n",
       "      <td>0.069206</td>\n",
       "      <td>0</td>\n",
       "    </tr>\n",
       "    <tr>\n",
       "      <th>662029</th>\n",
       "      <td>149.845050</td>\n",
       "      <td>0</td>\n",
       "      <td>0</td>\n",
       "      <td>76.122551</td>\n",
       "      <td>260.477478</td>\n",
       "      <td>1.151168</td>\n",
       "      <td>2.048284</td>\n",
       "      <td>0.512325</td>\n",
       "      <td>202.543995</td>\n",
       "      <td>118.304336</td>\n",
       "      <td>...</td>\n",
       "      <td>-1.363764</td>\n",
       "      <td>2.584674</td>\n",
       "      <td>38.369576</td>\n",
       "      <td>-0.701913</td>\n",
       "      <td>1</td>\n",
       "      <td>1</td>\n",
       "      <td>0</td>\n",
       "      <td>0</td>\n",
       "      <td>0.069206</td>\n",
       "      <td>0</td>\n",
       "    </tr>\n",
       "    <tr>\n",
       "      <th>543131</th>\n",
       "      <td>141.615200</td>\n",
       "      <td>0</td>\n",
       "      <td>0</td>\n",
       "      <td>61.210083</td>\n",
       "      <td>289.058685</td>\n",
       "      <td>1.832833</td>\n",
       "      <td>-0.807576</td>\n",
       "      <td>0.271727</td>\n",
       "      <td>123.167215</td>\n",
       "      <td>156.827178</td>\n",
       "      <td>...</td>\n",
       "      <td>2.095363</td>\n",
       "      <td>1.496567</td>\n",
       "      <td>8.125989</td>\n",
       "      <td>-0.449574</td>\n",
       "      <td>0</td>\n",
       "      <td>1</td>\n",
       "      <td>1</td>\n",
       "      <td>0</td>\n",
       "      <td>0.069206</td>\n",
       "      <td>0</td>\n",
       "    </tr>\n",
       "    <tr>\n",
       "      <th>136542</th>\n",
       "      <td>40.500232</td>\n",
       "      <td>0</td>\n",
       "      <td>0</td>\n",
       "      <td>56.400700</td>\n",
       "      <td>262.209259</td>\n",
       "      <td>0.948073</td>\n",
       "      <td>2.398743</td>\n",
       "      <td>0.470853</td>\n",
       "      <td>71.768075</td>\n",
       "      <td>253.862584</td>\n",
       "      <td>...</td>\n",
       "      <td>-0.896608</td>\n",
       "      <td>0.547431</td>\n",
       "      <td>42.133915</td>\n",
       "      <td>2.448824</td>\n",
       "      <td>1</td>\n",
       "      <td>1</td>\n",
       "      <td>1</td>\n",
       "      <td>1</td>\n",
       "      <td>0.069206</td>\n",
       "      <td>0</td>\n",
       "    </tr>\n",
       "    <tr>\n",
       "      <th>1052058</th>\n",
       "      <td>84.012046</td>\n",
       "      <td>0</td>\n",
       "      <td>0</td>\n",
       "      <td>148.760986</td>\n",
       "      <td>622.191101</td>\n",
       "      <td>-0.415102</td>\n",
       "      <td>0.217315</td>\n",
       "      <td>0.597172</td>\n",
       "      <td>169.482415</td>\n",
       "      <td>670.281631</td>\n",
       "      <td>...</td>\n",
       "      <td>-3.030998</td>\n",
       "      <td>0.995981</td>\n",
       "      <td>67.435204</td>\n",
       "      <td>-0.014660</td>\n",
       "      <td>1</td>\n",
       "      <td>1</td>\n",
       "      <td>0</td>\n",
       "      <td>0</td>\n",
       "      <td>0.069206</td>\n",
       "      <td>0</td>\n",
       "    </tr>\n",
       "  </tbody>\n",
       "</table>\n",
       "<p>5 rows × 21 columns</p>\n",
       "</div>"
      ],
      "text/plain": [
       "              pT_hh  nMuon  nElec        h1_M       h1_Pt    h1_Eta    h1_Phi  \\\n",
       "546726    41.569676      0      0   92.279762  263.545593 -1.580875  0.621078   \n",
       "662029   149.845050      0      0   76.122551  260.477478  1.151168  2.048284   \n",
       "543131   141.615200      0      0   61.210083  289.058685  1.832833 -0.807576   \n",
       "136542    40.500232      0      0   56.400700  262.209259  0.948073  2.398743   \n",
       "1052058   84.012046      0      0  148.760986  622.191101 -0.415102  0.217315   \n",
       "\n",
       "         h1_j1_j2_dR        h2_M       h2_Pt   ...      h2_Phi  h2_j1_j2_dR  \\\n",
       "546726      0.390850   69.261859  223.794898   ...   -2.570600     0.676831   \n",
       "662029      0.512325  202.543995  118.304336   ...   -1.363764     2.584674   \n",
       "543131      0.271727  123.167215  156.827178   ...    2.095363     1.496567   \n",
       "136542      0.470853   71.768075  253.862584   ...   -0.896608     0.547431   \n",
       "1052058     0.597172  169.482415  670.281631   ...   -3.030998     0.995981   \n",
       "\n",
       "            met_Et   met_Phi  h1_j1_BTag  h1_j2_BTag  h2_j1_BTag  h2_j2_BTag  \\\n",
       "546726   21.901314 -2.826110           1           1           0           1   \n",
       "662029   38.369576 -0.701913           1           1           0           0   \n",
       "543131    8.125989 -0.449574           0           1           1           0   \n",
       "136542   42.133915  2.448824           1           1           1           1   \n",
       "1052058  67.435204 -0.014660           1           1           0           0   \n",
       "\n",
       "            mc_sf  target  \n",
       "546726   0.069206       0  \n",
       "662029   0.069206       0  \n",
       "543131   0.069206       0  \n",
       "136542   0.069206       0  \n",
       "1052058  0.069206       0  \n",
       "\n",
       "[5 rows x 21 columns]"
      ]
     },
     "execution_count": 12,
     "metadata": {},
     "output_type": "execute_result"
    }
   ],
   "source": [
    "allData.head()"
   ]
  },
  {
   "cell_type": "code",
   "execution_count": 13,
   "metadata": {},
   "outputs": [
    {
     "data": {
      "text/plain": [
       "21913    126.077698\n",
       "22950     69.783859\n",
       "22503    120.901031\n",
       "39333    130.221832\n",
       "5140      77.547493\n",
       "30024    113.242302\n",
       "4467      88.510834\n",
       "29492    118.111618\n",
       "17333    264.455139\n",
       "43863    282.218170\n",
       "32835    135.543686\n",
       "35717    136.047363\n",
       "46929    135.478043\n",
       "38785     22.543507\n",
       "33        93.596077\n",
       "16199    113.435150\n",
       "38607     90.228088\n",
       "4113     135.302795\n",
       "13110    133.129837\n",
       "9016      55.621159\n",
       "20351    121.878220\n",
       "31624     58.084515\n",
       "26315     92.820549\n",
       "43039    118.887733\n",
       "34546    126.821518\n",
       "47259    135.486954\n",
       "45653     38.234898\n",
       "38272    113.001915\n",
       "24273    139.601212\n",
       "26210    115.547966\n",
       "            ...    \n",
       "6238     111.873985\n",
       "42036     55.981461\n",
       "5202     115.565437\n",
       "21976    123.613258\n",
       "39103    186.114822\n",
       "24270    126.158714\n",
       "15876     68.755608\n",
       "31033    102.794159\n",
       "10513     57.815567\n",
       "11865     90.713425\n",
       "3687      93.571609\n",
       "12939     50.468582\n",
       "23706    129.180176\n",
       "34024     95.037590\n",
       "45403    120.019325\n",
       "42890    122.996582\n",
       "14429     99.959198\n",
       "20282     34.153435\n",
       "22372    127.159302\n",
       "15828    114.772141\n",
       "25318    115.320099\n",
       "15203    128.931976\n",
       "7472      93.736931\n",
       "10598    120.014359\n",
       "6274      85.724464\n",
       "42912     99.127159\n",
       "8006      74.427620\n",
       "8518     117.076874\n",
       "19232     41.548580\n",
       "29882    131.208923\n",
       "Name: h1_M, Length: 19499, dtype: float64"
      ]
     },
     "execution_count": 13,
     "metadata": {},
     "output_type": "execute_result"
    }
   ],
   "source": [
    "X_run_check[X_run_check.target == 1][\"h1_M\"]"
   ]
  },
  {
   "cell_type": "code",
   "execution_count": 14,
   "metadata": {},
   "outputs": [
    {
     "data": {
      "text/plain": [
       "<matplotlib.legend.Legend at 0x7f0a9e3e66a0>"
      ]
     },
     "execution_count": 14,
     "metadata": {},
     "output_type": "execute_result"
    },
    {
     "data": {
      "image/png": "[encoded data removed]",
      "text/plain": [
       "<Figure size 864x432 with 1 Axes>"
      ]
     },
     "metadata": {},
     "output_type": "display_data"
    }
   ],
   "source": [
    "var = 18\n",
    "plt.figure(figsize=(12,6))\n",
    "hist_params = {'density': True, 'bins': 50, 'linewidth': 2}\n",
    "\n",
    "plt.hist(X_run_check[X_run_check.target == 1][\"h1_M\"], color=[\"r\"], histtype='step', label='run', **hist_params)\n",
    "plt.hist(X_train_check[X_train_check.target ==1][\"h1_M\"], color=[\"b\"], histtype='step', label='train', **hist_params)\n",
    "plt.hist(allData[allData.target ==1][\"h1_M\"], color=[\"g\"], histtype='step', label='all', **hist_params)\n",
    "plt.legend(loc='best')"
   ]
  },
  {
   "cell_type": "code",
   "execution_count": 15,
   "metadata": {},
   "outputs": [],
   "source": [
    "# Convert pandas dataframes into numpy arrays\n",
    "X_test = X_test.values\n",
    "X_train = X_train.values\n",
    "X_run = X_run.values\n",
    "evtWeightsTrain = evtWeightsTrain.values\n",
    "evtWeightsVal = evtWeightsVal.values\n",
    "evtWeightsRun = evtWeightsRun.values\n",
    "yTypeTest = yTypeTest.values\n",
    "yTypeTrain = yTypeTrain.values\n",
    "yTypeRun = yTypeRun.values"
   ]
  },
  {
   "cell_type": "code",
   "execution_count": 16,
   "metadata": {},
   "outputs": [
    {
     "name": "stdout",
     "output_type": "stream",
     "text": [
      "[[ 19.73182604   0.           0.         ...   0.           2.05718988\n",
      "    1.        ]\n",
      " [ 57.24132528   0.           0.         ...   1.           2.05718988\n",
      "    1.        ]\n",
      " [ 32.01091698   0.           0.         ...   0.           2.05718988\n",
      "    1.        ]\n",
      " ...\n",
      " [ 77.32810283   0.           0.         ...   0.           2.05718988\n",
      "    1.        ]\n",
      " [280.94472574   0.           0.         ...   1.           2.05718988\n",
      "    1.        ]\n",
      " [ 72.00170817   0.           0.         ...   1.           2.05718988\n",
      "    1.        ]]\n",
      "[[303.2583734    0.           0.         ...   0.           2.05718988\n",
      "    1.        ]\n",
      " [190.95033916   0.           0.         ...   0.           2.05718988\n",
      "    1.        ]\n",
      " [191.38464423   0.           0.         ...   1.           2.05718988\n",
      "    1.        ]\n",
      " ...\n",
      " [183.78442907   0.           0.         ...   0.           2.05718988\n",
      "    1.        ]\n",
      " [201.55820693   0.           0.         ...   1.           2.05718988\n",
      "    1.        ]\n",
      " [160.65701961   0.           0.         ...   0.           2.05718988\n",
      "    1.        ]]\n",
      "[[128.49998565   0.           0.         ...   0.           2.05718988\n",
      "    1.        ]\n",
      " [ 60.02937283   0.           0.         ...   1.           2.05718988\n",
      "    1.        ]\n",
      " [194.7575694    0.           0.         ...   0.           2.05718988\n",
      "    1.        ]\n",
      " ...\n",
      " [107.74547954   0.           0.         ...   1.           2.05718988\n",
      "    1.        ]\n",
      " [305.43407621   0.           0.         ...   0.           2.05718988\n",
      "    1.        ]\n",
      " [123.86279714   0.           0.         ...   1.           2.05718988\n",
      "    1.        ]]\n",
      "[[318.5880769    0.           0.         ...   0.           2.05718988\n",
      "    1.        ]\n",
      " [ 80.40487019   0.           0.         ...   1.           2.05718988\n",
      "    1.        ]\n",
      " [ 99.11688962   0.           0.         ...   1.           2.05718988\n",
      "    1.        ]\n",
      " ...\n",
      " [100.55731569   0.           0.         ...   1.           2.05718988\n",
      "    1.        ]\n",
      " [189.98674454   0.           0.         ...   0.           2.05718988\n",
      "    1.        ]\n",
      " [233.61613714   0.           0.         ...   1.           2.05718988\n",
      "    1.        ]]\n"
     ]
    }
   ],
   "source": [
    "X_test_check = X_test_check.values\n",
    "X_train_check = X_train_check.values\n",
    "X_run_check = X_run_check.values\n",
    "allData_c = allData.copy()\n",
    "allData_c = allData_c.values\n",
    "sig_test_check = X_test_check[X_test_check[:, 20] == 1]\n",
    "sig_train_check = X_train_check[X_train_check[:, 20] == 1]\n",
    "sig_run_check = X_run_check[X_run_check[:, 20] == 1]\n",
    "sig_all_check = allData_c[allData_c[:, 20] == 1]\n",
    "print(sig_test_check)\n",
    "print(sig_train_check)\n",
    "print(sig_run_check)\n",
    "print(sig_all_check)\n"
   ]
  },
  {
   "cell_type": "code",
   "execution_count": 18,
   "metadata": {},
   "outputs": [
    {
     "data": {
      "text/plain": [
       "['scaler_testingAppend_binary.sav']"
      ]
     },
     "execution_count": 18,
     "metadata": {},
     "output_type": "execute_result"
    }
   ],
   "source": [
    "# Scale input features to mean=0, stddev=1\n",
    "classStd1 = StandardScaler().fit(X_train)\n",
    "X_train = classStd1.transform(X_train)\n",
    "X_test = classStd1.transform(X_test)\n",
    "# scale run later\n",
    "#X_run = classStd1.fit_transform(X_run)\n",
    "joblib.dump(classStd1, \"scaler_testingAppend_binary.sav\")"
   ]
  },
  {
   "cell_type": "code",
   "execution_count": 19,
   "metadata": {},
   "outputs": [
    {
     "ename": "ValueError",
     "evalue": "operands could not be broadcast together with shapes (716918,21) (19,) (716918,21) ",
     "output_type": "error",
     "traceback": [
      "\u001b[0;31m---------------------------------------------------------------------------\u001b[0m",
      "\u001b[0;31mValueError\u001b[0m                                Traceback (most recent call last)",
      "\u001b[0;32m<ipython-input-19-0331b0ca7c68>\u001b[0m in \u001b[0;36m<module>\u001b[0;34m()\u001b[0m\n\u001b[0;32m----> 1\u001b[0;31m \u001b[0mX_train_check_scaled\u001b[0m \u001b[0;34m=\u001b[0m \u001b[0mclassStd1\u001b[0m\u001b[0;34m.\u001b[0m\u001b[0mtransform\u001b[0m\u001b[0;34m(\u001b[0m\u001b[0mX_train_check\u001b[0m\u001b[0;34m)\u001b[0m\u001b[0;34m\u001b[0m\u001b[0m\n\u001b[0m\u001b[1;32m      2\u001b[0m \u001b[0mX_test_check_scaled\u001b[0m \u001b[0;34m=\u001b[0m \u001b[0mclassStd1\u001b[0m\u001b[0;34m.\u001b[0m\u001b[0mtransform\u001b[0m\u001b[0;34m(\u001b[0m\u001b[0mX_test_check\u001b[0m\u001b[0;34m)\u001b[0m\u001b[0;34m\u001b[0m\u001b[0m\n\u001b[1;32m      3\u001b[0m \u001b[0mX_run_check_scaled\u001b[0m \u001b[0;34m=\u001b[0m \u001b[0mclassStd1\u001b[0m\u001b[0;34m.\u001b[0m\u001b[0mtransform\u001b[0m\u001b[0;34m(\u001b[0m\u001b[0mX_run_check\u001b[0m\u001b[0;34m)\u001b[0m\u001b[0;34m\u001b[0m\u001b[0m\n\u001b[1;32m      4\u001b[0m \u001b[0mallData_c\u001b[0m \u001b[0;34m=\u001b[0m \u001b[0mclassStd1\u001b[0m\u001b[0;34m.\u001b[0m\u001b[0mtransform\u001b[0m\u001b[0;34m(\u001b[0m\u001b[0mallData_c\u001b[0m\u001b[0;34m)\u001b[0m\u001b[0;34m\u001b[0m\u001b[0m\n\u001b[1;32m      5\u001b[0m \u001b[0;34m\u001b[0m\u001b[0m\n",
      "\u001b[0;32m/cvmfs/sft.cern.ch/lcg/views/LCG_94python3/x86_64-slc6-gcc8-opt/lib/python3.6/site-packages/sklearn/preprocessing/data.py\u001b[0m in \u001b[0;36mtransform\u001b[0;34m(self, X, y, copy)\u001b[0m\n\u001b[1;32m    690\u001b[0m         \u001b[0;32melse\u001b[0m\u001b[0;34m:\u001b[0m\u001b[0;34m\u001b[0m\u001b[0m\n\u001b[1;32m    691\u001b[0m             \u001b[0;32mif\u001b[0m \u001b[0mself\u001b[0m\u001b[0;34m.\u001b[0m\u001b[0mwith_mean\u001b[0m\u001b[0;34m:\u001b[0m\u001b[0;34m\u001b[0m\u001b[0m\n\u001b[0;32m--> 692\u001b[0;31m                 \u001b[0mX\u001b[0m \u001b[0;34m-=\u001b[0m \u001b[0mself\u001b[0m\u001b[0;34m.\u001b[0m\u001b[0mmean_\u001b[0m\u001b[0;34m\u001b[0m\u001b[0m\n\u001b[0m\u001b[1;32m    693\u001b[0m             \u001b[0;32mif\u001b[0m \u001b[0mself\u001b[0m\u001b[0;34m.\u001b[0m\u001b[0mwith_std\u001b[0m\u001b[0;34m:\u001b[0m\u001b[0;34m\u001b[0m\u001b[0m\n\u001b[1;32m    694\u001b[0m                 \u001b[0mX\u001b[0m \u001b[0;34m/=\u001b[0m \u001b[0mself\u001b[0m\u001b[0;34m.\u001b[0m\u001b[0mscale_\u001b[0m\u001b[0;34m\u001b[0m\u001b[0m\n",
      "\u001b[0;31mValueError\u001b[0m: operands could not be broadcast together with shapes (716918,21) (19,) (716918,21) "
     ]
    }
   ],
   "source": [
    "X_train_check_scaled = classStd1.transform(X_train_check)\n",
    "X_test_check_scaled = classStd1.transform(X_test_check)\n",
    "X_run_check_scaled = classStd1.transform(X_run_check)\n",
    "allData_c = classStd1.transform(allData_c)\n",
    "\n",
    "sig_test_check = classStd1.transform(sig_test_check)\n",
    "sig_train_check = classStd1.transform(sig_train_check)\n",
    "sig_run_check = classStd1.transform(sig_run_check)\n",
    "sig_all_check = classStd1.transform(sig_all_check)"
   ]
  },
  {
   "cell_type": "code",
   "execution_count": null,
   "metadata": {},
   "outputs": [],
   "source": [
    "np.unique(X_run_check_scaled[:,20],return_counts=True)"
   ]
  },
  {
   "cell_type": "code",
   "execution_count": 49,
   "metadata": {},
   "outputs": [
    {
     "name": "stdout",
     "output_type": "stream",
     "text": [
      "(48610, 21)\n",
      "(48610, 21)\n"
     ]
    }
   ],
   "source": [
    "sig_scaled_test_check = X_test_check_scaled[X_test_check[:, 20] > 0]\n",
    "sig_scaled_train_check = X_train_check_scaled[X_train_check[:, 20] >0]\n",
    "sig_scaled_run_check = X_run_check_scaled[X_run_check[:, 20] > 0]\n",
    "sig_scaled_all_check = allData_c[allData_c[:, 20] > 0]\n",
    "print(np.shape(sig_scaled_all_check))\n",
    "print(np.shape(sig_all_check))"
   ]
  },
  {
   "cell_type": "code",
   "execution_count": 60,
   "metadata": {},
   "outputs": [
    {
     "data": {
      "text/plain": [
       "<matplotlib.legend.Legend at 0x7f171ce9d4e0>"
      ]
     },
     "execution_count": 60,
     "metadata": {},
     "output_type": "execute_result"
    },
    {
     "data": {
      "image/png": "[encoded data removed]",
      "text/plain": [
       "<Figure size 864x432 with 1 Axes>"
      ]
     },
     "metadata": {},
     "output_type": "display_data"
    }
   ],
   "source": [
    "var = 3\n",
    "plt.figure(figsize=(12,6))\n",
    "plt.hist(sig_scaled_all_check[:,var], color=[\"g\"], histtype='step', label='Signal, scaled all data', **hist_params)\n",
    "plt.hist(sig_all_check[:,var], color=[\"r\"], histtype='step', label='Signal, scaled only signal', **hist_params)\n",
    "plt.legend(loc='best')"
   ]
  },
  {
   "cell_type": "code",
   "execution_count": 210,
   "metadata": {},
   "outputs": [
    {
     "name": "stdout",
     "output_type": "stream",
     "text": [
      "[0. 0. 0. ... 0. 0. 0.]\n"
     ]
    }
   ],
   "source": [
    "np.shape(X_test_check)\n",
    "print(X_test_check[:,20])"
   ]
  },
  {
   "cell_type": "code",
   "execution_count": 193,
   "metadata": {},
   "outputs": [
    {
     "data": {
      "text/plain": [
       "(array([0., 1.]), array([577976,  19456]))"
      ]
     },
     "execution_count": 193,
     "metadata": {},
     "output_type": "execute_result"
    }
   ],
   "source": [
    "#check that sig and bkg are in array\n",
    "np.unique(X_run_check[:,20],return_counts=True)"
   ]
  },
  {
   "cell_type": "code",
   "execution_count": 16,
   "metadata": {},
   "outputs": [
    {
     "name": "stdout",
     "output_type": "stream",
     "text": [
      "(array([0, 1]), array([693653,  23265]))\n",
      "(array([0, 1]), array([173354,   5876]))\n",
      "(array([0, 1]), array([577963,  19469]))\n"
     ]
    }
   ],
   "source": [
    "print(np.unique(yTypeTrain,return_counts=True))\n",
    "print(np.unique(yTypeTest,return_counts=True))\n",
    "print(np.unique(yTypeRun,return_counts=True))"
   ]
  },
  {
   "cell_type": "code",
   "execution_count": 219,
   "metadata": {},
   "outputs": [
    {
     "name": "stdout",
     "output_type": "stream",
     "text": [
      "[[ 96.1986328    0.           0.         ...   0.           2.05718988\n",
      "    1.        ]\n",
      " [ 14.13265549   0.           0.         ...   0.           2.05718988\n",
      "    1.        ]\n",
      " [218.65624947   0.           0.         ...   0.           2.05718988\n",
      "    1.        ]\n",
      " ...\n",
      " [214.55886977   0.           0.         ...   0.           2.05718988\n",
      "    1.        ]\n",
      " [122.92881514   0.           0.         ...   1.           2.05718988\n",
      "    1.        ]\n",
      " [112.56722436   0.           0.         ...   1.           2.05718988\n",
      "    1.        ]]\n",
      "[[ 89.19975488   0.           0.         ...   0.           2.05718988\n",
      "    1.        ]\n",
      " [ 86.63487035   0.           0.         ...   0.           2.05718988\n",
      "    1.        ]\n",
      " [216.53259959   0.           0.         ...   0.           2.05718988\n",
      "    1.        ]\n",
      " ...\n",
      " [148.26342555   0.           0.         ...   0.           2.05718988\n",
      "    1.        ]\n",
      " [383.23189485   0.           0.         ...   0.           2.05718988\n",
      "    1.        ]\n",
      " [ 66.59147316   0.           0.         ...   1.           2.05718988\n",
      "    1.        ]]\n",
      "[[ 86.62562357   0.           0.         ...   1.           2.05718988\n",
      "    1.        ]\n",
      " [ 37.51593124   0.           0.         ...   1.           2.05718988\n",
      "    1.        ]\n",
      " [235.79320306   0.           0.         ...   0.           2.05718988\n",
      "    1.        ]\n",
      " ...\n",
      " [ 34.33434824   0.           0.         ...   1.           2.05718988\n",
      "    1.        ]\n",
      " [ 37.95695794   0.           0.         ...   0.           2.05718988\n",
      "    1.        ]\n",
      " [164.28638667   0.           0.         ...   1.           2.05718988\n",
      "    1.        ]]\n",
      "[[166.80527902   0.           0.         ...   1.           2.05718988\n",
      "    1.        ]\n",
      " [ 71.69781224   0.           0.         ...   0.           2.05718988\n",
      "    1.        ]\n",
      " [280.63105692   0.           0.         ...   0.           2.05718988\n",
      "    1.        ]\n",
      " ...\n",
      " [254.39573068   0.           0.         ...   1.           2.05718988\n",
      "    1.        ]\n",
      " [193.03496941   0.           0.         ...   0.           2.05718988\n",
      "    1.        ]\n",
      " [ 52.49891334   0.           0.         ...   1.           2.05718988\n",
      "    1.        ]]\n"
     ]
    }
   ],
   "source": [
    "allData_c = allData.copy()\n",
    "allData_c = allData_c.values\n",
    "sig_test_check = X_test_check[X_test_check[:, 20] == 1]\n",
    "sig_train_check = X_train_check[X_train_check[:, 20] == 1]\n",
    "sig_run_check = X_run_check[X_run_check[:, 20] == 1]\n",
    "sig_all_check = allData_c[allData_c[:, 20] == 1]\n",
    "print(sig_test_check)\n",
    "print(sig_train_check)\n",
    "print(sig_run_check)\n",
    "print(sig_all_check)\n"
   ]
  },
  {
   "cell_type": "code",
   "execution_count": 222,
   "metadata": {},
   "outputs": [
    {
     "data": {
      "text/plain": [
       "<matplotlib.legend.Legend at 0x7f65a2f3a940>"
      ]
     },
     "execution_count": 222,
     "metadata": {},
     "output_type": "execute_result"
    },
    {
     "data": {
      "image/png": "[encoded data removed]",
      "text/plain": [
       "<Figure size 864x432 with 1 Axes>"
      ]
     },
     "metadata": {},
     "output_type": "display_data"
    }
   ],
   "source": [
    "var = 3\n",
    "plt.figure(figsize=(12,6))\n",
    "plt.hist(sig_all_check[:,var], color=[\"g\"], histtype='step', label='all data', **hist_params)\n",
    "plt.hist(sig_run_check[:,var], color=[\"r\"], histtype='step', label='run data', **hist_params)\n",
    "plt.hist(sig_train_check[:,var], color=[\"b\"], histtype='step', label='train data', **hist_params)\n",
    "plt.legend(loc='best')"
   ]
  },
  {
   "cell_type": "code",
   "execution_count": 223,
   "metadata": {},
   "outputs": [
    {
     "data": {
      "text/plain": [
       "<matplotlib.legend.Legend at 0x7f65a2f24b00>"
      ]
     },
     "execution_count": 223,
     "metadata": {},
     "output_type": "execute_result"
    },
    {
     "data": {
      "image/png": "[encoded data removed]",
      "text/plain": [
       "<Figure size 864x432 with 1 Axes>"
      ]
     },
     "metadata": {},
     "output_type": "display_data"
    }
   ],
   "source": [
    "sig_test_check = classStd1.fit_transform(sig_test_check)\n",
    "sig_train_check = classStd1.fit_transform(sig_train_check)\n",
    "sig_run_check = classStd1.fit_transform(sig_run_check)\n",
    "sig_all_check = classStd1.fit_transform(sig_all_check)\n",
    "plt.figure(figsize=(12,6))\n",
    "plt.hist(sig_all_check[:,var], color=[\"g\"], histtype='step', label='all data', **hist_params)\n",
    "plt.hist(sig_run_check[:,var], color=[\"r\"], histtype='step', label='run data', **hist_params)\n",
    "plt.hist(sig_train_check[:,var], color=[\"b\"], histtype='step', label='train data', **hist_params)\n",
    "plt.legend(loc='best')"
   ]
  },
  {
   "cell_type": "code",
   "execution_count": 18,
   "metadata": {},
   "outputs": [
    {
     "data": {
      "text/plain": [
       "48610"
      ]
     },
     "execution_count": 18,
     "metadata": {},
     "output_type": "execute_result"
    }
   ],
   "source": [
    "len(signalData)"
   ]
  },
  {
   "cell_type": "code",
   "execution_count": 19,
   "metadata": {},
   "outputs": [
    {
     "data": {
      "text/plain": [
       "1493580"
      ]
     },
     "execution_count": 19,
     "metadata": {},
     "output_type": "execute_result"
    }
   ],
   "source": [
    "len(allData)"
   ]
  },
  {
   "cell_type": "code",
   "execution_count": 20,
   "metadata": {},
   "outputs": [
    {
     "name": "stdout",
     "output_type": "stream",
     "text": [
      "161.2232244582874\n"
     ]
    }
   ],
   "source": [
    "# Set all event weights to 1 by default\n",
    "signalData.loc[:, 'mc_sf'] = 1.\n",
    "# Apply manual event weighting: numbers that give \"reasonable behavior\"\n",
    "signalData.loc[signalData.target == 0, 'mc_sf'] = signal_weight[analysis] # signal\n",
    "\n",
    "sig_only_target = signalData.pop(\"target\")\n",
    "sig_only_mc_sf = signalData.pop(\"mc_sf\")\n",
    "\n",
    "sig_only_mc_sf = sig_only_mc_sf.values\n",
    "sig_only_target = sig_only_target.values\n",
    "\n",
    "allSigData = signalData.values\n",
    "og_mean = statistics.mean(allSigData[:,0])\n",
    "print(og_mean)"
   ]
  },
  {
   "cell_type": "code",
   "execution_count": 195,
   "metadata": {},
   "outputs": [
    {
     "data": {
      "text/plain": [
       "<matplotlib.legend.Legend at 0x7f65cd626908>"
      ]
     },
     "execution_count": 195,
     "metadata": {},
     "output_type": "execute_result"
    },
    {
     "data": {
      "image/png": "[encoded data removed]",
      "text/plain": [
       "<Figure size 864x432 with 1 Axes>"
      ]
     },
     "metadata": {},
     "output_type": "display_data"
    }
   ],
   "source": [
    "allSigData_scaled = classStd1.fit_transform(allSigData)\n",
    "scaled_mean = statistics.mean(allSigData_scaled[:,0])\n",
    "#print(allSigData)\n",
    "#print(allSigData_scaled)\n",
    "var = 3\n",
    "plt.figure(figsize=(12,6))\n",
    "plt.hist(allSigData_scaled[:,var], color=[\"r\"], histtype='step', label='allSig', **hist_params)\n",
    "plt.hist(isSignal[:,var], color=[\"b\"], histtype='step', label='runSignal', **hist_params)\n",
    "plt.legend(loc='best')"
   ]
  },
  {
   "cell_type": "code",
   "execution_count": 138,
   "metadata": {},
   "outputs": [
    {
     "name": "stdout",
     "output_type": "stream",
     "text": [
      "[ 1.30959713 -0.76359361  1.30959713 ...  1.30959713  1.30959713\n",
      " -0.76359361]\n",
      "[ 1.05330091 -0.94939631  1.05330091 ... -0.94939631 -0.94939631\n",
      "  1.05330091]\n"
     ]
    }
   ],
   "source": [
    "print(isSignal[:,var])\n",
    "print(allSigData_scaled[:,var])"
   ]
  },
  {
   "cell_type": "markdown",
   "metadata": {},
   "source": [
    "### np.shape(X_run_clone[:,0])"
   ]
  },
  {
   "cell_type": "code",
   "execution_count": 97,
   "metadata": {},
   "outputs": [
    {
     "name": "stdout",
     "output_type": "stream",
     "text": [
      "[[332.1892441    0.           0.         ...   0.           0.\n",
      "    1.        ]\n",
      " [136.7990019    0.           0.         ...   0.           1.\n",
      "    0.        ]\n",
      " [366.83894541   0.           0.         ...   1.           1.\n",
      "    0.        ]\n",
      " ...\n",
      " [464.59895456   0.           0.         ...   0.           1.\n",
      "    0.        ]\n",
      " [ 12.33005872   0.           0.         ...   0.           1.\n",
      "    0.        ]\n",
      " [108.31320696   0.           0.         ...   1.           1.\n",
      "    0.        ]]\n"
     ]
    },
    {
     "data": {
      "text/plain": [
       "(array([1.26484290e-03, 3.07430426e-03, 3.74035954e-03, 3.80868274e-03,\n",
       "        3.63202120e-03, 3.22232188e-03, 2.60914032e-03, 1.94932241e-03,\n",
       "        1.38340093e-03, 9.84353122e-04, 7.26989594e-04, 5.59444210e-04,\n",
       "        4.39638704e-04, 3.47325612e-04, 2.85911496e-04, 2.00603451e-04,\n",
       "        1.32472167e-04, 8.93863261e-05, 6.12221965e-05, 3.60328132e-05,\n",
       "        2.37979698e-05, 1.72727200e-05, 1.39141356e-05, 1.14671669e-05,\n",
       "        9.26009712e-06, 8.06060268e-06, 7.48484534e-06, 6.14141156e-06,\n",
       "        5.90151267e-06, 4.46211934e-06, 3.11868556e-06, 1.91919111e-06,\n",
       "        9.59595557e-07, 7.67676445e-07, 7.67676445e-07, 5.75757334e-07,\n",
       "        2.87878667e-07, 2.39898889e-07, 1.43939333e-07, 4.79797778e-08,\n",
       "        0.00000000e+00, 4.79797778e-08, 4.79797778e-08, 0.00000000e+00,\n",
       "        9.59595557e-08, 0.00000000e+00, 0.00000000e+00, 0.00000000e+00,\n",
       "        4.79797778e-08, 4.79797778e-08]),\n",
       " array([5.00662959e-02, 3.49362358e+01, 6.98224053e+01, 1.04708575e+02,\n",
       "        1.39594744e+02, 1.74480914e+02, 2.09367083e+02, 2.44253253e+02,\n",
       "        2.79139422e+02, 3.14025592e+02, 3.48911761e+02, 3.83797931e+02,\n",
       "        4.18684100e+02, 4.53570270e+02, 4.88456439e+02, 5.23342609e+02,\n",
       "        5.58228778e+02, 5.93114948e+02, 6.28001117e+02, 6.62887287e+02,\n",
       "        6.97773456e+02, 7.32659626e+02, 7.67545795e+02, 8.02431965e+02,\n",
       "        8.37318134e+02, 8.72204304e+02, 9.07090473e+02, 9.41976643e+02,\n",
       "        9.76862812e+02, 1.01174898e+03, 1.04663515e+03, 1.08152132e+03,\n",
       "        1.11640749e+03, 1.15129366e+03, 1.18617983e+03, 1.22106600e+03,\n",
       "        1.25595217e+03, 1.29083834e+03, 1.32572451e+03, 1.36061068e+03,\n",
       "        1.39549685e+03, 1.43038302e+03, 1.46526919e+03, 1.50015535e+03,\n",
       "        1.53504152e+03, 1.56992769e+03, 1.60481386e+03, 1.63970003e+03,\n",
       "        1.67458620e+03, 1.70947237e+03, 1.74435854e+03]),\n",
       " <a list of 1 Patch objects>)"
      ]
     },
     "execution_count": 97,
     "metadata": {},
     "output_type": "execute_result"
    },
    {
     "data": {
      "image/png": "[encoded data removed]",
      "text/plain": [
       "<Figure size 864x432 with 1 Axes>"
      ]
     },
     "metadata": {},
     "output_type": "display_data"
    }
   ],
   "source": [
    "print(X_run_clone)\n",
    "plt.figure(figsize=(12,6))\n",
    "plt.hist(X_run_clone[:,0], color=[\"r\"], histtype='step', label='Signal', **hist_params)"
   ]
  },
  {
   "cell_type": "code",
   "execution_count": 20,
   "metadata": {},
   "outputs": [],
   "source": [
    "# Construct the NN architecture\n",
    "model = Sequential()\n",
    "model.add(Dense(100, activation=\"relu\", input_dim= nFeatures))#input_dim should be as long as the branchList given to the NN\n",
    "#model.add(Dropout(dropoutFraction))\n",
    "model.add(Dense(100, activation=\"relu\"))\n",
    "model.add(Dense(1, activation=\"sigmoid\")) # output nodes\n",
    "\n",
    "model.compile(\n",
    "        loss='binary_crossentropy',  # we train 10-way classification\n",
    "        #optimizer=keras.optimizers.adamax(lr=init_lr[analysis]),  # for SGD\n",
    "        #optimizer=keras.optimizers.adamax(lr=50000),  # for SGD\n",
    "        optimizer='sgd',\n",
    "        metrics=['acc']  # report accuracy during training\n",
    "        )"
   ]
  },
  {
   "cell_type": "code",
   "execution_count": 21,
   "metadata": {},
   "outputs": [
    {
     "name": "stdout",
     "output_type": "stream",
     "text": [
      "Train on 716918 samples, validate on 179230 samples\n",
      "Epoch 1/5\n",
      "716918/716918 [==============================] - 18s 26us/step - loss: 0.0842 - acc: 0.6450 - val_loss: 0.6068 - val_acc: 0.6909\n",
      "Epoch 2/5\n",
      "716918/716918 [==============================] - 18s 25us/step - loss: 0.0799 - acc: 0.7005 - val_loss: 0.5820 - val_acc: 0.7046\n",
      "Epoch 3/5\n",
      "716918/716918 [==============================] - 18s 25us/step - loss: 0.0787 - acc: 0.7004 - val_loss: 0.5834 - val_acc: 0.6988\n",
      "Epoch 4/5\n",
      "716918/716918 [==============================] - 18s 25us/step - loss: 0.0779 - acc: 0.7008 - val_loss: 0.5668 - val_acc: 0.7099\n",
      "Epoch 5/5\n",
      "716918/716918 [==============================] - 18s 25us/step - loss: 0.0772 - acc: 0.7025 - val_loss: 0.5859 - val_acc: 0.6917\n"
     ]
    },
    {
     "name": "stderr",
     "output_type": "stream",
     "text": [
      "2019-07-08 11:55:13.943499: I tensorflow/core/platform/cpu_feature_guard.cc:140] Your CPU supports instructions that this TensorFlow binary was not compiled to use: SSE4.1 SSE4.2 AVX\n"
     ]
    }
   ],
   "source": [
    "# Train the NN\n",
    "history = model.fit(X_train, yTypeTrain, validation_data=(X_test, yTypeTest), epochs=numEpochs, batch_size=batchSize, sample_weight=evtWeightsTrain,shuffle=True)\n",
    "# no need to save model for now \n",
    "model.save(\"testingAppend_binary.h5\")"
   ]
  },
  {
   "cell_type": "code",
   "execution_count": 22,
   "metadata": {},
   "outputs": [],
   "source": [
    "# Run training sample back through the NN\n",
    "probTrain = model.predict(X_train)\n",
    "probTest = model.predict(X_test)"
   ]
  },
  {
   "cell_type": "code",
   "execution_count": 23,
   "metadata": {},
   "outputs": [
    {
     "name": "stdout",
     "output_type": "stream",
     "text": [
      "(array([6.9371644e-08, 1.0221024e-06, 1.1932505e-06, ..., 9.7140580e-01,\n",
      "       9.7282332e-01, 9.7762930e-01], dtype=float32), array([1, 1, 1, ..., 1, 1, 1]))\n"
     ]
    },
    {
     "data": {
      "text/plain": [
       "716918"
      ]
     },
     "execution_count": 23,
     "metadata": {},
     "output_type": "execute_result"
    }
   ],
   "source": [
    "print(np.unique(probTrain,return_counts=True))\n",
    "len(probTrain)"
   ]
  },
  {
   "cell_type": "code",
   "execution_count": 24,
   "metadata": {},
   "outputs": [
    {
     "data": {
      "text/plain": [
       "array([0.84829813, 0.29075667, 0.66649294, ..., 0.6493206 , 0.2973578 ,\n",
       "       0.21009514], dtype=float32)"
      ]
     },
     "execution_count": 24,
     "metadata": {},
     "output_type": "execute_result"
    }
   ],
   "source": [
    "#from sklearn.metrics import confusion_matrix\n",
    "#cm = confusion_matrix(y_test, y_pred)\n",
    "#print(cm)\n",
    "probTrain[:,0]"
   ]
  },
  {
   "cell_type": "code",
   "execution_count": 25,
   "metadata": {},
   "outputs": [],
   "source": [
    "# Construct discriminant\n",
    "#scores_train = np.log(probTrain[:,0]/(probTrain[:,1]+probTrain[:,2]))\n",
    "#scores_test = np.log(probTest[:,0]/(probTest[:,1]+probTest[:,2]))\n",
    "\n",
    "# Format data for convenience\n",
    "trainData = pandas.DataFrame(X_train)\n",
    "trainData['score'] = pandas.Series(probTrain[:,0], index=trainData.index)\n",
    "trainData['weight'] = pandas.Series(evtWeightsTrain, index=trainData.index)\n",
    "trainData['process'] = pandas.Series(yTypeTrain, index=trainData.index)\n"
   ]
  },
  {
   "cell_type": "code",
   "execution_count": 26,
   "metadata": {},
   "outputs": [],
   "source": [
    "testData = pandas.DataFrame(X_test)\n",
    "testData['score'] = pandas.Series(probTest[:,0], index=testData.index)\n",
    "testData['weight'] = pandas.Series(evtWeightsVal, index=testData.index)\n",
    "testData['process'] = pandas.Series(yTypeTest, index=testData.index)"
   ]
  },
  {
   "cell_type": "code",
   "execution_count": 27,
   "metadata": {},
   "outputs": [
    {
     "data": {
      "text/plain": [
       "Text(0,0.5,'1/N dN/d(NN Score)')"
      ]
     },
     "execution_count": 27,
     "metadata": {},
     "output_type": "execute_result"
    },
    {
     "data": {
      "image/png": "[encoded data removed]",
      "text/plain": [
       "<Figure size 864x432 with 1 Axes>"
      ]
     },
     "metadata": {},
     "output_type": "display_data"
    }
   ],
   "source": [
    "# Plot distributions of signal score on validation data\n",
    "hist_params = {'density': True, 'bins': 50, 'linewidth': 2}\n",
    "min_value = 0\n",
    "max_value = 1\n",
    "plt.figure(figsize=(12,6))\n",
    "plt.hist(trainData[trainData.process == 0]['score'], color=[\"r\"], weights=trainData[trainData.process == 0]['weight'], range=(min_value, max_value), histtype='step', label='Background', **hist_params)\n",
    "plt.hist(trainData[trainData.process == 1]['score'], color=[\"b\"], weights=trainData[trainData.process == 1]['weight'], range=(min_value, max_value), histtype='step', label='Signal', **hist_params)\n",
    "plt.hist(testData[testData.process == 0]['score'], color=[\"r\"], linestyle = \"dotted\", weights=testData[testData.process == 0]['weight'], range=(min_value, max_value), histtype='step', label='Background', **hist_params)\n",
    "plt.hist(testData[testData.process == 1]['score'], color=[\"b\"], linestyle = \"dotted\", weights=testData[testData.process == 1]['weight'], range=(min_value, max_value), histtype='step', label='Signal', **hist_params)\n",
    "plt.legend(loc='best')\n",
    "plt.xlabel(\"NN score\",fontsize=20)\n",
    "plt.ylabel(\"1/N dN/d(NN Score)\",fontsize=20)\n",
    "#plt.yscale('log')\n"
   ]
  },
  {
   "cell_type": "code",
   "execution_count": 28,
   "metadata": {
    "scrolled": true
   },
   "outputs": [],
   "source": [
    "signalAppendData = pandas.DataFrame(datAppend_sig)\n"
   ]
  },
  {
   "cell_type": "code",
   "execution_count": 29,
   "metadata": {},
   "outputs": [
    {
     "name": "stdout",
     "output_type": "stream",
     "text": [
      "(array([0, 1]), array([577933,  19499]))\n"
     ]
    }
   ],
   "source": [
    "print(np.unique(yTypeRun,return_counts=True))"
   ]
  },
  {
   "cell_type": "code",
   "execution_count": 30,
   "metadata": {},
   "outputs": [],
   "source": [
    "##append_mc_sf = signalAppendData.pop(\"mc_sf\")\n",
    "#append_mc_sf = X_run.pop(\"mc_sf\")\n",
    "#append_mc_sf = append_mc_sf.values\n",
    "## Convert pandas dataframes into numpy arrays\n",
    "## signalAppendData = signalAppendData.values\n",
    "#X_run = X_run.values"
   ]
  },
  {
   "cell_type": "code",
   "execution_count": 31,
   "metadata": {},
   "outputs": [],
   "source": [
    "X_run_clone = X_run\n",
    "appendData_clone = pandas.DataFrame(X_run_clone)\n",
    "\n",
    "X_run = classStd1.transform(X_run)\n"
   ]
  },
  {
   "cell_type": "code",
   "execution_count": 32,
   "metadata": {},
   "outputs": [],
   "source": [
    "# Run training sample back through the NN\n",
    "probAppend = model.predict(X_run)"
   ]
  },
  {
   "cell_type": "code",
   "execution_count": 33,
   "metadata": {},
   "outputs": [],
   "source": [
    "# Format data for convenience\n",
    "appendData = pandas.DataFrame(X_run)\n",
    "appendData['score'] = pandas.Series(probAppend[:,0], index=appendData.index)\n",
    "appendData['weight'] = pandas.Series(evtWeightsRun, index=appendData.index)\n",
    "appendData['process'] = pandas.Series(yTypeRun, index=appendData.index)\n"
   ]
  },
  {
   "cell_type": "code",
   "execution_count": 34,
   "metadata": {},
   "outputs": [
    {
     "name": "stdout",
     "output_type": "stream",
     "text": [
      "(array([0, 1]), array([577933,  19499]))\n",
      "               0         1       2         3         4         5         6  \\\n",
      "0      -0.468722 -0.079556 -0.0698  0.837375 -0.083065 -0.423006  0.435801   \n",
      "10     -1.004664 -0.079556 -0.0698 -0.312927 -0.827956  1.338209 -1.456115   \n",
      "85      0.049898 -0.079556 -0.0698  0.731595 -0.288225 -1.187272  0.299506   \n",
      "112    -0.494964 -0.079556 -0.0698  0.922055 -0.474701  1.216668  0.285517   \n",
      "119    -0.002707 -0.079556 -0.0698 -0.154285 -0.306803 -0.021776 -1.732512   \n",
      "146    -0.667866 -0.079556 -0.0698  0.575098 -0.113824  1.959130 -1.571635   \n",
      "166     0.456205 -0.079556 -0.0698  0.069738 -0.300608  1.344799 -1.578877   \n",
      "194    -0.589144 -0.079556 -0.0698  0.674597 -0.767308 -1.258563  0.796878   \n",
      "225    -0.716603 -0.079556 -0.0698  3.664962  1.465464  0.439212  0.176800   \n",
      "227     0.008754 -0.079556 -0.0698  4.027929  0.586462 -1.258953  0.801504   \n",
      "241     0.280139 -0.079556 -0.0698  1.030801 -0.203300 -0.626265  1.223461   \n",
      "274     0.063807 -0.079556 -0.0698  1.041094 -0.458835 -0.039133 -0.586506   \n",
      "302     0.017651 -0.079556 -0.0698  1.029460 -0.077221  0.404288  0.964950   \n",
      "317    -1.177370 -0.079556 -0.0698 -1.278230 -0.839845 -1.102345 -0.262257   \n",
      "340    -0.175136 -0.079556 -0.0698  0.173649  0.283786 -0.364418 -1.460757   \n",
      "482     1.894197 -0.079556 -0.0698  0.579038 -0.077072  1.717006 -0.461061   \n",
      "497     0.665931 -0.079556 -0.0698  0.104828  0.870329 -1.670424 -1.387346   \n",
      "505     2.061709 -0.079556 -0.0698  1.025879  0.819048  1.404798 -0.551895   \n",
      "519    -0.959565 -0.079556 -0.0698  0.981477 -0.269576 -0.031510 -0.463613   \n",
      "538    -0.712052 -0.079556 -0.0698 -0.602325 -0.341675  1.657332  0.729973   \n",
      "563     0.883318 -0.079556 -0.0698  0.751563 -0.559151 -1.071359  0.889178   \n",
      "571    -0.334533 -0.079556 -0.0698 -0.551989 -0.728051  0.742198 -0.494572   \n",
      "579    -0.388793 -0.079556 -0.0698  0.157802 -0.576013  1.186711  0.221450   \n",
      "612    -0.075323 -0.079556 -0.0698  0.690456 -0.421501 -0.190700  0.738137   \n",
      "638     0.298552 -0.079556 -0.0698  0.852574 -0.016852 -1.728973 -0.114465   \n",
      "736    -1.003021 -0.079556 -0.0698  1.029642  0.005565  1.265634  0.026892   \n",
      "775    -0.960438 -0.079556 -0.0698 -0.957594  0.100877  1.473562 -0.365357   \n",
      "852    -0.669893 -0.079556 -0.0698  0.570186 -0.039950  1.325963 -0.013462   \n",
      "881    -0.466868 -0.079556 -0.0698  1.113712 -0.481759  0.862278  0.192934   \n",
      "921    -0.145869 -0.079556 -0.0698  0.622211  0.308049 -0.414191 -0.384059   \n",
      "...          ...       ...     ...       ...       ...       ...       ...   \n",
      "596852  0.247294 -0.079556 -0.0698  0.547138 -0.776970  0.010306  0.130132   \n",
      "596854  0.596694 -0.079556 -0.0698 -0.594963  0.041048 -1.636287  0.554405   \n",
      "596858 -0.435772 -0.079556 -0.0698  0.622568 -0.050510  0.112693 -0.360093   \n",
      "596890  0.384541 -0.079556 -0.0698  0.787017 -0.059824  0.730962 -1.490655   \n",
      "596899  0.135217 -0.079556 -0.0698  2.064166  0.243568 -1.435187 -1.148843   \n",
      "596908  0.837692 -0.079556 -0.0698  0.839030 -0.070425 -1.838902 -1.520136   \n",
      "596937 -0.419676 -0.079556 -0.0698 -0.333938 -0.709844 -0.008169 -0.819923   \n",
      "596941 -0.565358 -0.079556 -0.0698  0.361602  0.590595  1.664953 -1.100848   \n",
      "597028 -0.092762 -0.079556 -0.0698 -0.557485 -0.695389  0.676680 -0.617323   \n",
      "597056  0.914859 -0.079556 -0.0698  0.114746 -0.334540  0.115526  1.217618   \n",
      "597060  0.693181 -0.079556 -0.0698  0.173149  0.145040 -0.292365  0.157348   \n",
      "597064  0.780103 -0.079556 -0.0698 -0.707612 -0.162430 -0.765632 -0.304099   \n",
      "597065 -0.603704 -0.079556 -0.0698  0.900770  0.024835 -0.352377  0.688854   \n",
      "597087  0.484600 -0.079556 -0.0698  0.203105 -0.686182  1.355047 -0.903688   \n",
      "597094 -1.347064 -0.079556 -0.0698  0.713579 -0.779660 -1.338122 -0.018119   \n",
      "597099 -0.644223 -0.079556 -0.0698  0.774416 -0.736364  1.729861  0.069884   \n",
      "597102 -0.458456 -0.079556 -0.0698  0.303673 -0.733787  0.085292 -1.211785   \n",
      "597138 -0.284797 -0.079556 -0.0698 -1.040994 -0.547107  0.570045  1.065680   \n",
      "597140  0.963788 -0.079556 -0.0698  0.859476 -0.017689  1.897760 -0.887980   \n",
      "597143  0.794259 -0.079556 -0.0698  0.606358 -0.129778  1.223551 -0.979516   \n",
      "597149  0.135591 -0.079556 -0.0698  0.617555 -0.628652 -1.307763  0.207351   \n",
      "597163 -0.070923 -0.079556 -0.0698  0.895699  0.906790  0.068296  1.065851   \n",
      "597194 -0.606320 -0.079556 -0.0698  0.176527 -0.661015 -1.897911  1.580029   \n",
      "597218 -1.220367 -0.079556 -0.0698  0.713477 -0.471044 -1.176132 -0.208224   \n",
      "597270  0.039908 -0.079556 -0.0698  0.012802 -0.725836 -0.175185  1.330299   \n",
      "597272 -0.146591 -0.079556 -0.0698  0.286671 -0.525100  0.536360 -0.649854   \n",
      "597352  0.525009 -0.079556 -0.0698 -0.218037  0.790463  0.913857 -1.441824   \n",
      "597360 -0.631174 -0.079556 -0.0698  0.653453 -0.664503 -0.776933 -1.076930   \n",
      "597400  0.916200 -0.079556 -0.0698 -0.889883 -0.045874 -0.112058 -1.669001   \n",
      "597412 -0.505019 -0.079556 -0.0698  0.942225 -0.373191 -0.049960  0.858337   \n",
      "\n",
      "               7         8         9   ...           12        13        14  \\\n",
      "0       0.557950 -0.488516  0.228892   ...    -0.951235 -0.609709  1.562017   \n",
      "10     -0.994767  1.277539  0.460343   ...     1.322081 -0.616957  0.393674   \n",
      "85     -0.520422 -0.285653 -0.214407   ...    -0.154743 -0.347944 -0.942503   \n",
      "112     0.578098  0.893167 -0.002255   ...     0.875260  0.720929 -1.679947   \n",
      "119     0.052705  0.885705 -0.233805   ...     2.109079 -0.764623 -1.637705   \n",
      "146     0.089097 -0.087950  0.269325   ...    -0.277897 -0.644813 -1.402382   \n",
      "166    -0.826317 -0.333813 -1.264870   ...     0.675925 -0.165390  0.739432   \n",
      "194     0.156867 -0.504958 -0.433636   ...    -0.665270  0.650694 -0.698394   \n",
      "225    -0.350140  9.584910  2.316871   ...     4.252901  0.027956  0.082257   \n",
      "227     1.327941  0.208858  0.637661   ...     0.361065  0.473969 -0.543314   \n",
      "241     0.407003  0.045433 -0.004493   ...     0.297051 -0.463481 -0.735281   \n",
      "274     0.734184 -0.620170 -0.863434   ...    -0.702860  1.068598  1.130198   \n",
      "302     0.496984 -0.633639 -0.476423   ...    -0.936632 -0.798000  1.316288   \n",
      "317     0.927210 -0.591754  0.237826   ...    -1.122836 -0.749395 -0.975097   \n",
      "340    -0.245935 -0.467704  0.360606   ...    -0.952740 -0.471386 -0.505114   \n",
      "482    -0.349385 -0.166177  0.011221   ...    -0.367366  0.121563 -0.659486   \n",
      "497     1.104326  0.342079  0.711933   ...     0.012365 -0.787107 -0.719051   \n",
      "505    -0.282099  0.479638 -0.397296   ...     1.374724  6.442532  1.007514   \n",
      "519     0.395395  0.383867  1.213718   ...    -0.262306 -0.572613 -0.705961   \n",
      "538     0.221129 -0.368342  0.271940   ...    -0.737216 -0.255543 -0.900470   \n",
      "563     0.606972 -0.272771 -0.331428   ...    -0.118855  0.271997 -1.204418   \n",
      "571     0.288135 -0.611559 -0.807847   ...    -0.651178 -0.466025  1.545889   \n",
      "579    -0.461737 -0.494572 -0.255774   ...    -0.664985 -0.518542 -1.222307   \n",
      "612     0.194410 -0.391517 -0.746702   ...    -0.184154  0.250097 -1.102356   \n",
      "638     1.072816  0.377095  2.041433   ...    -0.518306 -0.664473  1.011712   \n",
      "736    -0.434916  1.576631  0.782937   ...     0.929048  0.145083 -1.408390   \n",
      "775    -0.075574  0.462533  0.868301   ...     0.005212  0.365877  1.205188   \n",
      "852     0.052200 -0.476022  0.321602   ...    -1.070950  0.161307  1.346901   \n",
      "881    -0.245131  0.019150 -0.347954   ...     1.036325 -0.233661  0.364140   \n",
      "921     0.038744 -0.486282  0.099293   ...    -0.954200 -0.474189  1.225760   \n",
      "...          ...       ...       ...   ...          ...       ...       ...   \n",
      "596852  0.313323 -0.618673 -0.017818   ...    -1.138149 -0.286871 -0.333415   \n",
      "596854  0.431897 -0.608726 -0.441595   ...    -0.885228 -0.539900  0.633581   \n",
      "596858  0.400818 -0.476958  0.159621   ...    -0.876486 -0.661635 -1.349804   \n",
      "596890  0.404711  0.410923  0.341091   ...     0.438227 -0.872859 -0.232790   \n",
      "596899  1.347940  0.171705 -0.299175   ...     0.872647 -0.855830 -0.018747   \n",
      "596908  0.642516 -0.156198 -1.431326   ...     1.767848  0.008413  0.272472   \n",
      "596937 -0.138701 -0.676798 -0.692132   ...    -1.034598 -0.621688 -0.335310   \n",
      "596941 -0.928649  0.120221  1.278493   ...    -0.397141 -0.348766 -0.848886   \n",
      "597028  0.368175 -0.483407 -0.084306   ...    -0.720993 -0.326027  1.410086   \n",
      "597056 -0.029549 -0.382382 -0.457623   ...    -0.396132 -0.248585 -1.640984   \n",
      "597060 -0.183163  0.362623 -1.103975   ...     2.109733  0.827502  0.175126   \n",
      "597064 -1.265878 -0.262671 -1.218535   ...     0.665973  1.034215  1.562449   \n",
      "597065  0.572192 -0.437279  0.318376   ...    -1.005361 -0.369073 -1.086839   \n",
      "597087 -0.137629 -0.441458  1.975776   ...    -1.232101 -0.495227  0.502154   \n",
      "597094  0.579327 -0.259303  0.565248   ...    -0.582375 -0.598168 -0.230498   \n",
      "597099  2.264649 -0.347768 -0.350949   ...    -0.445861  0.212261  1.701961   \n",
      "597102  0.142953 -0.392576 -0.531814   ...    -0.331104  1.081682  0.637004   \n",
      "597138  0.079024 -0.659689 -0.225182   ...    -1.234790 -0.313327 -1.088779   \n",
      "597140  0.171356 -0.174254 -1.441794   ...     1.620206  0.884784  0.915436   \n",
      "597143 -0.051881 -0.181481 -1.352377   ...     1.322791 -0.406065  1.666409   \n",
      "597149  1.036425 -0.589101 -0.908282   ...    -0.530427  0.093282 -1.218853   \n",
      "597163 -0.321969  0.058329  0.620803   ...    -0.356244 -0.591953 -0.297848   \n",
      "597194  3.142959  0.967669  0.464355   ...     1.513768 -0.666601 -0.833402   \n",
      "597218  0.306522 -0.109999  0.587284   ...    -0.199648 -0.483764  1.020973   \n",
      "597270 -0.461176 -0.461982 -1.234826   ...     0.505061 -0.718039  1.465195   \n",
      "597272  0.589158 -0.383761 -0.363496   ...    -0.274789  0.704600 -0.640229   \n",
      "597352 -1.185549 -0.499984  0.045121   ...    -0.985302 -0.466367  0.190550   \n",
      "597360  0.082452  0.014243 -0.065353   ...     0.161014 -0.164344 -1.302650   \n",
      "597400  3.226769 -0.629545 -0.562675   ...    -0.929374  0.644617 -0.306269   \n",
      "597412 -0.819967 -0.526351 -0.069520   ...    -0.805930 -0.724902 -1.359599   \n",
      "\n",
      "              15        16        17        18     score   weight  process  \n",
      "0      -0.967557  1.347809 -0.942233 -0.766079  0.693643  2.05719        1  \n",
      "10     -0.967557 -0.741945 -0.942233  1.305348  0.340382  2.05719        1  \n",
      "85     -0.967557 -0.741945  1.061308 -0.766079  0.541401  2.05719        1  \n",
      "112    -0.967557  1.347809  1.061308 -0.766079  0.701418  2.05719        1  \n",
      "119    -0.967557 -0.741945 -0.942233  1.305348  0.422367  2.05719        1  \n",
      "146    -0.967557 -0.741945  1.061308  1.305348  0.688788  2.05719        1  \n",
      "166     1.033531  1.347809 -0.942233 -0.766079  0.298858  2.05719        1  \n",
      "194     1.033531 -0.741945  1.061308 -0.766079  0.633481  2.05719        1  \n",
      "225    -0.967557 -0.741945 -0.942233  1.305348  0.229609  2.05719        1  \n",
      "227     1.033531  1.347809 -0.942233 -0.766079  0.722685  2.05719        1  \n",
      "241    -0.967557  1.347809 -0.942233 -0.766079  0.671977  2.05719        1  \n",
      "274    -0.967557  1.347809  1.061308  1.305348  0.910679  2.05719        1  \n",
      "302    -0.967557  1.347809  1.061308 -0.766079  0.840093  2.05719        1  \n",
      "317    -0.967557  1.347809 -0.942233  1.305348  0.599779  2.05719        1  \n",
      "340     1.033531  1.347809  1.061308  1.305348  0.496096  2.05719        1  \n",
      "482     1.033531  1.347809 -0.942233 -0.766079  0.376177  2.05719        1  \n",
      "497    -0.967557  1.347809 -0.942233 -0.766079  0.584422  2.05719        1  \n",
      "505     1.033531  1.347809  1.061308 -0.766079  0.084094  2.05719        1  \n",
      "519     1.033531 -0.741945 -0.942233 -0.766079  0.501208  2.05719        1  \n",
      "538    -0.967557  1.347809  1.061308 -0.766079  0.436531  2.05719        1  \n",
      "563     1.033531  1.347809  1.061308  1.305348  0.832933  2.05719        1  \n",
      "571     1.033531 -0.741945 -0.942233 -0.766079  0.439722  2.05719        1  \n",
      "579    -0.967557  1.347809 -0.942233 -0.766079  0.523228  2.05719        1  \n",
      "612     1.033531  1.347809  1.061308 -0.766079  0.791245  2.05719        1  \n",
      "638     1.033531 -0.741945 -0.942233 -0.766079  0.456175  2.05719        1  \n",
      "736    -0.967557 -0.741945  1.061308 -0.766079  0.407943  2.05719        1  \n",
      "775    -0.967557 -0.741945 -0.942233 -0.766079  0.221184  2.05719        1  \n",
      "852    -0.967557 -0.741945  1.061308 -0.766079  0.548770  2.05719        1  \n",
      "881    -0.967557 -0.741945 -0.942233  1.305348  0.513320  2.05719        1  \n",
      "921    -0.967557 -0.741945 -0.942233  1.305348  0.543153  2.05719        1  \n",
      "...          ...       ...       ...       ...       ...      ...      ...  \n",
      "596852  1.033531 -0.741945 -0.942233 -0.766079  0.621990  2.05719        1  \n",
      "596854 -0.967557  1.347809 -0.942233 -0.766079  0.515579  2.05719        1  \n",
      "596858 -0.967557 -0.741945 -0.942233 -0.766079  0.458337  2.05719        1  \n",
      "596890  1.033531 -0.741945  1.061308 -0.766079  0.522937  2.05719        1  \n",
      "596899 -0.967557 -0.741945 -0.942233  1.305348  0.457418  2.05719        1  \n",
      "596908  1.033531  1.347809 -0.942233 -0.766079  0.697341  2.05719        1  \n",
      "596937 -0.967557  1.347809 -0.942233 -0.766079  0.476889  2.05719        1  \n",
      "596941  1.033531  1.347809 -0.942233  1.305348  0.305349  2.05719        1  \n",
      "597028 -0.967557 -0.741945  1.061308 -0.766079  0.511064  2.05719        1  \n",
      "597056 -0.967557 -0.741945  1.061308  1.305348  0.707130  2.05719        1  \n",
      "597060  1.033531  1.347809  1.061308 -0.766079  0.323085  2.05719        1  \n",
      "597064  1.033531  1.347809 -0.942233  1.305348  0.216197  2.05719        1  \n",
      "597065 -0.967557  1.347809  1.061308 -0.766079  0.753396  2.05719        1  \n",
      "597087  1.033531  1.347809  1.061308 -0.766079  0.591926  2.05719        1  \n",
      "597094  1.033531 -0.741945  1.061308  1.305348  0.747396  2.05719        1  \n",
      "597099  1.033531 -0.741945  1.061308  1.305348  0.873391  2.05719        1  \n",
      "597102 -0.967557  1.347809 -0.942233  1.305348  0.793386  2.05719        1  \n",
      "597138 -0.967557  1.347809 -0.942233 -0.766079  0.354915  2.05719        1  \n",
      "597140  1.033531 -0.741945  1.061308 -0.766079  0.574383  2.05719        1  \n",
      "597143  1.033531  1.347809 -0.942233 -0.766079  0.535561  2.05719        1  \n",
      "597149  1.033531 -0.741945  1.061308 -0.766079  0.734697  2.05719        1  \n",
      "597163  1.033531 -0.741945  1.061308 -0.766079  0.425116  2.05719        1  \n",
      "597194 -0.967557  1.347809 -0.942233 -0.766079  0.803101  2.05719        1  \n",
      "597218  1.033531 -0.741945 -0.942233 -0.766079  0.581684  2.05719        1  \n",
      "597270 -0.967557 -0.741945 -0.942233  1.305348  0.485355  2.05719        1  \n",
      "597272  1.033531 -0.741945  1.061308 -0.766079  0.712431  2.05719        1  \n",
      "597352 -0.967557 -0.741945  1.061308  1.305348  0.393791  2.05719        1  \n",
      "597360  1.033531  1.347809 -0.942233  1.305348  0.835132  2.05719        1  \n",
      "597400  1.033531 -0.741945 -0.942233 -0.766079  0.630806  2.05719        1  \n",
      "597412  1.033531 -0.741945  1.061308  1.305348  0.662823  2.05719        1  \n",
      "\n",
      "[19499 rows x 22 columns]\n"
     ]
    }
   ],
   "source": [
    "probAppend[:,0]\n",
    "print(np.unique(yTypeRun,return_counts=True))\n",
    "print(appendData[appendData[\"process\"]==1])"
   ]
  },
  {
   "cell_type": "code",
   "execution_count": 35,
   "metadata": {},
   "outputs": [
    {
     "data": {
      "text/plain": [
       "Text(0,0.5,'1/N dN/d(NN Score)')"
      ]
     },
     "execution_count": 35,
     "metadata": {},
     "output_type": "execute_result"
    },
    {
     "data": {
      "image/png": "[encoded data removed]",
      "text/plain": [
       "<Figure size 864x432 with 1 Axes>"
      ]
     },
     "metadata": {},
     "output_type": "display_data"
    }
   ],
   "source": [
    "# Plot distributions of signal score on validation data\n",
    "hist_params = {'density': True, 'bins': 50, 'linewidth': 2}\n",
    "min_value = 0\n",
    "max_value = 1\n",
    "plt.figure(figsize=(12,6))\n",
    "plt.hist(appendData[appendData.process == 0]['score'], color=[\"r\"], weights=appendData[appendData.process == 0]['weight'], range=(min_value, max_value), histtype='step', label='Background', **hist_params)\n",
    "plt.hist(appendData[appendData.process == 1]['score'], color=[\"b\"], weights=appendData[appendData.process == 1]['weight'], range=(min_value, max_value), histtype='step', label='Signal', **hist_params)\n",
    "plt.legend(loc='best')\n",
    "plt.xlabel(\"signal score\",fontsize=20)\n",
    "plt.ylabel(\"1/N dN/d(NN Score)\",fontsize=20)\n",
    "#plt.yscale('log')\n"
   ]
  },
  {
   "cell_type": "code",
   "execution_count": 36,
   "metadata": {},
   "outputs": [
    {
     "data": {
      "text/plain": [
       "Text(0,0.5,'leading higgs candidate mass')"
      ]
     },
     "execution_count": 36,
     "metadata": {},
     "output_type": "execute_result"
    },
    {
     "data": {
      "image/png": "[encoded data removed]",
      "text/plain": [
       "<Figure size 432x432 with 1 Axes>"
      ]
     },
     "metadata": {},
     "output_type": "display_data"
    }
   ],
   "source": [
    "plt.figure(figsize=(6,6))\n",
    "plt.hist2d(appendData[appendData.process == 0]['score'],appendData[appendData.process == 0][4],bins=(50,50),cmap=plt.cm.jet)\n",
    "plt.xlabel(\"signal score\",fontsize=20)\n",
    "plt.ylabel(\"leading higgs candidate mass\",fontsize=20)"
   ]
  },
  {
   "cell_type": "code",
   "execution_count": 37,
   "metadata": {},
   "outputs": [
    {
     "data": {
      "text/plain": [
       "Text(0,0.5,'leading higgs candidate mass')"
      ]
     },
     "execution_count": 37,
     "metadata": {},
     "output_type": "execute_result"
    },
    {
     "data": {
      "image/png": "[encoded data removed]",
      "text/plain": [
       "<Figure size 432x432 with 1 Axes>"
      ]
     },
     "metadata": {},
     "output_type": "display_data"
    }
   ],
   "source": [
    "appendData_clone['process'] = pandas.Series(yTypeRun, index=appendData.index)\n",
    "plt.figure(figsize=(6,6))\n",
    "plt.hist2d(appendData[appendData.process == 1]['score'],appendData_clone[appendData_clone.process == 1][3],bins=(50,50),cmap=plt.cm.jet)\n",
    "plt.xlabel(\"signal score\",fontsize=20)\n",
    "plt.ylabel(\"leading higgs candidate mass\",fontsize=20)"
   ]
  },
  {
   "cell_type": "code",
   "execution_count": 38,
   "metadata": {},
   "outputs": [
    {
     "data": {
      "text/plain": [
       "<Figure size 432x288 with 0 Axes>"
      ]
     },
     "metadata": {},
     "output_type": "display_data"
    }
   ],
   "source": [
    "plt.savefig(\"nn_vs_h1M_signal.png\")"
   ]
  },
  {
   "cell_type": "code",
   "execution_count": 39,
   "metadata": {},
   "outputs": [
    {
     "data": {
      "text/html": [
       "<div>\n",
       "<style scoped>\n",
       "    .dataframe tbody tr th:only-of-type {\n",
       "        vertical-align: middle;\n",
       "    }\n",
       "\n",
       "    .dataframe tbody tr th {\n",
       "        vertical-align: top;\n",
       "    }\n",
       "\n",
       "    .dataframe thead th {\n",
       "        text-align: right;\n",
       "    }\n",
       "</style>\n",
       "<table border=\"1\" class=\"dataframe\">\n",
       "  <thead>\n",
       "    <tr style=\"text-align: right;\">\n",
       "      <th></th>\n",
       "      <th>0</th>\n",
       "      <th>1</th>\n",
       "      <th>2</th>\n",
       "      <th>3</th>\n",
       "      <th>4</th>\n",
       "      <th>5</th>\n",
       "      <th>6</th>\n",
       "      <th>7</th>\n",
       "      <th>8</th>\n",
       "      <th>9</th>\n",
       "      <th>10</th>\n",
       "      <th>11</th>\n",
       "      <th>12</th>\n",
       "      <th>13</th>\n",
       "      <th>14</th>\n",
       "      <th>15</th>\n",
       "      <th>16</th>\n",
       "      <th>17</th>\n",
       "      <th>18</th>\n",
       "      <th>process</th>\n",
       "    </tr>\n",
       "  </thead>\n",
       "  <tbody>\n",
       "    <tr>\n",
       "      <th>0</th>\n",
       "      <td>128.499986</td>\n",
       "      <td>0.0</td>\n",
       "      <td>0.0</td>\n",
       "      <td>126.077698</td>\n",
       "      <td>334.018890</td>\n",
       "      <td>-0.422253</td>\n",
       "      <td>0.790535</td>\n",
       "      <td>0.838587</td>\n",
       "      <td>83.958820</td>\n",
       "      <td>226.306127</td>\n",
       "      <td>-0.366827</td>\n",
       "      <td>-2.606621</td>\n",
       "      <td>0.734195</td>\n",
       "      <td>17.266542</td>\n",
       "      <td>2.834165</td>\n",
       "      <td>0.0</td>\n",
       "      <td>1.0</td>\n",
       "      <td>0.0</td>\n",
       "      <td>0.0</td>\n",
       "      <td>1</td>\n",
       "    </tr>\n",
       "    <tr>\n",
       "      <th>1</th>\n",
       "      <td>308.774847</td>\n",
       "      <td>0.0</td>\n",
       "      <td>0.0</td>\n",
       "      <td>47.823994</td>\n",
       "      <td>370.286377</td>\n",
       "      <td>1.767087</td>\n",
       "      <td>2.677764</td>\n",
       "      <td>0.263647</td>\n",
       "      <td>107.239077</td>\n",
       "      <td>149.580689</td>\n",
       "      <td>0.430266</td>\n",
       "      <td>0.489405</td>\n",
       "      <td>1.280279</td>\n",
       "      <td>47.994633</td>\n",
       "      <td>-0.389635</td>\n",
       "      <td>0.0</td>\n",
       "      <td>0.0</td>\n",
       "      <td>0.0</td>\n",
       "      <td>1.0</td>\n",
       "      <td>0</td>\n",
       "    </tr>\n",
       "    <tr>\n",
       "      <th>2</th>\n",
       "      <td>105.737379</td>\n",
       "      <td>0.0</td>\n",
       "      <td>0.0</td>\n",
       "      <td>79.541115</td>\n",
       "      <td>258.018616</td>\n",
       "      <td>0.482340</td>\n",
       "      <td>-0.718144</td>\n",
       "      <td>0.265033</td>\n",
       "      <td>100.120872</td>\n",
       "      <td>205.940972</td>\n",
       "      <td>-0.541282</td>\n",
       "      <td>2.825358</td>\n",
       "      <td>1.071476</td>\n",
       "      <td>4.506536</td>\n",
       "      <td>-2.805694</td>\n",
       "      <td>0.0</td>\n",
       "      <td>1.0</td>\n",
       "      <td>0.0</td>\n",
       "      <td>0.0</td>\n",
       "      <td>0</td>\n",
       "    </tr>\n",
       "    <tr>\n",
       "      <th>3</th>\n",
       "      <td>250.837366</td>\n",
       "      <td>0.0</td>\n",
       "      <td>0.0</td>\n",
       "      <td>189.052780</td>\n",
       "      <td>385.501343</td>\n",
       "      <td>-0.124055</td>\n",
       "      <td>-2.029981</td>\n",
       "      <td>1.009126</td>\n",
       "      <td>268.799030</td>\n",
       "      <td>212.580023</td>\n",
       "      <td>-0.943831</td>\n",
       "      <td>0.465698</td>\n",
       "      <td>2.492892</td>\n",
       "      <td>250.780884</td>\n",
       "      <td>1.171305</td>\n",
       "      <td>0.0</td>\n",
       "      <td>0.0</td>\n",
       "      <td>0.0</td>\n",
       "      <td>1.0</td>\n",
       "      <td>0</td>\n",
       "    </tr>\n",
       "    <tr>\n",
       "      <th>4</th>\n",
       "      <td>294.100349</td>\n",
       "      <td>0.0</td>\n",
       "      <td>0.0</td>\n",
       "      <td>54.741177</td>\n",
       "      <td>329.945862</td>\n",
       "      <td>-0.961495</td>\n",
       "      <td>2.951643</td>\n",
       "      <td>1.004202</td>\n",
       "      <td>144.238429</td>\n",
       "      <td>77.099836</td>\n",
       "      <td>2.710758</td>\n",
       "      <td>0.790672</td>\n",
       "      <td>2.191273</td>\n",
       "      <td>62.969444</td>\n",
       "      <td>-0.437883</td>\n",
       "      <td>0.0</td>\n",
       "      <td>0.0</td>\n",
       "      <td>0.0</td>\n",
       "      <td>1.0</td>\n",
       "      <td>0</td>\n",
       "    </tr>\n",
       "  </tbody>\n",
       "</table>\n",
       "</div>"
      ],
      "text/plain": [
       "            0    1    2           3           4         5         6         7  \\\n",
       "0  128.499986  0.0  0.0  126.077698  334.018890 -0.422253  0.790535  0.838587   \n",
       "1  308.774847  0.0  0.0   47.823994  370.286377  1.767087  2.677764  0.263647   \n",
       "2  105.737379  0.0  0.0   79.541115  258.018616  0.482340 -0.718144  0.265033   \n",
       "3  250.837366  0.0  0.0  189.052780  385.501343 -0.124055 -2.029981  1.009126   \n",
       "4  294.100349  0.0  0.0   54.741177  329.945862 -0.961495  2.951643  1.004202   \n",
       "\n",
       "            8           9        10        11        12          13        14  \\\n",
       "0   83.958820  226.306127 -0.366827 -2.606621  0.734195   17.266542  2.834165   \n",
       "1  107.239077  149.580689  0.430266  0.489405  1.280279   47.994633 -0.389635   \n",
       "2  100.120872  205.940972 -0.541282  2.825358  1.071476    4.506536 -2.805694   \n",
       "3  268.799030  212.580023 -0.943831  0.465698  2.492892  250.780884  1.171305   \n",
       "4  144.238429   77.099836  2.710758  0.790672  2.191273   62.969444 -0.437883   \n",
       "\n",
       "    15   16   17   18  process  \n",
       "0  0.0  1.0  0.0  0.0        1  \n",
       "1  0.0  0.0  0.0  1.0        0  \n",
       "2  0.0  1.0  0.0  0.0        0  \n",
       "3  0.0  0.0  0.0  1.0        0  \n",
       "4  0.0  0.0  0.0  1.0        0  "
      ]
     },
     "execution_count": 39,
     "metadata": {},
     "output_type": "execute_result"
    }
   ],
   "source": [
    "appendData_clone.head()"
   ]
  },
  {
   "cell_type": "code",
   "execution_count": 40,
   "metadata": {},
   "outputs": [
    {
     "data": {
      "text/plain": [
       "Text(0,0.5,'1/N dN/d(NN Score)')"
      ]
     },
     "execution_count": 40,
     "metadata": {},
     "output_type": "execute_result"
    },
    {
     "data": {
      "image/png": "[encoded data removed]",
      "text/plain": [
       "<Figure size 864x432 with 1 Axes>"
      ]
     },
     "metadata": {},
     "output_type": "display_data"
    }
   ],
   "source": [
    "loaded_model = keras.models.load_model(\"./testingAppend_binary.h5\")\n",
    "pred_loaded = loaded_model.predict(X_run)\n",
    "\n",
    "loaded_model_Data = pandas.DataFrame(X_run)\n",
    "loaded_model_Data['score'] = pandas.Series(pred_loaded[:,0], index=loaded_model_Data.index)\n",
    "loaded_model_Data['weight'] = pandas.Series(evtWeightsRun, index=loaded_model_Data.index)\n",
    "loaded_model_Data['process'] = pandas.Series(yTypeRun, index=loaded_model_Data.index)\n",
    "\n",
    "hist_params = {'density': True, 'bins': 50, 'linewidth': 2}\n",
    "min_value = 0\n",
    "max_value = 1\n",
    "plt.figure(figsize=(12,6))\n",
    "plt.hist(loaded_model_Data[loaded_model_Data.process == 0]['score'], color=[\"r\"], weights=loaded_model_Data[loaded_model_Data.process == 0]['weight'], range=(min_value, max_value), histtype='step', label='Background', **hist_params)\n",
    "plt.hist(loaded_model_Data[loaded_model_Data.process == 1]['score'], color=[\"b\"], weights=loaded_model_Data[loaded_model_Data.process == 1]['weight'], range=(min_value, max_value), histtype='step', label='Signal', **hist_params)\n",
    "plt.legend(loc='best')\n",
    "plt.xlabel(\"signal score\",fontsize=20)\n",
    "plt.ylabel(\"1/N dN/d(NN Score)\",fontsize=20)"
   ]
  },
  {
   "cell_type": "code",
   "execution_count": 41,
   "metadata": {},
   "outputs": [
    {
     "name": "stdout",
     "output_type": "stream",
     "text": [
      "              0         1       2         3         4         5         6   \\\n",
      "0      -0.468722 -0.079556 -0.0698  0.837375 -0.083065 -0.423006  0.435801   \n",
      "10     -1.004664 -0.079556 -0.0698 -0.312927 -0.827956  1.338209 -1.456115   \n",
      "85      0.049898 -0.079556 -0.0698  0.731595 -0.288225 -1.187272  0.299506   \n",
      "112    -0.494964 -0.079556 -0.0698  0.922055 -0.474701  1.216668  0.285517   \n",
      "119    -0.002707 -0.079556 -0.0698 -0.154285 -0.306803 -0.021776 -1.732512   \n",
      "146    -0.667866 -0.079556 -0.0698  0.575098 -0.113824  1.959130 -1.571635   \n",
      "166     0.456205 -0.079556 -0.0698  0.069738 -0.300608  1.344799 -1.578877   \n",
      "194    -0.589144 -0.079556 -0.0698  0.674597 -0.767308 -1.258563  0.796878   \n",
      "225    -0.716603 -0.079556 -0.0698  3.664962  1.465464  0.439212  0.176800   \n",
      "227     0.008754 -0.079556 -0.0698  4.027929  0.586462 -1.258953  0.801504   \n",
      "241     0.280139 -0.079556 -0.0698  1.030801 -0.203300 -0.626265  1.223461   \n",
      "274     0.063807 -0.079556 -0.0698  1.041094 -0.458835 -0.039133 -0.586506   \n",
      "302     0.017651 -0.079556 -0.0698  1.029460 -0.077221  0.404288  0.964950   \n",
      "317    -1.177370 -0.079556 -0.0698 -1.278230 -0.839845 -1.102345 -0.262257   \n",
      "340    -0.175136 -0.079556 -0.0698  0.173649  0.283786 -0.364418 -1.460757   \n",
      "482     1.894197 -0.079556 -0.0698  0.579038 -0.077072  1.717006 -0.461061   \n",
      "497     0.665931 -0.079556 -0.0698  0.104828  0.870329 -1.670424 -1.387346   \n",
      "505     2.061709 -0.079556 -0.0698  1.025879  0.819048  1.404798 -0.551895   \n",
      "519    -0.959565 -0.079556 -0.0698  0.981477 -0.269576 -0.031510 -0.463613   \n",
      "538    -0.712052 -0.079556 -0.0698 -0.602325 -0.341675  1.657332  0.729973   \n",
      "563     0.883318 -0.079556 -0.0698  0.751563 -0.559151 -1.071359  0.889178   \n",
      "571    -0.334533 -0.079556 -0.0698 -0.551989 -0.728051  0.742198 -0.494572   \n",
      "579    -0.388793 -0.079556 -0.0698  0.157802 -0.576013  1.186711  0.221450   \n",
      "612    -0.075323 -0.079556 -0.0698  0.690456 -0.421501 -0.190700  0.738137   \n",
      "638     0.298552 -0.079556 -0.0698  0.852574 -0.016852 -1.728973 -0.114465   \n",
      "736    -1.003021 -0.079556 -0.0698  1.029642  0.005565  1.265634  0.026892   \n",
      "775    -0.960438 -0.079556 -0.0698 -0.957594  0.100877  1.473562 -0.365357   \n",
      "852    -0.669893 -0.079556 -0.0698  0.570186 -0.039950  1.325963 -0.013462   \n",
      "881    -0.466868 -0.079556 -0.0698  1.113712 -0.481759  0.862278  0.192934   \n",
      "921    -0.145869 -0.079556 -0.0698  0.622211  0.308049 -0.414191 -0.384059   \n",
      "...          ...       ...     ...       ...       ...       ...       ...   \n",
      "596852  0.247294 -0.079556 -0.0698  0.547138 -0.776970  0.010306  0.130132   \n",
      "596854  0.596694 -0.079556 -0.0698 -0.594963  0.041048 -1.636287  0.554405   \n",
      "596858 -0.435772 -0.079556 -0.0698  0.622568 -0.050510  0.112693 -0.360093   \n",
      "596890  0.384541 -0.079556 -0.0698  0.787017 -0.059824  0.730962 -1.490655   \n",
      "596899  0.135217 -0.079556 -0.0698  2.064166  0.243568 -1.435187 -1.148843   \n",
      "596908  0.837692 -0.079556 -0.0698  0.839030 -0.070425 -1.838902 -1.520136   \n",
      "596937 -0.419676 -0.079556 -0.0698 -0.333938 -0.709844 -0.008169 -0.819923   \n",
      "596941 -0.565358 -0.079556 -0.0698  0.361602  0.590595  1.664953 -1.100848   \n",
      "597028 -0.092762 -0.079556 -0.0698 -0.557485 -0.695389  0.676680 -0.617323   \n",
      "597056  0.914859 -0.079556 -0.0698  0.114746 -0.334540  0.115526  1.217618   \n",
      "597060  0.693181 -0.079556 -0.0698  0.173149  0.145040 -0.292365  0.157348   \n",
      "597064  0.780103 -0.079556 -0.0698 -0.707612 -0.162430 -0.765632 -0.304099   \n",
      "597065 -0.603704 -0.079556 -0.0698  0.900770  0.024835 -0.352377  0.688854   \n",
      "597087  0.484600 -0.079556 -0.0698  0.203105 -0.686182  1.355047 -0.903688   \n",
      "597094 -1.347064 -0.079556 -0.0698  0.713579 -0.779660 -1.338122 -0.018119   \n",
      "597099 -0.644223 -0.079556 -0.0698  0.774416 -0.736364  1.729861  0.069884   \n",
      "597102 -0.458456 -0.079556 -0.0698  0.303673 -0.733787  0.085292 -1.211785   \n",
      "597138 -0.284797 -0.079556 -0.0698 -1.040994 -0.547107  0.570045  1.065680   \n",
      "597140  0.963788 -0.079556 -0.0698  0.859476 -0.017689  1.897760 -0.887980   \n",
      "597143  0.794259 -0.079556 -0.0698  0.606358 -0.129778  1.223551 -0.979516   \n",
      "597149  0.135591 -0.079556 -0.0698  0.617555 -0.628652 -1.307763  0.207351   \n",
      "597163 -0.070923 -0.079556 -0.0698  0.895699  0.906790  0.068296  1.065851   \n",
      "597194 -0.606320 -0.079556 -0.0698  0.176527 -0.661015 -1.897911  1.580029   \n",
      "597218 -1.220367 -0.079556 -0.0698  0.713477 -0.471044 -1.176132 -0.208224   \n",
      "597270  0.039908 -0.079556 -0.0698  0.012802 -0.725836 -0.175185  1.330299   \n",
      "597272 -0.146591 -0.079556 -0.0698  0.286671 -0.525100  0.536360 -0.649854   \n",
      "597352  0.525009 -0.079556 -0.0698 -0.218037  0.790463  0.913857 -1.441824   \n",
      "597360 -0.631174 -0.079556 -0.0698  0.653453 -0.664503 -0.776933 -1.076930   \n",
      "597400  0.916200 -0.079556 -0.0698 -0.889883 -0.045874 -0.112058 -1.669001   \n",
      "597412 -0.505019 -0.079556 -0.0698  0.942225 -0.373191 -0.049960  0.858337   \n",
      "\n",
      "              7         8         9         10        11        12        13  \\\n",
      "0       0.557950 -0.488516  0.228892 -0.259580 -1.435491 -0.951235 -0.609709   \n",
      "10     -0.994767  1.277539  0.460343  1.114043  0.146466  1.322081 -0.616957   \n",
      "85     -0.520422 -0.285653 -0.214407 -0.123431  1.693264 -0.154743 -0.347944   \n",
      "112     0.578098  0.893167 -0.002255  1.333566 -1.242565  0.875260  0.720929   \n",
      "119     0.052705  0.885705 -0.233805 -1.973866 -0.318466  2.109079 -0.764623   \n",
      "146     0.089097 -0.087950  0.269325  1.226949  0.212238 -0.277897 -0.644813   \n",
      "166    -0.826317 -0.333813 -1.264870 -1.345363  0.372125  0.675925 -0.165390   \n",
      "194     0.156867 -0.504958 -0.433636 -0.610552 -0.795612 -0.665270  0.650694   \n",
      "225    -0.350140  9.584910  2.316871 -1.473775 -1.641414  4.252901  0.027956   \n",
      "227     1.327941  0.208858  0.637661  0.490488 -1.144681  0.361065  0.473969   \n",
      "241     0.407003  0.045433 -0.004493  0.390407 -0.929338  0.297051 -0.463481   \n",
      "274     0.734184 -0.620170 -0.863434 -0.424775  0.908457 -0.702860  1.068598   \n",
      "302     0.496984 -0.633639 -0.476423  0.409634 -0.627847 -0.936632 -0.798000   \n",
      "317     0.927210 -0.591754  0.237826 -1.265795  1.541750 -1.122836 -0.749395   \n",
      "340    -0.245935 -0.467704  0.360606 -1.643168  0.094288 -0.952740 -0.471386   \n",
      "482    -0.349385 -0.166177  0.011221 -1.499979 -1.195171 -0.367366  0.121563   \n",
      "497     1.104326  0.342079  0.711933 -1.219654 -0.006201  0.012365 -0.787107   \n",
      "505    -0.282099  0.479638 -0.397296  1.050053 -1.455121  1.374724  6.442532   \n",
      "519     0.395395  0.383867  1.213718  0.957937  1.160974 -0.262306 -0.572613   \n",
      "538     0.221129 -0.368342  0.271940 -0.783159 -1.130901 -0.737216 -0.255543   \n",
      "563     0.606972 -0.272771 -0.331428 -1.483054 -0.072449 -0.118855  0.271997   \n",
      "571     0.288135 -0.611559 -0.807847  1.227393  1.288665 -0.651178 -0.466025   \n",
      "579    -0.461737 -0.494572 -0.255774 -0.277953 -1.278403 -0.664985 -0.518542   \n",
      "612     0.194410 -0.391517 -0.746702  0.410945 -0.855429 -0.184154  0.250097   \n",
      "638     1.072816  0.377095  2.041433 -1.157872 -1.527241 -0.518306 -0.664473   \n",
      "736    -0.434916  1.576631  0.782937  0.954876 -1.687503  0.929048  0.145083   \n",
      "775    -0.075574  0.462533  0.868301  0.734505  1.328061  0.005212  0.365877   \n",
      "852     0.052200 -0.476022  0.321602  1.161234  1.717390 -1.070950  0.161307   \n",
      "881    -0.245131  0.019150 -0.347954 -1.808655 -1.449816  1.036325 -0.233661   \n",
      "921     0.038744 -0.486282  0.099293 -0.910127  1.431587 -0.954200 -0.474189   \n",
      "...          ...       ...       ...       ...       ...       ...       ...   \n",
      "596852  0.313323 -0.618673 -0.017818 -0.276551  1.327323 -1.138149 -0.286871   \n",
      "596854  0.431897 -0.608726 -0.441595 -0.606017 -0.732254 -0.885228 -0.539900   \n",
      "596858  0.400818 -0.476958  0.159621  0.362112  1.253059 -0.876486 -0.661635   \n",
      "596890  0.404711  0.410923  0.341091 -0.210225  0.675965  0.438227 -0.872859   \n",
      "596899  1.347940  0.171705 -0.299175  1.599686  0.699045  0.872647 -0.855830   \n",
      "596908  0.642516 -0.156198 -1.431326 -0.626758  0.575752  1.767848  0.008413   \n",
      "596937 -0.138701 -0.676798 -0.692132  1.647687  0.903693 -1.034598 -0.621688   \n",
      "596941 -0.928649  0.120221  1.278493 -0.771291  0.769163 -0.397141 -0.348766   \n",
      "597028  0.368175 -0.483407 -0.084306  0.425940  0.717742 -0.720993 -0.326027   \n",
      "597056 -0.029549 -0.382382 -0.457623  0.596601 -1.235063 -0.396132 -0.248585   \n",
      "597060 -0.183163  0.362623 -1.103975  0.667683 -1.415721  2.109733  0.827502   \n",
      "597064 -1.265878 -0.262671 -1.218535 -2.056405  0.907435  0.665973  1.034215   \n",
      "597065  0.572192 -0.437279  0.318376 -1.101130 -1.013358 -1.005361 -0.369073   \n",
      "597087 -0.137629 -0.441458  1.975776  1.522503  0.480940 -1.232101 -0.495227   \n",
      "597094  0.579327 -0.259303  0.565248 -0.897019  1.682758 -0.582375 -0.598168   \n",
      "597099  2.264649 -0.347768 -0.350949  1.430422 -1.541186 -0.445861  0.212261   \n",
      "597102  0.142953 -0.392576 -0.531814  0.666290  0.354479 -0.331104  1.081682   \n",
      "597138  0.079024 -0.659689 -0.225182  0.365736 -0.389974 -1.234790 -0.313327   \n",
      "597140  0.171356 -0.174254 -1.441794  2.302186  0.354166  1.620206  0.884784   \n",
      "597143 -0.051881 -0.181481 -1.352377 -0.890781  1.197543  1.322791 -0.406065   \n",
      "597149  1.036425 -0.589101 -0.908282 -1.275768 -1.124931 -0.530427  0.093282   \n",
      "597163 -0.321969  0.058329  0.620803 -0.386628 -0.611491 -0.356244 -0.591953   \n",
      "597194  3.142959  0.967669  0.464355 -0.270357  0.082339  1.513768 -0.666601   \n",
      "597218  0.306522 -0.109999  0.587284 -1.473330  1.491058 -0.199648 -0.483764   \n",
      "597270 -0.461176 -0.461982 -1.234826  0.454563 -0.248867  0.505061 -0.718039   \n",
      "597272  0.589158 -0.383761 -0.363496  0.754207  1.391985 -0.274789  0.704600   \n",
      "597352 -1.185549 -0.499984  0.045121 -0.851785  0.062979 -0.985302 -0.466367   \n",
      "597360  0.082452  0.014243 -0.065353 -1.178899  0.469079  0.161014 -0.164344   \n",
      "597400  3.226769 -0.629545 -0.562675 -0.931992  0.687381 -0.929374  0.644617   \n",
      "597412 -0.819967 -0.526351 -0.069520 -0.784986 -1.014997 -0.805930 -0.724902   \n",
      "\n",
      "              14        15        16        17        18  \n",
      "0       1.562017 -0.967557  1.347809 -0.942233 -0.766079  \n",
      "10      0.393674 -0.967557 -0.741945 -0.942233  1.305348  \n",
      "85     -0.942503 -0.967557 -0.741945  1.061308 -0.766079  \n",
      "112    -1.679947 -0.967557  1.347809  1.061308 -0.766079  \n",
      "119    -1.637705 -0.967557 -0.741945 -0.942233  1.305348  \n",
      "146    -1.402382 -0.967557 -0.741945  1.061308  1.305348  \n",
      "166     0.739432  1.033531  1.347809 -0.942233 -0.766079  \n",
      "194    -0.698394  1.033531 -0.741945  1.061308 -0.766079  \n",
      "225     0.082257 -0.967557 -0.741945 -0.942233  1.305348  \n",
      "227    -0.543314  1.033531  1.347809 -0.942233 -0.766079  \n",
      "241    -0.735281 -0.967557  1.347809 -0.942233 -0.766079  \n",
      "274     1.130198 -0.967557  1.347809  1.061308  1.305348  \n",
      "302     1.316288 -0.967557  1.347809  1.061308 -0.766079  \n",
      "317    -0.975097 -0.967557  1.347809 -0.942233  1.305348  \n",
      "340    -0.505114  1.033531  1.347809  1.061308  1.305348  \n",
      "482    -0.659486  1.033531  1.347809 -0.942233 -0.766079  \n",
      "497    -0.719051 -0.967557  1.347809 -0.942233 -0.766079  \n",
      "505     1.007514  1.033531  1.347809  1.061308 -0.766079  \n",
      "519    -0.705961  1.033531 -0.741945 -0.942233 -0.766079  \n",
      "538    -0.900470 -0.967557  1.347809  1.061308 -0.766079  \n",
      "563    -1.204418  1.033531  1.347809  1.061308  1.305348  \n",
      "571     1.545889  1.033531 -0.741945 -0.942233 -0.766079  \n",
      "579    -1.222307 -0.967557  1.347809 -0.942233 -0.766079  \n",
      "612    -1.102356  1.033531  1.347809  1.061308 -0.766079  \n",
      "638     1.011712  1.033531 -0.741945 -0.942233 -0.766079  \n",
      "736    -1.408390 -0.967557 -0.741945  1.061308 -0.766079  \n",
      "775     1.205188 -0.967557 -0.741945 -0.942233 -0.766079  \n",
      "852     1.346901 -0.967557 -0.741945  1.061308 -0.766079  \n",
      "881     0.364140 -0.967557 -0.741945 -0.942233  1.305348  \n",
      "921     1.225760 -0.967557 -0.741945 -0.942233  1.305348  \n",
      "...          ...       ...       ...       ...       ...  \n",
      "596852 -0.333415  1.033531 -0.741945 -0.942233 -0.766079  \n",
      "596854  0.633581 -0.967557  1.347809 -0.942233 -0.766079  \n",
      "596858 -1.349804 -0.967557 -0.741945 -0.942233 -0.766079  \n",
      "596890 -0.232790  1.033531 -0.741945  1.061308 -0.766079  \n",
      "596899 -0.018747 -0.967557 -0.741945 -0.942233  1.305348  \n",
      "596908  0.272472  1.033531  1.347809 -0.942233 -0.766079  \n",
      "596937 -0.335310 -0.967557  1.347809 -0.942233 -0.766079  \n",
      "596941 -0.848886  1.033531  1.347809 -0.942233  1.305348  \n",
      "597028  1.410086 -0.967557 -0.741945  1.061308 -0.766079  \n",
      "597056 -1.640984 -0.967557 -0.741945  1.061308  1.305348  \n",
      "597060  0.175126  1.033531  1.347809  1.061308 -0.766079  \n",
      "597064  1.562449  1.033531  1.347809 -0.942233  1.305348  \n",
      "597065 -1.086839 -0.967557  1.347809  1.061308 -0.766079  \n",
      "597087  0.502154  1.033531  1.347809  1.061308 -0.766079  \n",
      "597094 -0.230498  1.033531 -0.741945  1.061308  1.305348  \n",
      "597099  1.701961  1.033531 -0.741945  1.061308  1.305348  \n",
      "597102  0.637004 -0.967557  1.347809 -0.942233  1.305348  \n",
      "597138 -1.088779 -0.967557  1.347809 -0.942233 -0.766079  \n",
      "597140  0.915436  1.033531 -0.741945  1.061308 -0.766079  \n",
      "597143  1.666409  1.033531  1.347809 -0.942233 -0.766079  \n",
      "597149 -1.218853  1.033531 -0.741945  1.061308 -0.766079  \n",
      "597163 -0.297848  1.033531 -0.741945  1.061308 -0.766079  \n",
      "597194 -0.833402 -0.967557  1.347809 -0.942233 -0.766079  \n",
      "597218  1.020973  1.033531 -0.741945 -0.942233 -0.766079  \n",
      "597270  1.465195 -0.967557 -0.741945 -0.942233  1.305348  \n",
      "597272 -0.640229  1.033531 -0.741945  1.061308 -0.766079  \n",
      "597352  0.190550 -0.967557 -0.741945  1.061308  1.305348  \n",
      "597360 -1.302650  1.033531  1.347809 -0.942233  1.305348  \n",
      "597400 -0.306269  1.033531 -0.741945 -0.942233 -0.766079  \n",
      "597412 -1.359599  1.033531 -0.741945  1.061308  1.305348  \n",
      "\n",
      "[19499 rows x 19 columns]\n"
     ]
    }
   ],
   "source": [
    "isSignal = loaded_model_Data[loaded_model_Data[\"process\"] == 1]\n",
    "isSignal.pop(\"process\")\n",
    "isSignal.pop(\"score\")\n",
    "isSignal.pop(\"weight\")\n",
    "print(isSignal)\n"
   ]
  },
  {
   "cell_type": "code",
   "execution_count": 42,
   "metadata": {},
   "outputs": [
    {
     "ename": "NameError",
     "evalue": "name 'sig_only_Data' is not defined",
     "output_type": "error",
     "traceback": [
      "\u001b[0;31m---------------------------------------------------------------------------\u001b[0m",
      "\u001b[0;31mNameError\u001b[0m                                 Traceback (most recent call last)",
      "\u001b[0;32m<ipython-input-42-89aae6426cb4>\u001b[0m in \u001b[0;36m<module>\u001b[0;34m()\u001b[0m\n\u001b[1;32m      1\u001b[0m \u001b[0;34m\u001b[0m\u001b[0m\n\u001b[0;32m----> 2\u001b[0;31m \u001b[0mprint\u001b[0m\u001b[0;34m(\u001b[0m\u001b[0msig_only_Data\u001b[0m\u001b[0;34m)\u001b[0m\u001b[0;34m\u001b[0m\u001b[0m\n\u001b[0m",
      "\u001b[0;31mNameError\u001b[0m: name 'sig_only_Data' is not defined"
     ]
    }
   ],
   "source": [
    "\n",
    "print(sig_only_Data)"
   ]
  },
  {
   "cell_type": "code",
   "execution_count": 45,
   "metadata": {},
   "outputs": [
    {
     "data": {
      "text/plain": [
       "(array([0.02051387, 0.03589928, 0.04359198, 0.03589928, 0.04102775,\n",
       "        0.07436279, 0.11026206, 0.20001026, 0.26924458, 0.3461716 ,\n",
       "        0.41540592, 0.482076  , 0.56925996, 0.66670086, 0.64618698,\n",
       "        0.75644905, 0.83337607, 1.00261552, 1.01287245, 1.02569363,\n",
       "        1.07954254, 1.14108416, 1.33083748, 1.34365865, 1.3923791 ,\n",
       "        1.45392071, 1.4077645 , 1.58726089, 1.46674188, 1.67444484,\n",
       "        1.61546746, 1.58213242, 1.77188574, 1.78470691, 1.78214267,\n",
       "        1.79496384, 2.11292887, 1.97446023, 1.94112519, 1.8744551 ,\n",
       "        1.86932663, 2.00010257, 1.84624853, 1.53341197, 1.03338633,\n",
       "        0.64618698, 0.26924458, 0.09744089, 0.00512847, 0.        ]),\n",
       " array([0.  , 0.02, 0.04, 0.06, 0.08, 0.1 , 0.12, 0.14, 0.16, 0.18, 0.2 ,\n",
       "        0.22, 0.24, 0.26, 0.28, 0.3 , 0.32, 0.34, 0.36, 0.38, 0.4 , 0.42,\n",
       "        0.44, 0.46, 0.48, 0.5 , 0.52, 0.54, 0.56, 0.58, 0.6 , 0.62, 0.64,\n",
       "        0.66, 0.68, 0.7 , 0.72, 0.74, 0.76, 0.78, 0.8 , 0.82, 0.84, 0.86,\n",
       "        0.88, 0.9 , 0.92, 0.94, 0.96, 0.98, 1.  ]),\n",
       " <a list of 1 Patch objects>)"
      ]
     },
     "execution_count": 45,
     "metadata": {},
     "output_type": "execute_result"
    },
    {
     "data": {
      "image/png": "[encoded data removed]",
      "text/plain": [
       "<Figure size 864x432 with 1 Axes>"
      ]
     },
     "metadata": {},
     "output_type": "display_data"
    }
   ],
   "source": [
    "#isSignal = isSignal.values\n",
    "pred_filtered = model.predict(isSignal)\n",
    "plt.figure(figsize=(12,6))\n",
    "plt.hist(pred_filtered, color=[\"r\"], range=(min_value, max_value), histtype='step', label='Signal', **hist_params)"
   ]
  },
  {
   "cell_type": "code",
   "execution_count": 46,
   "metadata": {},
   "outputs": [
    {
     "ename": "NameError",
     "evalue": "name 'allSigData_scaled' is not defined",
     "output_type": "error",
     "traceback": [
      "\u001b[0;31m---------------------------------------------------------------------------\u001b[0m",
      "\u001b[0;31mNameError\u001b[0m                                 Traceback (most recent call last)",
      "\u001b[0;32m<ipython-input-46-7a9e694dc4f5>\u001b[0m in \u001b[0;36m<module>\u001b[0;34m()\u001b[0m\n\u001b[1;32m      6\u001b[0m         \u001b[0mmetrics\u001b[0m\u001b[0;34m=\u001b[0m\u001b[0;34m[\u001b[0m\u001b[0;34m'acc'\u001b[0m\u001b[0;34m]\u001b[0m  \u001b[0;31m# report accuracy during training\u001b[0m\u001b[0;34m\u001b[0m\u001b[0m\n\u001b[1;32m      7\u001b[0m         )\n\u001b[0;32m----> 8\u001b[0;31m \u001b[0mpred_sig_only\u001b[0m \u001b[0;34m=\u001b[0m \u001b[0mloaded_model\u001b[0m\u001b[0;34m.\u001b[0m\u001b[0mpredict\u001b[0m\u001b[0;34m(\u001b[0m\u001b[0mallSigData_scaled\u001b[0m\u001b[0;34m)\u001b[0m\u001b[0;34m\u001b[0m\u001b[0m\n\u001b[0m\u001b[1;32m      9\u001b[0m \u001b[0mhist_params\u001b[0m \u001b[0;34m=\u001b[0m \u001b[0;34m{\u001b[0m\u001b[0;34m'density'\u001b[0m\u001b[0;34m:\u001b[0m \u001b[0;32mTrue\u001b[0m\u001b[0;34m,\u001b[0m \u001b[0;34m'bins'\u001b[0m\u001b[0;34m:\u001b[0m \u001b[0;36m50\u001b[0m\u001b[0;34m,\u001b[0m \u001b[0;34m'linewidth'\u001b[0m\u001b[0;34m:\u001b[0m \u001b[0;36m2\u001b[0m\u001b[0;34m}\u001b[0m\u001b[0;34m\u001b[0m\u001b[0m\n\u001b[1;32m     10\u001b[0m \u001b[0mplt\u001b[0m\u001b[0;34m.\u001b[0m\u001b[0mfigure\u001b[0m\u001b[0;34m(\u001b[0m\u001b[0mfigsize\u001b[0m\u001b[0;34m=\u001b[0m\u001b[0;34m(\u001b[0m\u001b[0;36m12\u001b[0m\u001b[0;34m,\u001b[0m\u001b[0;36m6\u001b[0m\u001b[0;34m)\u001b[0m\u001b[0;34m)\u001b[0m\u001b[0;34m\u001b[0m\u001b[0m\n",
      "\u001b[0;31mNameError\u001b[0m: name 'allSigData_scaled' is not defined"
     ]
    }
   ],
   "source": [
    "loaded_model.compile(\n",
    "        loss='binary_crossentropy',  # we train 10-way classification\n",
    "        #optimizer=keras.optimizers.adamax(lr=init_lr[analysis]),  # for SGD\n",
    "        #optimizer=keras.optimizers.adamax(lr=50000),  # for SGD\n",
    "        optimizer='sgd',\n",
    "        metrics=['acc']  # report accuracy during training\n",
    "        )\n",
    "pred_sig_only = loaded_model.predict(allSigData_scaled)\n",
    "hist_params = {'density': True, 'bins': 50, 'linewidth': 2}\n",
    "plt.figure(figsize=(12,6))\n",
    "plt.hist(pred_sig_only, color=[\"r\"], range=(min_value, max_value), histtype='step', label='Signal', **hist_params)"
   ]
  },
  {
   "cell_type": "code",
   "execution_count": 47,
   "metadata": {},
   "outputs": [
    {
     "ename": "NameError",
     "evalue": "name 'allSigData_scaled' is not defined",
     "output_type": "error",
     "traceback": [
      "\u001b[0;31m---------------------------------------------------------------------------\u001b[0m",
      "\u001b[0;31mNameError\u001b[0m                                 Traceback (most recent call last)",
      "\u001b[0;32m<ipython-input-47-6c690afa8b2e>\u001b[0m in \u001b[0;36m<module>\u001b[0;34m()\u001b[0m\n\u001b[0;32m----> 1\u001b[0;31m \u001b[0mpred_sig_only_mem\u001b[0m \u001b[0;34m=\u001b[0m \u001b[0mmodel\u001b[0m\u001b[0;34m.\u001b[0m\u001b[0mpredict\u001b[0m\u001b[0;34m(\u001b[0m\u001b[0mallSigData_scaled\u001b[0m\u001b[0;34m)\u001b[0m\u001b[0;34m\u001b[0m\u001b[0m\n\u001b[0m\u001b[1;32m      2\u001b[0m \u001b[0mplt\u001b[0m\u001b[0;34m.\u001b[0m\u001b[0mfigure\u001b[0m\u001b[0;34m(\u001b[0m\u001b[0mfigsize\u001b[0m\u001b[0;34m=\u001b[0m\u001b[0;34m(\u001b[0m\u001b[0;36m12\u001b[0m\u001b[0;34m,\u001b[0m\u001b[0;36m6\u001b[0m\u001b[0;34m)\u001b[0m\u001b[0;34m)\u001b[0m\u001b[0;34m\u001b[0m\u001b[0m\n\u001b[1;32m      3\u001b[0m \u001b[0mplt\u001b[0m\u001b[0;34m.\u001b[0m\u001b[0mhist\u001b[0m\u001b[0;34m(\u001b[0m\u001b[0mpred_sig_only_mem\u001b[0m\u001b[0;34m,\u001b[0m \u001b[0mcolor\u001b[0m\u001b[0;34m=\u001b[0m\u001b[0;34m[\u001b[0m\u001b[0;34m\"r\"\u001b[0m\u001b[0;34m]\u001b[0m\u001b[0;34m,\u001b[0m \u001b[0mrange\u001b[0m\u001b[0;34m=\u001b[0m\u001b[0;34m(\u001b[0m\u001b[0mmin_value\u001b[0m\u001b[0;34m,\u001b[0m \u001b[0mmax_value\u001b[0m\u001b[0;34m)\u001b[0m\u001b[0;34m,\u001b[0m \u001b[0mhisttype\u001b[0m\u001b[0;34m=\u001b[0m\u001b[0;34m'step'\u001b[0m\u001b[0;34m,\u001b[0m \u001b[0mlabel\u001b[0m\u001b[0;34m=\u001b[0m\u001b[0;34m'Signal'\u001b[0m\u001b[0;34m,\u001b[0m \u001b[0;34m**\u001b[0m\u001b[0mhist_params\u001b[0m\u001b[0;34m)\u001b[0m\u001b[0;34m\u001b[0m\u001b[0m\n",
      "\u001b[0;31mNameError\u001b[0m: name 'allSigData_scaled' is not defined"
     ]
    }
   ],
   "source": [
    "pred_sig_only_mem = model.predict(allSigData_scaled)\n",
    "plt.figure(figsize=(12,6))\n",
    "plt.hist(pred_sig_only_mem, color=[\"r\"], range=(min_value, max_value), histtype='step', label='Signal', **hist_params)"
   ]
  },
  {
   "cell_type": "code",
   "execution_count": 48,
   "metadata": {},
   "outputs": [
    {
     "ename": "NameError",
     "evalue": "name 'allSigData_scaled' is not defined",
     "output_type": "error",
     "traceback": [
      "\u001b[0;31m---------------------------------------------------------------------------\u001b[0m",
      "\u001b[0;31mNameError\u001b[0m                                 Traceback (most recent call last)",
      "\u001b[0;32m<ipython-input-48-5d0998d3ba03>\u001b[0m in \u001b[0;36m<module>\u001b[0;34m()\u001b[0m\n\u001b[0;32m----> 1\u001b[0;31m \u001b[0msig_only_Data\u001b[0m \u001b[0;34m=\u001b[0m \u001b[0mpandas\u001b[0m\u001b[0;34m.\u001b[0m\u001b[0mDataFrame\u001b[0m\u001b[0;34m(\u001b[0m\u001b[0mallSigData_scaled\u001b[0m\u001b[0;34m)\u001b[0m\u001b[0;34m\u001b[0m\u001b[0m\n\u001b[0m\u001b[1;32m      2\u001b[0m \u001b[0msig_only_Data\u001b[0m\u001b[0;34m[\u001b[0m\u001b[0;34m'score'\u001b[0m\u001b[0;34m]\u001b[0m \u001b[0;34m=\u001b[0m \u001b[0mpandas\u001b[0m\u001b[0;34m.\u001b[0m\u001b[0mSeries\u001b[0m\u001b[0;34m(\u001b[0m\u001b[0mpred_sig_only\u001b[0m\u001b[0;34m[\u001b[0m\u001b[0;34m:\u001b[0m\u001b[0;34m,\u001b[0m\u001b[0;36m0\u001b[0m\u001b[0;34m]\u001b[0m\u001b[0;34m,\u001b[0m \u001b[0mindex\u001b[0m\u001b[0;34m=\u001b[0m\u001b[0msig_only_Data\u001b[0m\u001b[0;34m.\u001b[0m\u001b[0mindex\u001b[0m\u001b[0;34m)\u001b[0m\u001b[0;34m\u001b[0m\u001b[0m\n\u001b[1;32m      3\u001b[0m \u001b[0;34m\u001b[0m\u001b[0m\n\u001b[1;32m      4\u001b[0m \u001b[0mhist_params\u001b[0m \u001b[0;34m=\u001b[0m \u001b[0;34m{\u001b[0m\u001b[0;34m'density'\u001b[0m\u001b[0;34m:\u001b[0m \u001b[0;32mTrue\u001b[0m\u001b[0;34m,\u001b[0m \u001b[0;34m'bins'\u001b[0m\u001b[0;34m:\u001b[0m \u001b[0;36m50\u001b[0m\u001b[0;34m,\u001b[0m \u001b[0;34m'linewidth'\u001b[0m\u001b[0;34m:\u001b[0m \u001b[0;36m2\u001b[0m\u001b[0;34m}\u001b[0m\u001b[0;34m\u001b[0m\u001b[0m\n\u001b[1;32m      5\u001b[0m \u001b[0mmin_value\u001b[0m \u001b[0;34m=\u001b[0m \u001b[0;36m0\u001b[0m\u001b[0;34m\u001b[0m\u001b[0m\n",
      "\u001b[0;31mNameError\u001b[0m: name 'allSigData_scaled' is not defined"
     ]
    }
   ],
   "source": [
    "sig_only_Data = pandas.DataFrame(allSigData_scaled)\n",
    "sig_only_Data['score'] = pandas.Series(pred_sig_only[:,0], index=sig_only_Data.index)\n",
    "\n",
    "hist_params = {'density': True, 'bins': 50, 'linewidth': 2}\n",
    "min_value = 0\n",
    "max_value = 1\n",
    "plt.figure(figsize=(12,6))\n",
    "plt.hist(sig_only_Data['score'], color=[\"r\"], range=(min_value, max_value), histtype='step', label='Signal', **hist_params)\n",
    "plt.legend(loc='best')\n",
    "plt.xlabel(\"signal score\",fontsize=20)\n",
    "plt.ylabel(\"1/N dN/d(NN Score)\",fontsize=20)"
   ]
  },
  {
   "cell_type": "code",
   "execution_count": 49,
   "metadata": {},
   "outputs": [
    {
     "ename": "NameError",
     "evalue": "name 'sig_only_mc_sf' is not defined",
     "output_type": "error",
     "traceback": [
      "\u001b[0;31m---------------------------------------------------------------------------\u001b[0m",
      "\u001b[0;31mNameError\u001b[0m                                 Traceback (most recent call last)",
      "\u001b[0;32m<ipython-input-49-4906b6ae04ec>\u001b[0m in \u001b[0;36m<module>\u001b[0;34m()\u001b[0m\n\u001b[0;32m----> 1\u001b[0;31m \u001b[0msig_only_Data\u001b[0m\u001b[0;34m[\u001b[0m\u001b[0;34m'weight'\u001b[0m\u001b[0;34m]\u001b[0m \u001b[0;34m=\u001b[0m \u001b[0mpandas\u001b[0m\u001b[0;34m.\u001b[0m\u001b[0mSeries\u001b[0m\u001b[0;34m(\u001b[0m\u001b[0msig_only_mc_sf\u001b[0m\u001b[0;34m,\u001b[0m \u001b[0mindex\u001b[0m\u001b[0;34m=\u001b[0m\u001b[0msig_only_Data\u001b[0m\u001b[0;34m.\u001b[0m\u001b[0mindex\u001b[0m\u001b[0;34m)\u001b[0m\u001b[0;34m\u001b[0m\u001b[0m\n\u001b[0m\u001b[1;32m      2\u001b[0m \u001b[0msig_only_Data\u001b[0m\u001b[0;34m[\u001b[0m\u001b[0;34m'process'\u001b[0m\u001b[0;34m]\u001b[0m \u001b[0;34m=\u001b[0m \u001b[0mpandas\u001b[0m\u001b[0;34m.\u001b[0m\u001b[0mSeries\u001b[0m\u001b[0;34m(\u001b[0m\u001b[0msig_only_target\u001b[0m\u001b[0;34m,\u001b[0m \u001b[0mindex\u001b[0m\u001b[0;34m=\u001b[0m\u001b[0msig_only_Data\u001b[0m\u001b[0;34m.\u001b[0m\u001b[0mindex\u001b[0m\u001b[0;34m)\u001b[0m\u001b[0;34m\u001b[0m\u001b[0m\n\u001b[1;32m      3\u001b[0m \u001b[0;34m\u001b[0m\u001b[0m\n\u001b[1;32m      4\u001b[0m \u001b[0mhist_params\u001b[0m \u001b[0;34m=\u001b[0m \u001b[0;34m{\u001b[0m\u001b[0;34m'density'\u001b[0m\u001b[0;34m:\u001b[0m \u001b[0;32mTrue\u001b[0m\u001b[0;34m,\u001b[0m \u001b[0;34m'bins'\u001b[0m\u001b[0;34m:\u001b[0m \u001b[0;36m50\u001b[0m\u001b[0;34m,\u001b[0m \u001b[0;34m'linewidth'\u001b[0m\u001b[0;34m:\u001b[0m \u001b[0;36m2\u001b[0m\u001b[0;34m}\u001b[0m\u001b[0;34m\u001b[0m\u001b[0m\n\u001b[1;32m      5\u001b[0m \u001b[0mmin_value\u001b[0m \u001b[0;34m=\u001b[0m \u001b[0;36m0\u001b[0m\u001b[0;34m\u001b[0m\u001b[0m\n",
      "\u001b[0;31mNameError\u001b[0m: name 'sig_only_mc_sf' is not defined"
     ]
    }
   ],
   "source": [
    "sig_only_Data['weight'] = pandas.Series(sig_only_mc_sf, index=sig_only_Data.index)\n",
    "sig_only_Data['process'] = pandas.Series(sig_only_target, index=sig_only_Data.index)\n",
    "\n",
    "hist_params = {'density': True, 'bins': 50, 'linewidth': 2}\n",
    "min_value = 0\n",
    "max_value = 1\n",
    "plt.figure(figsize=(12,6))\n",
    "plt.hist(sig_only_Data[sig_only_Data.process == 1]['score'], color=[\"b\"], weights=sig_only_Data[sig_only_Data.process == 1]['weight'], range=(min_value, max_value), histtype='step', label='Signal', **hist_params)\n",
    "plt.legend(loc='best')\n",
    "plt.xlabel(\"signal score\",fontsize=20)\n",
    "plt.ylabel(\"1/N dN/d(NN Score)\",fontsize=20)"
   ]
  },
  {
   "cell_type": "code",
   "execution_count": null,
   "metadata": {},
   "outputs": [],
   "source": []
  },
  {
   "cell_type": "code",
   "execution_count": null,
   "metadata": {},
   "outputs": [],
   "source": []
  }
 ],
 "metadata": {
  "kernelspec": {
   "display_name": "Python 3",
   "language": "python",
   "name": "python3"
  },
  "language_info": {
   "codemirror_mode": {
    "name": "ipython",
    "version": 3
   },
   "file_extension": ".py",
   "mimetype": "text/x-python",
   "name": "python",
   "nbconvert_exporter": "python",
   "pygments_lexer": "ipython3",
   "version": "3.6.5"
  }
 },
 "nbformat": 4,
 "nbformat_minor": 2
}
