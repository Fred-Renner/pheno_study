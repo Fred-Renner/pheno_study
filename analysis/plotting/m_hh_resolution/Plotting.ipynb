{
 "cells": [
  {
   "cell_type": "markdown",
   "metadata": {},
   "source": [
    "# $m_{hh}$ Resolution Study\n",
    "\n",
    "This code plots $m_{hh}$ at different levels of reconstruction (parton level, truth jets w/ neutrinos, truth jets without neutrinos, reco jets) for $\\kappa_{\\lambda} = 2.5$"
   ]
  },
  {
   "cell_type": "code",
   "execution_count": null,
   "metadata": {},
   "outputs": [],
   "source": [
    "import matplotlib as mpl\n",
    "import matplotlib.pyplot as plt\n",
    "import atlas_mpl_style as ampl\n",
    "import numpy as np\n",
    "import uproot as up\n",
    "from uproot_methods import TLorentzVector"
   ]
  },
  {
   "cell_type": "code",
   "execution_count": null,
   "metadata": {},
   "outputs": [],
   "source": [
    "plt.style.use('print')\n",
    "mpl.rcParams['font.family'] = 'serif'"
   ]
  },
  {
   "cell_type": "markdown",
   "metadata": {},
   "source": [
    "`no-mpi-25.root` is generated from Delphes output using `ExtractTruth.C`"
   ]
  },
  {
   "cell_type": "code",
   "execution_count": null,
   "metadata": {},
   "outputs": [],
   "source": [
    "tree = up.open('no-mpi-25.root')['truth'].arrays(namedecode='utf-8')"
   ]
  },
  {
   "cell_type": "code",
   "execution_count": null,
   "metadata": {},
   "outputs": [],
   "source": [
    "cut = 20\n",
    "def get_jets(name):\n",
    "    # return only events where all four bs have assigned jets#\n",
    "    sel = (tree['reco_jets'].pt >= cut).all() & (np.abs(tree['reco_jets'].eta) < 2.5).all()\n",
    "    return tree[name][sel]\n",
    "\n",
    "plt.figure(figsize=(6,4))\n",
    "res = plt.hist(get_jets('b_quarks').sum().mass,\n",
    "               bins=50,\n",
    "               range=(150, 1250),\n",
    "               color='grey',\n",
    "               alpha=0.25,\n",
    "               label=\"Matrix Element\")\n",
    "plt.xlim(150, 1250)\n",
    "bins = res[1]\n",
    "plt.hist(get_jets('truth_jets_nu').sum().mass,\n",
    "         bins=bins,\n",
    "         histtype='step',\n",
    "         label=\"R = 0.4 Truth Jets (with ν)\",\n",
    "         ec='paper:yellow',\n",
    "         ls='-',\n",
    "         lw=1)\n",
    "plt.hist(get_jets('truth_jets').sum().mass,\n",
    "         bins=bins,\n",
    "         histtype='step',\n",
    "         label=\"R = 0.4 Truth Jets (no ν)\",\n",
    "         ec='paper:blue',\n",
    "         ls='-',\n",
    "         lw=1)\n",
    "plt.hist(get_jets('reco_jets').sum().mass,\n",
    "         bins=bins,\n",
    "         histtype='step',\n",
    "         label=\"R = 0.4 Reconstructed Jets\",\n",
    "         ec='paper:red',\n",
    "         ls='-',\n",
    "         lw=1)\n",
    "#plt.axvline(x=250, lw=0.5, ls='--', color='k')\n",
    "\n",
    "plt.legend()\n",
    "plt.text(180, plt.ylim()[1] - 45, fr\"$\\kappa_{{\\lambda}} = 2.5$, $p^{{min}}_{{T}} = {cut}\\ GeV$\", fontsize=12)\n",
    "ampl.set_xlabel(\"$m_{hh}$ [GeV]\")\n",
    "ampl.set_ylabel(\"Events\")\n",
    "plt.tight_layout()\n",
    "plt.savefig(f'20gev.pdf', dpi=600)\n",
    "plt.close()\n"
   ]
  },
  {
   "cell_type": "code",
   "execution_count": null,
   "metadata": {},
   "outputs": [],
   "source": [
    "j = get_jets('reco_jets')\n",
    "(j.mass!=0).any().any()"
   ]
  },
  {
   "cell_type": "code",
   "execution_count": null,
   "metadata": {},
   "outputs": [],
   "source": [
    "def get_jets(name):\n",
    "    # return only events where all four bs have assigned jets\n",
    "    sel = (tree[name].pt >= 25).all() & (np.abs(tree[name].eta) < 2.5).all()\n",
    "    return tree[name][(~(tree[name].E == 0).any()) & sel]\n",
    "mpl.rcParams['font.size'] = 12\n",
    "plt.figure(figsize=(6,4))\n",
    "res = plt.hist(tree['b_quarks'].sum().mass,\n",
    "               bins='auto',\n",
    "               range=(250, 1250),\n",
    "               color='grey',\n",
    "               alpha=0.25,\n",
    "               label=\"Matrix Element\")\n",
    "bins = res[1]\n",
    "plt.hist(get_jets('truth_jets').sum().mass,\n",
    "         bins=bins,\n",
    "         histtype='stepfilled',\n",
    "         label=r\"Truth Jets ($p_T \\geq 25\\,GeV$, $|\\eta| < 2.5$)\",\n",
    "         ec='paper:blue',\n",
    "         fc=mpl.colors.to_rgba('paper:blue', 0.25),\n",
    "         lw=1)\n",
    "\n",
    "plt.hist(get_jets('truth_jets_nu').sum().mass,\n",
    "        bins=bins,\n",
    "        histtype='step',\n",
    "        label=\"Truth Jets (with ν)\",\n",
    "        color='paper:blue',\n",
    "        ls='-.',\n",
    "        lw=1)\n",
    "# plt.hist(get_jets('truth_jets_vr').sum().mass,\n",
    "#         bins=bins,\n",
    "#         histtype='stepfilled',\n",
    "#         label=\"VR Truth Jets ($p_T \\geq 25 GeV$, $|\\eta| < 2.5$)\",\n",
    "#         lw=1,\n",
    "#         fc=mpl.colors.to_rgba('paper:yellow', 0.25),\n",
    "#         ec='paper:yellow')\n",
    "# plt.hist(get_jets('truth_jets_vr_nu').sum().mass,\n",
    "#         bins=bins,\n",
    "#         histtype='step',\n",
    "#         label=\"VR Truth Jets (with ν)\",\n",
    "#         color='paper:green',\n",
    "#         ls='-.',\n",
    "#         lw=1)\n",
    "plt.text(280, 4000, r\"$\\kappa_{\\lambda} = 2.5$\", fontsize=12, fontweight=500)\n",
    "plt.text(280, 4000, r\"$\\kappa_{\\lambda} = 2.5$\", fontsize=12, fontweight=500)\n",
    "plt.legend()\n",
    "plt.xlim(250, 1250)\n",
    "ampl.set_xlabel(\"$m_{hh}$ [GeV]\")\n",
    "ampl.set_ylabel(\"Events\")\n",
    "plt.tight_layout()\n",
    "plt.savefig('/home/beojan/DPhil/Pheno/PaperDraft/figs/resolution/fr-25-nu.pdf', dpi=300)"
   ]
  },
  {
   "cell_type": "code",
   "execution_count": null,
   "metadata": {},
   "outputs": [],
   "source": [
    "def get_jets(name):\n",
    "    # return only events where all four bs have assigned jets\n",
    "    sel = (tree[name].pt >= 60).any() & (tree[name].pt >= 20).all() & (np.abs(tree[name].eta) < 2.5).all()\n",
    "    return tree[name][(~(tree[name].E == 0).any()) & sel]\n",
    "mpl.rcParams['font.size'] = 12\n",
    "plt.figure(figsize=(6,4))\n",
    "res = plt.hist(tree['b_quarks'].sum().mass,\n",
    "               bins='auto',\n",
    "               range=(250, 1250),\n",
    "               color='grey',\n",
    "               alpha=0.25,\n",
    "               label=\"Matrix Element\")\n",
    "bins = res[1]\n",
    "\n",
    "plt.hist(get_jets('reco_jets').sum().mass,\n",
    "        bins=bins,\n",
    "        histtype='stepfilled',\n",
    "        label=\"Reco Jets\",\n",
    "        lw=1,\n",
    "        fc=mpl.colors.to_rgba('paper:red', 0.25),\n",
    "        ec='paper:red')\n",
    "\n",
    "plt.text(280, 4000, r\"$\\kappa_{\\lambda} = 2.5$\", fontsize=12, fontweight=500)\n",
    "plt.legend()\n",
    "plt.xlim(250, 1250)\n",
    "ampl.set_xlabel(\"$m_{hh}$ [GeV]\")\n",
    "ampl.set_ylabel(\"Events\")\n",
    "plt.tight_layout()\n",
    "plt.savefig('/home/beojan/DPhil/Pheno/PaperDraft/figs/resolution/reco-level.pdf', dpi=300)"
   ]
  },
  {
   "cell_type": "code",
   "execution_count": null,
   "metadata": {},
   "outputs": [],
   "source": []
  }
 ],
 "metadata": {
  "kernelspec": {
   "display_name": "Python 3",
   "language": "python",
   "name": "python3"
  },
  "language_info": {
   "codemirror_mode": {
    "name": "ipython",
    "version": 3
   },
   "file_extension": ".py",
   "mimetype": "text/x-python",
   "name": "python",
   "nbconvert_exporter": "python",
   "pygments_lexer": "ipython3",
   "version": "3.8.2"
  }
 },
 "nbformat": 4,
 "nbformat_minor": 4
}
